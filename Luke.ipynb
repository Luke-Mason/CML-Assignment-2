{
  "nbformat": 4,
  "nbformat_minor": 0,
  "metadata": {
    "kernelspec": {
      "display_name": "Python 3",
      "language": "python",
      "name": "python3"
    },
    "language_info": {
      "codemirror_mode": {
        "name": "ipython",
        "version": 3
      },
      "file_extension": ".py",
      "mimetype": "text/x-python",
      "name": "python",
      "nbconvert_exporter": "python",
      "pygments_lexer": "ipython3",
      "version": "3.8.5"
    },
    "colab": {
      "name": "Luke.ipynb",
      "provenance": [],
      "toc_visible": true,
      "include_colab_link": true
    },
    "accelerator": "TPU"
  },
  "cells": [
    {
      "cell_type": "markdown",
      "metadata": {
        "id": "view-in-github",
        "colab_type": "text"
      },
      "source": [
        "<a href=\"https://colab.research.google.com/github/shekhar-hazari/CML-Assignment-2/blob/main/Luke.ipynb\" target=\"_parent\"><img src=\"https://colab.research.google.com/assets/colab-badge.svg\" alt=\"Open In Colab\"/></a>"
      ]
    },
    {
      "cell_type": "markdown",
      "metadata": {
        "id": "pLEPqJJ1807f"
      },
      "source": [
        "# Assignment 2\n",
        "In this task a cancer cell detection system will be created.\n",
        "\n",
        "Luke Mason - s3630120 \\\n",
        "Shekhar Hazari - s3831855"
      ]
    },
    {
      "cell_type": "markdown",
      "metadata": {
        "id": "rqBXpGbfMZGL"
      },
      "source": [
        "## Setup"
      ]
    },
    {
      "cell_type": "markdown",
      "metadata": {
        "id": "XKx_x1ZJ807t"
      },
      "source": [
        "### Import packages"
      ]
    },
    {
      "cell_type": "code",
      "metadata": {
        "id": "CI073cj-807u"
      },
      "source": [
        "import tensorflow as tf\n",
        "import os\n",
        "import pandas as pd\n",
        "import numpy as np\n",
        "from pandas.api.types import is_string_dtype\n",
        "from pandas.api.types import is_numeric_dtype\n",
        "import matplotlib.pyplot as plt\n",
        "from sklearn.model_selection import train_test_split\n",
        "from PIL import Image\n",
        "from tensorflow.keras.preprocessing.image import ImageDataGenerator"
      ],
      "execution_count": 26,
      "outputs": []
    },
    {
      "cell_type": "markdown",
      "metadata": {
        "id": "D-JMKKjg807v"
      },
      "source": [
        "### Initialise helper functions¶"
      ]
    },
    {
      "cell_type": "code",
      "metadata": {
        "id": "Hb2RttuO807v"
      },
      "source": [
        "def holdout_validation(train_size, X, Y):\n",
        "    \n",
        "    # Get the difference between train and test size, together both make 100% of the raw data set.\n",
        "    test_size = 1 - train_size\n",
        "    \n",
        "    # Split into train and test for normal and target fields set, left overs are for validation and test.\n",
        "    with pd.option_context('mode.chained_assignment', None):\n",
        "        train_X, X_test_, train_Y, Y_test_ = train_test_split(X, Y, test_size=test_size, shuffle=True,random_state=0)\n",
        "\n",
        "    # Split the test data into validation test and test.\n",
        "    # Do for target field and normal fields.\n",
        "    with pd.option_context('mode.chained_assignment', None):\n",
        "         val_X, test_X, val_Y, test_Y = train_test_split(X_test_, Y_test_, test_size=0.5, shuffle=True, random_state=29)\n",
        "    return train_X, val_X, test_X, train_Y, val_Y, test_Y"
      ],
      "execution_count": 18,
      "outputs": []
    },
    {
      "cell_type": "code",
      "metadata": {
        "id": "ho5cuz7TdKcX"
      },
      "source": [
        "def hist_plot(title, columns, colours, nrows, ncols, index_pos, left=0.125, top=0.9, bottom=0.1, right=0.9, wspace=0.3, hspace=0.7):\n",
        "    \"\"\"\n",
        "    Plots a histogram.\n",
        "    :param title:     The title of the histogram.\n",
        "    :param columns:   The data columns to plot on the histogram.\n",
        "    :param colours:   The colours for each data column on the histogram.\n",
        "    :param nrows:     The number of rows in the presentation table.\n",
        "    :param ncols:     The number of columns in the presentation table.\n",
        "    :param index_pos: The index of the histogram on the\n",
        "    :param left:      How far to move away from left.\n",
        "    :param top:       How far to move away from top.\n",
        "    :param bottom:    How far to extend towards bottom.\n",
        "    :param right:     How far to extend boundary towards right.\n",
        "    :param wspace:    Height ratio spacing between plots.\n",
        "    :param hspace:    Width ratio spacing between plots.\n",
        "    :return:\n",
        "    \"\"\"\n",
        "    # Make sub plots space according to parameters.\n",
        "    plt.subplot(nrows,ncols,index_pos)\n",
        "\n",
        "    # Give perfect amount of room around each plot to not overlap text.\n",
        "    plt.subplots_adjust(left=left, bottom=bottom, right=right, top=top, wspace=wspace, hspace=hspace)\n",
        "\n",
        "    # Plot histogram for each column feature and assign corresponding colour.\n",
        "    for index_pos, column in enumerate(columns):\n",
        "        plt.hist(column, alpha=0.3, color=colours[index_pos % len(colours)], density=True)\n",
        "        \n",
        "    plt.title(title)\n",
        "    plt.xticks(rotation='vertical')"
      ],
      "execution_count": 19,
      "outputs": []
    },
    {
      "cell_type": "code",
      "metadata": {
        "id": "engCbj0hdE1C"
      },
      "source": [
        "def train_val_test_split_by_column(dataframe, column, train_size = 0.666, val_size = 0.5):\n",
        "  splitting_IDs = dataframe[column].unique()\n",
        "  train_IDs, test_IDs = train_test_split(splitting_IDs, train_size = train_size)\n",
        "  val_IDs, test_IDs = train_test_split(test_IDs, train_size = val_size)\n",
        "\n",
        "  train_IDs = pd.DataFrame(train_IDs)\n",
        "  train_IDs.rename(columns = {0:column}, inplace = True)\n",
        "  train_IDs['split'] = 'train'\n",
        "\n",
        "  val_IDs = pd.DataFrame(val_IDs)\n",
        "  val_IDs.rename(columns = {0:column}, inplace = True)\n",
        "  val_IDs['split'] = 'validation'\n",
        "\n",
        "  test_IDs = pd.DataFrame(test_IDs)\n",
        "  test_IDs.rename(columns = {0:column}, inplace = True)\n",
        "  test_IDs['split'] = 'test'\n",
        "\n",
        "  splits = pd.concat([train_IDs, val_IDs, test_IDs], ignore_index=True)\n",
        "\n",
        "  dataframe = pd.merge(dataframe, splits, on = column)\n",
        "\n",
        "  train_set = dataframe[dataframe['split'] == 'train']\n",
        "  train_set = train_set.drop(['split'], axis = 1)\n",
        "\n",
        "  validation_set = dataframe[dataframe['split'] == 'validation']\n",
        "  validation_set = validation_set.drop(['split'], axis = 1)\n",
        "\n",
        "  test_set = dataframe[dataframe['split'] == 'test']\n",
        "  test_set = test_set.drop(['split'], axis = 1)\n",
        "\n",
        "  return train_set, validation_set, test_set"
      ],
      "execution_count": 20,
      "outputs": []
    },
    {
      "cell_type": "code",
      "metadata": {
        "id": "eq4DV0L6dE7s"
      },
      "source": [
        "def plot_learning_curve(train_loss, val_loss, train_metric, val_metric, \n",
        "                        metric_name='Accuracy', test_loss=\"\", test_metric=\"\"):\n",
        "    plt.figure(figsize=(10,5))\n",
        "    \n",
        "    plt.subplot(1,2,1)\n",
        "    plt.plot(train_loss, 'r--')\n",
        "    plt.plot(val_loss, 'b--')\n",
        "    if test_loss != \"\":\n",
        "      plt.plot(test_loss, 'g--')\n",
        "    plt.xlabel(\"epochs\")\n",
        "    plt.ylabel(\"Loss\")\n",
        "    plt.legend(['train', 'val'], loc='upper left')\n",
        "\n",
        "    plt.subplot(1,2,2)\n",
        "    plt.plot(train_metric, 'r--')\n",
        "    plt.plot(val_metric, 'b--')\n",
        "    if test_metric != \"\":\n",
        "      plt.plot(test_metric, 'g--')\n",
        "    plt.xlabel(\"epochs\")\n",
        "    plt.ylabel(metric_name)\n",
        "    plt.legend(['train', 'val'], loc='upper left')\n",
        "\n",
        "    plt.show()"
      ],
      "execution_count": 21,
      "outputs": []
    },
    {
      "cell_type": "code",
      "metadata": {
        "id": "Zu0qdVsmdE9U"
      },
      "source": [
        "def get_imagery_data_sets(train_set, validation_set, test_set, directory, \n",
        "                          x_col, y_col, batch_size):\n",
        "  \n",
        "  # Make target feature a string so that the categorical class_mode can categorise it.\n",
        "  train_set[y_col] = train_set[y_col].astype('str')\n",
        "  validation_set[y_col] = validation_set[y_col].astype('str')\n",
        "  test_set[y_col] = test_set[y_col].astype('str')\n",
        "\n",
        "  train_datagen = ImageDataGenerator(rescale=1./255, data_format='channels_last')\n",
        "  val_datagen = ImageDataGenerator(rescale=1./255, data_format='channels_last')\n",
        "  test_datagen = ImageDataGenerator(rescale=1./255, data_format='channels_last')\n",
        "  \n",
        "  # The parameters that all data set generators have in common.\n",
        "  generator_parameters = dict(\n",
        "      directory=directory,\n",
        "      x_col=\"ImageName\",\n",
        "      y_col=\"isCancerous\",\n",
        "      target_size=(27, 27),\n",
        "      class_mode='categorical')\n",
        "  \n",
        "  # Train set generator to evaluate produce dataframe with train images.\n",
        "  train_imagery_set = train_datagen.flow_from_dataframe(\n",
        "          dataframe=train_set,\n",
        "          batch_size=batch_size,\n",
        "          **generator_parameters)\n",
        "\n",
        "  # Validation set generator to evaluate produce dataframe with validation images.\n",
        "  val_imagery_set = val_datagen.flow_from_dataframe(\n",
        "          dataframe=validation_set,\n",
        "          batch_size=batch_size,\n",
        "          **generator_parameters)\n",
        "\n",
        "  # Test set generator to evaluate produce dataframe with test images.\n",
        "  test_imagery_set = test_datagen.flow_from_dataframe(\n",
        "          dataframe=test_set,\n",
        "          batch_size=1,\n",
        "          **generator_parameters)\n",
        "  \n",
        "  return train_imagery_set, val_imagery_set, test_imagery_set"
      ],
      "execution_count": 22,
      "outputs": []
    },
    {
      "cell_type": "markdown",
      "metadata": {
        "id": "oU0Wjtk_807w"
      },
      "source": [
        "### Unzip zipped data"
      ]
    },
    {
      "cell_type": "code",
      "metadata": {
        "id": "RNfQletN807w",
        "colab": {
          "base_uri": "https://localhost:8080/"
        },
        "outputId": "794091e0-d752-4132-a6a9-2c41c08a434f"
      },
      "source": [
        "from google.colab import drive\n",
        "drive.mount('/content/drive', force_remount=True)"
      ],
      "execution_count": 5,
      "outputs": [
        {
          "output_type": "stream",
          "text": [
            "Mounted at /content/drive\n"
          ],
          "name": "stdout"
        }
      ]
    },
    {
      "cell_type": "code",
      "metadata": {
        "id": "e_PXR8z-807y",
        "colab": {
          "base_uri": "https://localhost:8080/"
        },
        "outputId": "10c1edb2-7428-456c-bee2-28f6ea2d74c1"
      },
      "source": [
        "# Change according to your directory structure\n",
        "!cp /content/drive/'My Drive'/CML-Assignment-2/Image_classification_data.zip .\n",
        "!unzip -q -o Image_classification_data.zip\n",
        "!rm Image_classification_data.zip\n",
        "!ls"
      ],
      "execution_count": 6,
      "outputs": [
        {
          "output_type": "stream",
          "text": [
            "data_labels_extraData.csv  drive     patch_images\n",
            "data_labels_mainData.csv   __MACOSX  sample_data\n"
          ],
          "name": "stdout"
        }
      ]
    },
    {
      "cell_type": "markdown",
      "metadata": {
        "id": "iTVHd1WIgU2x"
      },
      "source": [
        "### Load the data\n",
        "This data contains both the cell type and isCancerous labels."
      ]
    },
    {
      "cell_type": "code",
      "metadata": {
        "id": "OPwo9mZwgS6T"
      },
      "source": [
        "main_data = pd.read_csv('./data_labels_mainData.csv', delimiter=',')\n",
        "extra_data = pd.read_csv('./data_labels_extraData.csv', delimiter=',')"
      ],
      "execution_count": 7,
      "outputs": []
    },
    {
      "cell_type": "markdown",
      "metadata": {
        "id": "Ln_1NtGHgK1Z"
      },
      "source": [
        "## 1 - Exploratory Data Analysis\n",
        "The data is assumed to be made of entirely by newborn babies according to the assignment forums.\\"
      ]
    },
    {
      "cell_type": "markdown",
      "metadata": {
        "id": "K6_ioO1MJI4F"
      },
      "source": [
        "### 1.1 - Main Data Set"
      ]
    },
    {
      "cell_type": "markdown",
      "metadata": {
        "id": "jf0Bfcj8hWef"
      },
      "source": [
        "#### 1.1.1 - Splitting the data\n",
        "Splitting the main dataset into train, validation and test sets"
      ]
    },
    {
      "cell_type": "code",
      "metadata": {
        "id": "w4OAnD1rhgsO"
      },
      "source": [
        "main_train_set, main_validation_set, main_test_set = train_val_test_split_by_column(main_data, 'patientID')"
      ],
      "execution_count": 11,
      "outputs": []
    },
    {
      "cell_type": "code",
      "metadata": {
        "id": "P8zB37UyhiN4",
        "colab": {
          "base_uri": "https://localhost:8080/"
        },
        "outputId": "4ac608b7-aa1f-4291-c353-848398a29107"
      },
      "source": [
        "print('Overall ferquency of isCancerous:')\n",
        "print(main_data.isCancerous.value_counts().to_frame())\n",
        "\n",
        "print('Frequency of isCancerous in training data: ')\n",
        "print(main_train_set.isCancerous.value_counts().to_frame())\n",
        "\n",
        "print('Frequency of isCancerous in validation data: ')\n",
        "print(main_validation_set.isCancerous.value_counts().to_frame())\n",
        "\n",
        "print('Frequency of isCancerous in test data: ')\n",
        "print(main_test_set.isCancerous.value_counts().to_frame())"
      ],
      "execution_count": 12,
      "outputs": [
        {
          "output_type": "stream",
          "text": [
            "Overall ferquency of isCancerous:\n",
            "   isCancerous\n",
            "0         5817\n",
            "1         4079\n",
            "Frequency of isCancerous in training data: \n",
            "   isCancerous\n",
            "0         3687\n",
            "1         2338\n",
            "Frequency of isCancerous in validation data: \n",
            "   isCancerous\n",
            "1         1215\n",
            "0          814\n",
            "Frequency of isCancerous in test data: \n",
            "   isCancerous\n",
            "0         1316\n",
            "1          526\n"
          ],
          "name": "stdout"
        }
      ]
    },
    {
      "cell_type": "code",
      "metadata": {
        "id": "e1uTssCbW6Zb",
        "colab": {
          "base_uri": "https://localhost:8080/",
          "height": 294
        },
        "outputId": "614f91eb-e5b7-4921-9797-1713e333c063"
      },
      "source": [
        "# Graph the results\n",
        "plt.figure(figsize=(3,3))\n",
        "col = \"cellTypeName\"\n",
        "hist_plot(col, [main_train_set[col], main_validation_set[col], main_test_set[col]], ['r', 'y', 'b'], 1, 1, 1)"
      ],
      "execution_count": null,
      "outputs": [
        {
          "output_type": "display_data",
          "data": {
            "image/png": "[encoded data removed]",
            "text/plain": [
              "<Figure size 216x216 with 1 Axes>"
            ]
          },
          "metadata": {
            "tags": [],
            "needs_background": "light"
          }
        }
      ]
    },
    {
      "cell_type": "markdown",
      "metadata": {
        "id": "mHh9XhSpVmpR"
      },
      "source": [
        "🧐 **Observations:**\n",
        "> - Epithelial cell type is evenly distributed over the train, validation and test set, but the other types are not.\n",
        "\n",
        "👨🏻‍🎓 **Conclusions**\n",
        "> - "
      ]
    },
    {
      "cell_type": "markdown",
      "metadata": {
        "id": "vUjVCFw1OISi"
      },
      "source": [
        "#### 1.1.2 - Preview\n",
        "Previewing the contents of the main data set."
      ]
    },
    {
      "cell_type": "code",
      "metadata": {
        "id": "dEOzqQwH807z",
        "colab": {
          "base_uri": "https://localhost:8080/",
          "height": 288
        },
        "outputId": "4e1bf1d2-1d4b-496f-d399-de1b2cf47122"
      },
      "source": [
        "main_data.describe()"
      ],
      "execution_count": null,
      "outputs": [
        {
          "output_type": "execute_result",
          "data": {
            "text/html": [
              "<div>\n",
              "<style scoped>\n",
              "    .dataframe tbody tr th:only-of-type {\n",
              "        vertical-align: middle;\n",
              "    }\n",
              "\n",
              "    .dataframe tbody tr th {\n",
              "        vertical-align: top;\n",
              "    }\n",
              "\n",
              "    .dataframe thead th {\n",
              "        text-align: right;\n",
              "    }\n",
              "</style>\n",
              "<table border=\"1\" class=\"dataframe\">\n",
              "  <thead>\n",
              "    <tr style=\"text-align: right;\">\n",
              "      <th></th>\n",
              "      <th>InstanceID</th>\n",
              "      <th>patientID</th>\n",
              "      <th>cellType</th>\n",
              "      <th>isCancerous</th>\n",
              "    </tr>\n",
              "  </thead>\n",
              "  <tbody>\n",
              "    <tr>\n",
              "      <th>count</th>\n",
              "      <td>9896.000000</td>\n",
              "      <td>9896.000000</td>\n",
              "      <td>9896.000000</td>\n",
              "      <td>9896.000000</td>\n",
              "    </tr>\n",
              "    <tr>\n",
              "      <th>mean</th>\n",
              "      <td>10193.880154</td>\n",
              "      <td>29.762025</td>\n",
              "      <td>1.501516</td>\n",
              "      <td>0.412187</td>\n",
              "    </tr>\n",
              "    <tr>\n",
              "      <th>std</th>\n",
              "      <td>6652.912660</td>\n",
              "      <td>17.486553</td>\n",
              "      <td>0.954867</td>\n",
              "      <td>0.492253</td>\n",
              "    </tr>\n",
              "    <tr>\n",
              "      <th>min</th>\n",
              "      <td>1.000000</td>\n",
              "      <td>1.000000</td>\n",
              "      <td>0.000000</td>\n",
              "      <td>0.000000</td>\n",
              "    </tr>\n",
              "    <tr>\n",
              "      <th>25%</th>\n",
              "      <td>4135.750000</td>\n",
              "      <td>14.000000</td>\n",
              "      <td>1.000000</td>\n",
              "      <td>0.000000</td>\n",
              "    </tr>\n",
              "    <tr>\n",
              "      <th>50%</th>\n",
              "      <td>9279.500000</td>\n",
              "      <td>26.000000</td>\n",
              "      <td>2.000000</td>\n",
              "      <td>0.000000</td>\n",
              "    </tr>\n",
              "    <tr>\n",
              "      <th>75%</th>\n",
              "      <td>16821.250000</td>\n",
              "      <td>47.000000</td>\n",
              "      <td>2.000000</td>\n",
              "      <td>1.000000</td>\n",
              "    </tr>\n",
              "    <tr>\n",
              "      <th>max</th>\n",
              "      <td>22444.000000</td>\n",
              "      <td>60.000000</td>\n",
              "      <td>3.000000</td>\n",
              "      <td>1.000000</td>\n",
              "    </tr>\n",
              "  </tbody>\n",
              "</table>\n",
              "</div>"
            ],
            "text/plain": [
              "         InstanceID    patientID     cellType  isCancerous\n",
              "count   9896.000000  9896.000000  9896.000000  9896.000000\n",
              "mean   10193.880154    29.762025     1.501516     0.412187\n",
              "std     6652.912660    17.486553     0.954867     0.492253\n",
              "min        1.000000     1.000000     0.000000     0.000000\n",
              "25%     4135.750000    14.000000     1.000000     0.000000\n",
              "50%     9279.500000    26.000000     2.000000     0.000000\n",
              "75%    16821.250000    47.000000     2.000000     1.000000\n",
              "max    22444.000000    60.000000     3.000000     1.000000"
            ]
          },
          "metadata": {
            "tags": []
          },
          "execution_count": 189
        }
      ]
    },
    {
      "cell_type": "code",
      "metadata": {
        "id": "GVjeLIvA8070",
        "colab": {
          "base_uri": "https://localhost:8080/",
          "height": 198
        },
        "outputId": "5dda6cca-8ba3-45f4-c35d-c473329861e6"
      },
      "source": [
        "main_data.head()"
      ],
      "execution_count": null,
      "outputs": [
        {
          "output_type": "execute_result",
          "data": {
            "text/html": [
              "<div>\n",
              "<style scoped>\n",
              "    .dataframe tbody tr th:only-of-type {\n",
              "        vertical-align: middle;\n",
              "    }\n",
              "\n",
              "    .dataframe tbody tr th {\n",
              "        vertical-align: top;\n",
              "    }\n",
              "\n",
              "    .dataframe thead th {\n",
              "        text-align: right;\n",
              "    }\n",
              "</style>\n",
              "<table border=\"1\" class=\"dataframe\">\n",
              "  <thead>\n",
              "    <tr style=\"text-align: right;\">\n",
              "      <th></th>\n",
              "      <th>InstanceID</th>\n",
              "      <th>patientID</th>\n",
              "      <th>ImageName</th>\n",
              "      <th>cellTypeName</th>\n",
              "      <th>cellType</th>\n",
              "      <th>isCancerous</th>\n",
              "    </tr>\n",
              "  </thead>\n",
              "  <tbody>\n",
              "    <tr>\n",
              "      <th>0</th>\n",
              "      <td>22405</td>\n",
              "      <td>1</td>\n",
              "      <td>22405.png</td>\n",
              "      <td>fibroblast</td>\n",
              "      <td>0</td>\n",
              "      <td>0</td>\n",
              "    </tr>\n",
              "    <tr>\n",
              "      <th>1</th>\n",
              "      <td>22406</td>\n",
              "      <td>1</td>\n",
              "      <td>22406.png</td>\n",
              "      <td>fibroblast</td>\n",
              "      <td>0</td>\n",
              "      <td>0</td>\n",
              "    </tr>\n",
              "    <tr>\n",
              "      <th>2</th>\n",
              "      <td>22407</td>\n",
              "      <td>1</td>\n",
              "      <td>22407.png</td>\n",
              "      <td>fibroblast</td>\n",
              "      <td>0</td>\n",
              "      <td>0</td>\n",
              "    </tr>\n",
              "    <tr>\n",
              "      <th>3</th>\n",
              "      <td>22408</td>\n",
              "      <td>1</td>\n",
              "      <td>22408.png</td>\n",
              "      <td>fibroblast</td>\n",
              "      <td>0</td>\n",
              "      <td>0</td>\n",
              "    </tr>\n",
              "    <tr>\n",
              "      <th>4</th>\n",
              "      <td>22409</td>\n",
              "      <td>1</td>\n",
              "      <td>22409.png</td>\n",
              "      <td>fibroblast</td>\n",
              "      <td>0</td>\n",
              "      <td>0</td>\n",
              "    </tr>\n",
              "  </tbody>\n",
              "</table>\n",
              "</div>"
            ],
            "text/plain": [
              "   InstanceID  patientID  ImageName cellTypeName  cellType  isCancerous\n",
              "0       22405          1  22405.png   fibroblast         0            0\n",
              "1       22406          1  22406.png   fibroblast         0            0\n",
              "2       22407          1  22407.png   fibroblast         0            0\n",
              "3       22408          1  22408.png   fibroblast         0            0\n",
              "4       22409          1  22409.png   fibroblast         0            0"
            ]
          },
          "metadata": {
            "tags": []
          },
          "execution_count": 190
        }
      ]
    },
    {
      "cell_type": "code",
      "metadata": {
        "colab": {
          "base_uri": "https://localhost:8080/"
        },
        "id": "dRxdm5yKfLAm",
        "outputId": "d8d64d20-2a6a-45d3-e288-c5b6ca90d666"
      },
      "source": [
        "main_data.info()"
      ],
      "execution_count": null,
      "outputs": [
        {
          "output_type": "stream",
          "text": [
            "<class 'pandas.core.frame.DataFrame'>\n",
            "RangeIndex: 9896 entries, 0 to 9895\n",
            "Data columns (total 6 columns):\n",
            " #   Column        Non-Null Count  Dtype \n",
            "---  ------        --------------  ----- \n",
            " 0   InstanceID    9896 non-null   int64 \n",
            " 1   patientID     9896 non-null   int64 \n",
            " 2   ImageName     9896 non-null   object\n",
            " 3   cellTypeName  9896 non-null   object\n",
            " 4   cellType      9896 non-null   int64 \n",
            " 5   isCancerous   9896 non-null   int64 \n",
            "dtypes: int64(4), object(2)\n",
            "memory usage: 464.0+ KB\n"
          ],
          "name": "stdout"
        }
      ]
    },
    {
      "cell_type": "code",
      "metadata": {
        "colab": {
          "base_uri": "https://localhost:8080/"
        },
        "id": "juKROfLZQaY0",
        "outputId": "9653aa38-da7f-4252-87e3-cc4972802356"
      },
      "source": [
        "df1 = main_data.groupby(['cellTypeName', 'cellType'])['InstanceID'].nunique()\n",
        "df2 = main_data.groupby(['isCancerous'])['InstanceID'].nunique()\n",
        "print(df1)\n",
        "print(df2)"
      ],
      "execution_count": null,
      "outputs": [
        {
          "output_type": "stream",
          "text": [
            "cellTypeName  cellType\n",
            "epithelial    2           4079\n",
            "fibroblast    0           1888\n",
            "inflammatory  1           2543\n",
            "others        3           1386\n",
            "Name: InstanceID, dtype: int64\n",
            "isCancerous\n",
            "0    5817\n",
            "1    4079\n",
            "Name: InstanceID, dtype: int64\n"
          ],
          "name": "stdout"
        }
      ]
    },
    {
      "cell_type": "markdown",
      "metadata": {
        "id": "LE4UfwwRIy0Z"
      },
      "source": [
        "🧐 **Observations:**\n",
        "> - The different columns have different data typees and is not uniform\n",
        "> - ImageName contains the image file name the results reference\n",
        "> - isCancerous is the main target column\n",
        "> - cellType is likely the secondary target column, and derived from isCancerous, and not the vice versa.\n",
        "> - cellType is the encoded version of cellTypeName\n",
        "\n",
        "👨🏻‍🎓 **Conclusions**\n",
        "> - Make the data types over the dataset uniform, either into type string or object.\n",
        "> - Use cellType instead of the cellTypeName\n",
        "> - "
      ]
    },
    {
      "cell_type": "markdown",
      "metadata": {
        "id": "Lm78hqWHQCqf"
      },
      "source": [
        "Preview the image data via cell type"
      ]
    },
    {
      "cell_type": "code",
      "metadata": {
        "id": "4UIxguzJReLo",
        "colab": {
          "base_uri": "https://localhost:8080/"
        },
        "outputId": "233b5dc2-a930-4ae8-e423-1ff13b550e72"
      },
      "source": [
        "label_names = {k: v for k, v in df1.keys()}\n",
        "cellTypes = {v: k for k, v in label_names.items()}\n",
        "print(label_names)\n",
        "print(cellTypes)"
      ],
      "execution_count": null,
      "outputs": [
        {
          "output_type": "stream",
          "text": [
            "{'epithelial': 2, 'fibroblast': 0, 'inflammatory': 1, 'others': 3}\n",
            "{2: 'epithelial', 0: 'fibroblast', 1: 'inflammatory', 3: 'others'}\n"
          ],
          "name": "stdout"
        }
      ]
    },
    {
      "cell_type": "code",
      "metadata": {
        "id": "BUED11icHvbj",
        "colab": {
          "base_uri": "https://localhost:8080/",
          "height": 642
        },
        "outputId": "863245c5-41ca-48bb-c6dd-5c45bb6eb1a0"
      },
      "source": [
        "img_list = list(main_train_set[\"ImageName\"])\n",
        "types = list(main_train_set[\"cellType\"])\n",
        "target_list = list(main_train_set[\"isCancerous\"])\n",
        "target_labels = {1: \"Cancerous\", 0: \"Non-Cancerous\"}\n",
        "\n",
        "plt.figure(figsize=[25,12])\n",
        "\n",
        "for i in np.arange(40):\n",
        "  plt.subplot(4, 10, i + 1)\n",
        "  img = Image.open('./patch_images/' + img_list[i])\n",
        "\n",
        "  plt.imshow(img)\n",
        "  plt.title(cellTypes[types[i]] + \"\\n\" + target_labels[target_list[i]])"
      ],
      "execution_count": null,
      "outputs": [
        {
          "output_type": "display_data",
          "data": {
            "image/png": "[encoded data removed]",
            "text/plain": [
              "<Figure size 1800x864 with 40 Axes>"
            ]
          },
          "metadata": {
            "tags": [],
            "needs_background": "light"
          }
        }
      ]
    },
    {
      "cell_type": "code",
      "metadata": {
        "id": "xDEjfbUdHqYW",
        "colab": {
          "base_uri": "https://localhost:8080/"
        },
        "outputId": "cef0ff1f-f6e0-44d2-f133-5d6147dd0ac8"
      },
      "source": [
        "# Check image sizes\n",
        "img = Image.open('./patch_images/' + img_list[100])\n",
        "img_numpy = np.ascontiguousarray(img, dtype=np.float32)\n",
        "print(\"Image size: \\nH:{} W:{} C:{}\".format(img_numpy.shape[0], img_numpy.shape[1], img_numpy.shape[2]))"
      ],
      "execution_count": null,
      "outputs": [
        {
          "output_type": "stream",
          "text": [
            "Image size: \n",
            "H:27 W:27 C:3\n"
          ],
          "name": "stdout"
        }
      ]
    },
    {
      "cell_type": "markdown",
      "metadata": {
        "id": "Ncjxda2YcLCx"
      },
      "source": [
        "🧐 **Observations:**\n",
        "> - \n",
        "\n",
        "👨🏻‍🎓 **Conclusions**\n",
        "> - "
      ]
    },
    {
      "cell_type": "markdown",
      "metadata": {
        "id": "YC7FqgXWfWUP"
      },
      "source": [
        "#### 1.1.3 - Transformation\n",
        "Set all types to be of type Object. We do this because all the variables are categorical, they don't have any continuous values, so it's easier while creating visualizations."
      ]
    },
    {
      "cell_type": "code",
      "metadata": {
        "id": "l2KWLokDfYTk"
      },
      "source": [
        "for column in main_data.columns:\n",
        "  main_data[column] = main_data[column].astype('object')"
      ],
      "execution_count": null,
      "outputs": []
    },
    {
      "cell_type": "code",
      "metadata": {
        "colab": {
          "base_uri": "https://localhost:8080/"
        },
        "id": "y6wQgh9kfWAC",
        "outputId": "2e346a43-4b60-48d6-f578-c00cd4c24659"
      },
      "source": [
        "print(main_data.info())"
      ],
      "execution_count": null,
      "outputs": [
        {
          "output_type": "stream",
          "text": [
            "<class 'pandas.core.frame.DataFrame'>\n",
            "RangeIndex: 9896 entries, 0 to 9895\n",
            "Data columns (total 6 columns):\n",
            " #   Column        Non-Null Count  Dtype \n",
            "---  ------        --------------  ----- \n",
            " 0   InstanceID    9896 non-null   object\n",
            " 1   patientID     9896 non-null   object\n",
            " 2   ImageName     9896 non-null   object\n",
            " 3   cellTypeName  9896 non-null   object\n",
            " 4   cellType      9896 non-null   object\n",
            " 5   isCancerous   9896 non-null   object\n",
            "dtypes: object(6)\n",
            "memory usage: 464.0+ KB\n",
            "None\n"
          ],
          "name": "stdout"
        }
      ]
    },
    {
      "cell_type": "code",
      "metadata": {
        "colab": {
          "base_uri": "https://localhost:8080/",
          "height": 168
        },
        "id": "jq7X2FIwfx-2",
        "outputId": "87dbf43b-033b-45b7-9152-63fa138d4ef1"
      },
      "source": [
        "main_data.describe(include=['object'])"
      ],
      "execution_count": null,
      "outputs": [
        {
          "output_type": "execute_result",
          "data": {
            "text/html": [
              "<div>\n",
              "<style scoped>\n",
              "    .dataframe tbody tr th:only-of-type {\n",
              "        vertical-align: middle;\n",
              "    }\n",
              "\n",
              "    .dataframe tbody tr th {\n",
              "        vertical-align: top;\n",
              "    }\n",
              "\n",
              "    .dataframe thead th {\n",
              "        text-align: right;\n",
              "    }\n",
              "</style>\n",
              "<table border=\"1\" class=\"dataframe\">\n",
              "  <thead>\n",
              "    <tr style=\"text-align: right;\">\n",
              "      <th></th>\n",
              "      <th>InstanceID</th>\n",
              "      <th>patientID</th>\n",
              "      <th>ImageName</th>\n",
              "      <th>cellTypeName</th>\n",
              "      <th>cellType</th>\n",
              "      <th>isCancerous</th>\n",
              "    </tr>\n",
              "  </thead>\n",
              "  <tbody>\n",
              "    <tr>\n",
              "      <th>count</th>\n",
              "      <td>9896</td>\n",
              "      <td>9896</td>\n",
              "      <td>9896</td>\n",
              "      <td>9896</td>\n",
              "      <td>9896</td>\n",
              "      <td>9896</td>\n",
              "    </tr>\n",
              "    <tr>\n",
              "      <th>unique</th>\n",
              "      <td>9896</td>\n",
              "      <td>60</td>\n",
              "      <td>9896</td>\n",
              "      <td>4</td>\n",
              "      <td>4</td>\n",
              "      <td>2</td>\n",
              "    </tr>\n",
              "    <tr>\n",
              "      <th>top</th>\n",
              "      <td>972</td>\n",
              "      <td>54</td>\n",
              "      <td>8888.png</td>\n",
              "      <td>epithelial</td>\n",
              "      <td>2</td>\n",
              "      <td>0</td>\n",
              "    </tr>\n",
              "    <tr>\n",
              "      <th>freq</th>\n",
              "      <td>1</td>\n",
              "      <td>389</td>\n",
              "      <td>1</td>\n",
              "      <td>4079</td>\n",
              "      <td>4079</td>\n",
              "      <td>5817</td>\n",
              "    </tr>\n",
              "  </tbody>\n",
              "</table>\n",
              "</div>"
            ],
            "text/plain": [
              "        InstanceID  patientID ImageName cellTypeName  cellType  isCancerous\n",
              "count         9896       9896      9896         9896      9896         9896\n",
              "unique        9896         60      9896            4         4            2\n",
              "top            972         54  8888.png   epithelial         2            0\n",
              "freq             1        389         1         4079      4079         5817"
            ]
          },
          "metadata": {
            "tags": []
          },
          "execution_count": 198
        }
      ]
    },
    {
      "cell_type": "markdown",
      "metadata": {
        "id": "LxBGp2P-IxUZ"
      },
      "source": [
        "🧐 **Observations:**\n",
        "> - \n",
        "\n",
        "👨🏻‍🎓 **Conclusions**\n",
        "> - "
      ]
    },
    {
      "cell_type": "markdown",
      "metadata": {
        "id": "wrCIkdp1hIwq"
      },
      "source": [
        "#### 1.1.4 - Examination\n",
        "Examining the data's distribution via bucketing the categories.\n",
        "\n"
      ]
    },
    {
      "cell_type": "code",
      "metadata": {
        "colab": {
          "base_uri": "https://localhost:8080/",
          "height": 370
        },
        "id": "a8W2oBZXf1uM",
        "outputId": "68dd55a4-615c-4378-81ab-ad84cf746e4b"
      },
      "source": [
        "pd.crosstab(main_data['cellTypeName'], main_data['isCancerous'], margins = False).plot.bar(stacked = True,\n",
        "                                                                                            title = 'Frequency of cell types',\n",
        "                                                                                            xlabel = 'Cell Type',\n",
        "                                                                                            ylabel = 'Number of Images')"
      ],
      "execution_count": null,
      "outputs": [
        {
          "output_type": "execute_result",
          "data": {
            "text/plain": [
              "<matplotlib.axes._subplots.AxesSubplot at 0x7f73793153d0>"
            ]
          },
          "metadata": {
            "tags": []
          },
          "execution_count": 199
        },
        {
          "output_type": "display_data",
          "data": {
            "image/png": "[encoded data removed]",
            "text/plain": [
              "<Figure size 432x288 with 1 Axes>"
            ]
          },
          "metadata": {
            "tags": [],
            "needs_background": "light"
          }
        }
      ]
    },
    {
      "cell_type": "markdown",
      "metadata": {
        "id": "S27_ZXj_Ir8z"
      },
      "source": [
        "🧐 **Observations:**\n",
        "> - \n",
        "\n",
        "👨🏻‍🎓 **Conclusions**\n",
        "> - "
      ]
    },
    {
      "cell_type": "code",
      "metadata": {
        "colab": {
          "base_uri": "https://localhost:8080/",
          "height": 316
        },
        "id": "aHmVcr7YhI5b",
        "outputId": "1507e5bf-4439-40e7-a9d8-888b369444c7"
      },
      "source": [
        "main_data.patientID.value_counts().nlargest(5).to_frame().plot(kind = 'bar', title = 'Top 5 Patients by number of images',\n",
        "                                                               xlabel = 'Patient ID', ylabel = 'Number of images', legend = False,\n",
        "                                                               label = True)"
      ],
      "execution_count": null,
      "outputs": [
        {
          "output_type": "execute_result",
          "data": {
            "text/plain": [
              "<matplotlib.axes._subplots.AxesSubplot at 0x7f7388121650>"
            ]
          },
          "metadata": {
            "tags": []
          },
          "execution_count": 200
        },
        {
          "output_type": "display_data",
          "data": {
            "image/png": "[encoded data removed]",
            "text/plain": [
              "<Figure size 432x288 with 1 Axes>"
            ]
          },
          "metadata": {
            "tags": [],
            "needs_background": "light"
          }
        }
      ]
    },
    {
      "cell_type": "code",
      "metadata": {
        "colab": {
          "base_uri": "https://localhost:8080/",
          "height": 316
        },
        "id": "ZdA76AabhI_A",
        "outputId": "ef22e68f-8a73-42b0-d7be-0ddf128e3c05"
      },
      "source": [
        "main_data.patientID.value_counts().nsmallest(5).to_frame().plot(kind = 'bar', title = 'Bottom 5 Patients by number of images',\n",
        "                                                                xlabel = 'Patient ID', ylabel = 'Number of images', legend = False)"
      ],
      "execution_count": null,
      "outputs": [
        {
          "output_type": "execute_result",
          "data": {
            "text/plain": [
              "<matplotlib.axes._subplots.AxesSubplot at 0x7f73791fa490>"
            ]
          },
          "metadata": {
            "tags": []
          },
          "execution_count": 201
        },
        {
          "output_type": "display_data",
          "data": {
            "image/png": "[encoded data removed]",
            "text/plain": [
              "<Figure size 432x288 with 1 Axes>"
            ]
          },
          "metadata": {
            "tags": [],
            "needs_background": "light"
          }
        }
      ]
    },
    {
      "cell_type": "markdown",
      "metadata": {
        "id": "IhzjzSiFIkvP"
      },
      "source": [
        "🧐 **Observations:**\n",
        "> - \n",
        "\n",
        "👨🏻‍🎓 **Conclusions**\n",
        "> - "
      ]
    },
    {
      "cell_type": "markdown",
      "metadata": {
        "id": "0uBKhz5F8070"
      },
      "source": [
        "### 1.2 - Extra Data Set"
      ]
    },
    {
      "cell_type": "markdown",
      "metadata": {
        "id": "H9mRmvIMjtNC"
      },
      "source": [
        "#### 1.2.1 - Splitting the data"
      ]
    },
    {
      "cell_type": "code",
      "metadata": {
        "id": "UELrkdhVjwc6"
      },
      "source": [
        "extra_train_set, extra_validation_set, extra_test_set = train_val_test_split_by_column(extra_data, 'patientID')"
      ],
      "execution_count": null,
      "outputs": []
    },
    {
      "cell_type": "code",
      "metadata": {
        "id": "ENLje1UKjwc6",
        "colab": {
          "base_uri": "https://localhost:8080/"
        },
        "outputId": "43fedbc4-6e44-44cb-d4d3-72a43e1a7852"
      },
      "source": [
        "print('Overall ferquency of isCancerous:')\n",
        "print(extra_data.isCancerous.value_counts().to_frame())\n",
        "\n",
        "print('Frequency of isCancerous in training data: ')\n",
        "print(extra_train_set.isCancerous.value_counts().to_frame())\n",
        "\n",
        "print('Frequency of isCancerous in validation data: ')\n",
        "print(extra_validation_set.isCancerous.value_counts().to_frame())\n",
        "\n",
        "print('Frequency of isCancerous in test data: ')\n",
        "print(extra_test_set.isCancerous.value_counts().to_frame())"
      ],
      "execution_count": null,
      "outputs": [
        {
          "output_type": "stream",
          "text": [
            "Overall ferquency of isCancerous:\n",
            "   isCancerous\n",
            "0         7394\n",
            "1         2990\n",
            "Frequency of isCancerous in training data: \n",
            "   isCancerous\n",
            "0         4774\n",
            "1         1981\n",
            "Frequency of isCancerous in validation data: \n",
            "   isCancerous\n",
            "0          917\n",
            "1          783\n",
            "Frequency of isCancerous in test data: \n",
            "   isCancerous\n",
            "0         1703\n",
            "1          226\n"
          ],
          "name": "stdout"
        }
      ]
    },
    {
      "cell_type": "code",
      "metadata": {
        "id": "Be0zSg95W71S",
        "colab": {
          "base_uri": "https://localhost:8080/"
        },
        "outputId": "563855a0-660e-4ebb-d840-826d246b9999"
      },
      "source": [
        "# Graph the results\n",
        "plt.figure(figsize=(3,3))\n",
        "col = \"isCancerous\"\n",
        "hist_plot(col, [extra_train_set[col], main_validation_set[col], main_test_set[col]], ['r', 'y', 'b'], 1, 1, 1)"
      ],
      "execution_count": null,
      "outputs": [
        {
          "output_type": "display_data",
          "data": {
            "image/png": "[encoded data removed]",
            "text/plain": [
              "<Figure size 216x216 with 1 Axes>"
            ]
          },
          "metadata": {
            "tags": [],
            "needs_background": "light"
          }
        }
      ]
    },
    {
      "cell_type": "markdown",
      "metadata": {
        "id": "uW7DvH91Wu9i"
      },
      "source": [
        "🧐 **Observations:**\n",
        "> - There is very little cancerous cells in the train set, but a lot of non cancerous cells in the train set.\n",
        "> - \n",
        "\n",
        "👨🏻‍🎓 **Conclusions**\n",
        "> - "
      ]
    },
    {
      "cell_type": "code",
      "metadata": {
        "id": "CLdVy-rV8071",
        "colab": {
          "base_uri": "https://localhost:8080/"
        },
        "outputId": "542dba4b-1599-4452-942d-cea200d6beb3"
      },
      "source": [
        "extra_data.describe()"
      ],
      "execution_count": null,
      "outputs": [
        {
          "output_type": "execute_result",
          "data": {
            "text/html": [
              "<div>\n",
              "<style scoped>\n",
              "    .dataframe tbody tr th:only-of-type {\n",
              "        vertical-align: middle;\n",
              "    }\n",
              "\n",
              "    .dataframe tbody tr th {\n",
              "        vertical-align: top;\n",
              "    }\n",
              "\n",
              "    .dataframe thead th {\n",
              "        text-align: right;\n",
              "    }\n",
              "</style>\n",
              "<table border=\"1\" class=\"dataframe\">\n",
              "  <thead>\n",
              "    <tr style=\"text-align: right;\">\n",
              "      <th></th>\n",
              "      <th>InstanceID</th>\n",
              "      <th>patientID</th>\n",
              "      <th>isCancerous</th>\n",
              "    </tr>\n",
              "  </thead>\n",
              "  <tbody>\n",
              "    <tr>\n",
              "      <th>count</th>\n",
              "      <td>10384.000000</td>\n",
              "      <td>10384.00000</td>\n",
              "      <td>10384.000000</td>\n",
              "    </tr>\n",
              "    <tr>\n",
              "      <th>mean</th>\n",
              "      <td>12087.866333</td>\n",
              "      <td>80.38203</td>\n",
              "      <td>0.287943</td>\n",
              "    </tr>\n",
              "    <tr>\n",
              "      <th>std</th>\n",
              "      <td>6173.866838</td>\n",
              "      <td>9.40388</td>\n",
              "      <td>0.452826</td>\n",
              "    </tr>\n",
              "    <tr>\n",
              "      <th>min</th>\n",
              "      <td>1631.000000</td>\n",
              "      <td>61.00000</td>\n",
              "      <td>0.000000</td>\n",
              "    </tr>\n",
              "    <tr>\n",
              "      <th>25%</th>\n",
              "      <td>6655.750000</td>\n",
              "      <td>71.00000</td>\n",
              "      <td>0.000000</td>\n",
              "    </tr>\n",
              "    <tr>\n",
              "      <th>50%</th>\n",
              "      <td>12377.500000</td>\n",
              "      <td>81.00000</td>\n",
              "      <td>0.000000</td>\n",
              "    </tr>\n",
              "    <tr>\n",
              "      <th>75%</th>\n",
              "      <td>16374.250000</td>\n",
              "      <td>88.00000</td>\n",
              "      <td>1.000000</td>\n",
              "    </tr>\n",
              "    <tr>\n",
              "      <th>max</th>\n",
              "      <td>22235.000000</td>\n",
              "      <td>99.00000</td>\n",
              "      <td>1.000000</td>\n",
              "    </tr>\n",
              "  </tbody>\n",
              "</table>\n",
              "</div>"
            ],
            "text/plain": [
              "         InstanceID    patientID   isCancerous\n",
              "count  10384.000000  10384.00000  10384.000000\n",
              "mean   12087.866333     80.38203      0.287943\n",
              "std     6173.866838      9.40388      0.452826\n",
              "min     1631.000000     61.00000      0.000000\n",
              "25%     6655.750000     71.00000      0.000000\n",
              "50%    12377.500000     81.00000      0.000000\n",
              "75%    16374.250000     88.00000      1.000000\n",
              "max    22235.000000     99.00000      1.000000"
            ]
          },
          "metadata": {
            "tags": []
          },
          "execution_count": 205
        }
      ]
    },
    {
      "cell_type": "code",
      "metadata": {
        "id": "YRubzqMV8071",
        "colab": {
          "base_uri": "https://localhost:8080/"
        },
        "outputId": "a33685d5-4bf2-4305-dd79-ab1f9d863b21"
      },
      "source": [
        "extra_data.head()"
      ],
      "execution_count": null,
      "outputs": [
        {
          "output_type": "execute_result",
          "data": {
            "text/html": [
              "<div>\n",
              "<style scoped>\n",
              "    .dataframe tbody tr th:only-of-type {\n",
              "        vertical-align: middle;\n",
              "    }\n",
              "\n",
              "    .dataframe tbody tr th {\n",
              "        vertical-align: top;\n",
              "    }\n",
              "\n",
              "    .dataframe thead th {\n",
              "        text-align: right;\n",
              "    }\n",
              "</style>\n",
              "<table border=\"1\" class=\"dataframe\">\n",
              "  <thead>\n",
              "    <tr style=\"text-align: right;\">\n",
              "      <th></th>\n",
              "      <th>InstanceID</th>\n",
              "      <th>patientID</th>\n",
              "      <th>ImageName</th>\n",
              "      <th>isCancerous</th>\n",
              "    </tr>\n",
              "  </thead>\n",
              "  <tbody>\n",
              "    <tr>\n",
              "      <th>0</th>\n",
              "      <td>12681</td>\n",
              "      <td>61</td>\n",
              "      <td>12681.png</td>\n",
              "      <td>0</td>\n",
              "    </tr>\n",
              "    <tr>\n",
              "      <th>1</th>\n",
              "      <td>12682</td>\n",
              "      <td>61</td>\n",
              "      <td>12682.png</td>\n",
              "      <td>0</td>\n",
              "    </tr>\n",
              "    <tr>\n",
              "      <th>2</th>\n",
              "      <td>12683</td>\n",
              "      <td>61</td>\n",
              "      <td>12683.png</td>\n",
              "      <td>0</td>\n",
              "    </tr>\n",
              "    <tr>\n",
              "      <th>3</th>\n",
              "      <td>12684</td>\n",
              "      <td>61</td>\n",
              "      <td>12684.png</td>\n",
              "      <td>0</td>\n",
              "    </tr>\n",
              "    <tr>\n",
              "      <th>4</th>\n",
              "      <td>12685</td>\n",
              "      <td>61</td>\n",
              "      <td>12685.png</td>\n",
              "      <td>0</td>\n",
              "    </tr>\n",
              "  </tbody>\n",
              "</table>\n",
              "</div>"
            ],
            "text/plain": [
              "   InstanceID  patientID  ImageName  isCancerous\n",
              "0       12681         61  12681.png            0\n",
              "1       12682         61  12682.png            0\n",
              "2       12683         61  12683.png            0\n",
              "3       12684         61  12684.png            0\n",
              "4       12685         61  12685.png            0"
            ]
          },
          "metadata": {
            "tags": []
          },
          "execution_count": 206
        }
      ]
    },
    {
      "cell_type": "code",
      "metadata": {
        "colab": {
          "base_uri": "https://localhost:8080/"
        },
        "id": "KIMpqkUtfOur",
        "outputId": "c8bbb8e1-c7bf-4c80-858d-89256cd5b1ab"
      },
      "source": [
        "extra_data.info()"
      ],
      "execution_count": null,
      "outputs": [
        {
          "output_type": "stream",
          "text": [
            "<class 'pandas.core.frame.DataFrame'>\n",
            "RangeIndex: 10384 entries, 0 to 10383\n",
            "Data columns (total 4 columns):\n",
            " #   Column       Non-Null Count  Dtype \n",
            "---  ------       --------------  ----- \n",
            " 0   InstanceID   10384 non-null  int64 \n",
            " 1   patientID    10384 non-null  int64 \n",
            " 2   ImageName    10384 non-null  object\n",
            " 3   isCancerous  10384 non-null  int64 \n",
            "dtypes: int64(3), object(1)\n",
            "memory usage: 324.6+ KB\n"
          ],
          "name": "stdout"
        }
      ]
    },
    {
      "cell_type": "markdown",
      "metadata": {
        "id": "qchpKbBcI1q6"
      },
      "source": [
        "🧐 **Observations:**\n",
        "> - \n",
        "\n",
        "👨🏻‍🎓 **Conclusions**\n",
        "> - "
      ]
    },
    {
      "cell_type": "markdown",
      "metadata": {
        "id": "OG6GF-D1ZdEa"
      },
      "source": [
        "#### 1.2.2 - Preview\n",
        "Previewing the contents of the main data set."
      ]
    },
    {
      "cell_type": "code",
      "metadata": {
        "colab": {
          "base_uri": "https://localhost:8080/",
          "height": 288
        },
        "id": "y69BoivJZdEf",
        "outputId": "cbde6f87-6077-4c04-9361-0279c66239eb"
      },
      "source": [
        "extra_data.describe()"
      ],
      "execution_count": null,
      "outputs": [
        {
          "output_type": "execute_result",
          "data": {
            "text/html": [
              "<div>\n",
              "<style scoped>\n",
              "    .dataframe tbody tr th:only-of-type {\n",
              "        vertical-align: middle;\n",
              "    }\n",
              "\n",
              "    .dataframe tbody tr th {\n",
              "        vertical-align: top;\n",
              "    }\n",
              "\n",
              "    .dataframe thead th {\n",
              "        text-align: right;\n",
              "    }\n",
              "</style>\n",
              "<table border=\"1\" class=\"dataframe\">\n",
              "  <thead>\n",
              "    <tr style=\"text-align: right;\">\n",
              "      <th></th>\n",
              "      <th>InstanceID</th>\n",
              "      <th>patientID</th>\n",
              "      <th>isCancerous</th>\n",
              "    </tr>\n",
              "  </thead>\n",
              "  <tbody>\n",
              "    <tr>\n",
              "      <th>count</th>\n",
              "      <td>10384.000000</td>\n",
              "      <td>10384.00000</td>\n",
              "      <td>10384.000000</td>\n",
              "    </tr>\n",
              "    <tr>\n",
              "      <th>mean</th>\n",
              "      <td>12087.866333</td>\n",
              "      <td>80.38203</td>\n",
              "      <td>0.287943</td>\n",
              "    </tr>\n",
              "    <tr>\n",
              "      <th>std</th>\n",
              "      <td>6173.866838</td>\n",
              "      <td>9.40388</td>\n",
              "      <td>0.452826</td>\n",
              "    </tr>\n",
              "    <tr>\n",
              "      <th>min</th>\n",
              "      <td>1631.000000</td>\n",
              "      <td>61.00000</td>\n",
              "      <td>0.000000</td>\n",
              "    </tr>\n",
              "    <tr>\n",
              "      <th>25%</th>\n",
              "      <td>6655.750000</td>\n",
              "      <td>71.00000</td>\n",
              "      <td>0.000000</td>\n",
              "    </tr>\n",
              "    <tr>\n",
              "      <th>50%</th>\n",
              "      <td>12377.500000</td>\n",
              "      <td>81.00000</td>\n",
              "      <td>0.000000</td>\n",
              "    </tr>\n",
              "    <tr>\n",
              "      <th>75%</th>\n",
              "      <td>16374.250000</td>\n",
              "      <td>88.00000</td>\n",
              "      <td>1.000000</td>\n",
              "    </tr>\n",
              "    <tr>\n",
              "      <th>max</th>\n",
              "      <td>22235.000000</td>\n",
              "      <td>99.00000</td>\n",
              "      <td>1.000000</td>\n",
              "    </tr>\n",
              "  </tbody>\n",
              "</table>\n",
              "</div>"
            ],
            "text/plain": [
              "         InstanceID    patientID   isCancerous\n",
              "count  10384.000000  10384.00000  10384.000000\n",
              "mean   12087.866333     80.38203      0.287943\n",
              "std     6173.866838      9.40388      0.452826\n",
              "min     1631.000000     61.00000      0.000000\n",
              "25%     6655.750000     71.00000      0.000000\n",
              "50%    12377.500000     81.00000      0.000000\n",
              "75%    16374.250000     88.00000      1.000000\n",
              "max    22235.000000     99.00000      1.000000"
            ]
          },
          "metadata": {
            "tags": []
          },
          "execution_count": 208
        }
      ]
    },
    {
      "cell_type": "code",
      "metadata": {
        "colab": {
          "base_uri": "https://localhost:8080/",
          "height": 198
        },
        "id": "HiOLYovPZdEg",
        "outputId": "a2871a25-1c9a-469d-afd2-485bc5113af9"
      },
      "source": [
        "extra_data.head()"
      ],
      "execution_count": null,
      "outputs": [
        {
          "output_type": "execute_result",
          "data": {
            "text/html": [
              "<div>\n",
              "<style scoped>\n",
              "    .dataframe tbody tr th:only-of-type {\n",
              "        vertical-align: middle;\n",
              "    }\n",
              "\n",
              "    .dataframe tbody tr th {\n",
              "        vertical-align: top;\n",
              "    }\n",
              "\n",
              "    .dataframe thead th {\n",
              "        text-align: right;\n",
              "    }\n",
              "</style>\n",
              "<table border=\"1\" class=\"dataframe\">\n",
              "  <thead>\n",
              "    <tr style=\"text-align: right;\">\n",
              "      <th></th>\n",
              "      <th>InstanceID</th>\n",
              "      <th>patientID</th>\n",
              "      <th>ImageName</th>\n",
              "      <th>isCancerous</th>\n",
              "    </tr>\n",
              "  </thead>\n",
              "  <tbody>\n",
              "    <tr>\n",
              "      <th>0</th>\n",
              "      <td>12681</td>\n",
              "      <td>61</td>\n",
              "      <td>12681.png</td>\n",
              "      <td>0</td>\n",
              "    </tr>\n",
              "    <tr>\n",
              "      <th>1</th>\n",
              "      <td>12682</td>\n",
              "      <td>61</td>\n",
              "      <td>12682.png</td>\n",
              "      <td>0</td>\n",
              "    </tr>\n",
              "    <tr>\n",
              "      <th>2</th>\n",
              "      <td>12683</td>\n",
              "      <td>61</td>\n",
              "      <td>12683.png</td>\n",
              "      <td>0</td>\n",
              "    </tr>\n",
              "    <tr>\n",
              "      <th>3</th>\n",
              "      <td>12684</td>\n",
              "      <td>61</td>\n",
              "      <td>12684.png</td>\n",
              "      <td>0</td>\n",
              "    </tr>\n",
              "    <tr>\n",
              "      <th>4</th>\n",
              "      <td>12685</td>\n",
              "      <td>61</td>\n",
              "      <td>12685.png</td>\n",
              "      <td>0</td>\n",
              "    </tr>\n",
              "  </tbody>\n",
              "</table>\n",
              "</div>"
            ],
            "text/plain": [
              "   InstanceID  patientID  ImageName  isCancerous\n",
              "0       12681         61  12681.png            0\n",
              "1       12682         61  12682.png            0\n",
              "2       12683         61  12683.png            0\n",
              "3       12684         61  12684.png            0\n",
              "4       12685         61  12685.png            0"
            ]
          },
          "metadata": {
            "tags": []
          },
          "execution_count": 209
        }
      ]
    },
    {
      "cell_type": "code",
      "metadata": {
        "colab": {
          "base_uri": "https://localhost:8080/"
        },
        "id": "S9WJXKRXZdEg",
        "outputId": "6efcb6b6-5416-4be5-f048-3200243ffe92"
      },
      "source": [
        "extra_data.info()"
      ],
      "execution_count": null,
      "outputs": [
        {
          "output_type": "stream",
          "text": [
            "<class 'pandas.core.frame.DataFrame'>\n",
            "RangeIndex: 10384 entries, 0 to 10383\n",
            "Data columns (total 4 columns):\n",
            " #   Column       Non-Null Count  Dtype \n",
            "---  ------       --------------  ----- \n",
            " 0   InstanceID   10384 non-null  int64 \n",
            " 1   patientID    10384 non-null  int64 \n",
            " 2   ImageName    10384 non-null  object\n",
            " 3   isCancerous  10384 non-null  int64 \n",
            "dtypes: int64(3), object(1)\n",
            "memory usage: 324.6+ KB\n"
          ],
          "name": "stdout"
        }
      ]
    },
    {
      "cell_type": "code",
      "metadata": {
        "colab": {
          "base_uri": "https://localhost:8080/"
        },
        "id": "cwAYpr42ZdEh",
        "outputId": "d3e029eb-81a0-494f-ceb3-99c5e54b96ca"
      },
      "source": [
        "df = extra_data.groupby(['isCancerous'])['InstanceID'].nunique()\n",
        "print(df)"
      ],
      "execution_count": null,
      "outputs": [
        {
          "output_type": "stream",
          "text": [
            "isCancerous\n",
            "0    7394\n",
            "1    2990\n",
            "Name: InstanceID, dtype: int64\n"
          ],
          "name": "stdout"
        }
      ]
    },
    {
      "cell_type": "markdown",
      "metadata": {
        "id": "KfQW5MV3ZdEh"
      },
      "source": [
        "🧐 **Observations:**\n",
        "> - \n",
        "\n",
        "👨🏻‍🎓 **Conclusions**\n",
        "> - "
      ]
    },
    {
      "cell_type": "markdown",
      "metadata": {
        "id": "zkeTWYKvZdEh"
      },
      "source": [
        "Preview the image data via cell type"
      ]
    },
    {
      "cell_type": "code",
      "metadata": {
        "colab": {
          "base_uri": "https://localhost:8080/",
          "height": 628
        },
        "id": "fp7Sr1hQZdEi",
        "outputId": "52a22525-0be2-46b0-dc93-75894f5fe5a2"
      },
      "source": [
        "img_list = list(extra_train_set[\"ImageName\"])\n",
        "target_list = list(extra_train_set[\"isCancerous\"])\n",
        "target_labels = {1: \"Cancerous\", 0: \"Non-Cancerous\"}\n",
        "\n",
        "plt.figure(figsize=[25,12])\n",
        "\n",
        "for i in np.arange(40):\n",
        "  plt.subplot(4, 10, i + 1)\n",
        "  img = Image.open('./patch_images/' + img_list[i])\n",
        "\n",
        "  plt.imshow(img)\n",
        "  plt.title(target_labels[target_list[i]])"
      ],
      "execution_count": null,
      "outputs": [
        {
          "output_type": "display_data",
          "data": {
            "image/png": "[encoded data removed]",
            "text/plain": [
              "<Figure size 1800x864 with 40 Axes>"
            ]
          },
          "metadata": {
            "tags": [],
            "needs_background": "light"
          }
        }
      ]
    },
    {
      "cell_type": "code",
      "metadata": {
        "colab": {
          "base_uri": "https://localhost:8080/"
        },
        "id": "BII2uHi8cCyH",
        "outputId": "8d0ee169-f3ba-4f67-e56e-74227eafdb0f"
      },
      "source": [
        "# Check image sizes\n",
        "img = Image.open('./patch_images/' + img_list[100])\n",
        "img_numpy = np.ascontiguousarray(img, dtype=np.float32)\n",
        "print(\"Image size: \\nH:{} W:{} C:{}\".format(img_numpy.shape[0], img_numpy.shape[1], img_numpy.shape[2]))"
      ],
      "execution_count": null,
      "outputs": [
        {
          "output_type": "stream",
          "text": [
            "Image size: \n",
            "H:27 W:27 C:3\n"
          ],
          "name": "stdout"
        }
      ]
    },
    {
      "cell_type": "markdown",
      "metadata": {
        "id": "Jre9jS5JcMqR"
      },
      "source": [
        "🧐 **Observations:**\n",
        "> - Images are 27 x 27 x 3\n",
        "\n",
        "👨🏻‍🎓 **Conclusions**\n",
        "> - "
      ]
    },
    {
      "cell_type": "markdown",
      "metadata": {
        "id": "c8pitMGUJ3WS"
      },
      "source": [
        "#### 1.2.3 - Transformation\n",
        "Set all types to be of type Object. We do this because all the variables are categorical, they don't have any continuous values, so it's easier while creating visualizations."
      ]
    },
    {
      "cell_type": "code",
      "metadata": {
        "id": "dLm0yBgHJ3WT"
      },
      "source": [
        "for column in extra_data.columns:\n",
        "  extra_data[column] = extra_data[column].astype('object')"
      ],
      "execution_count": null,
      "outputs": []
    },
    {
      "cell_type": "code",
      "metadata": {
        "colab": {
          "base_uri": "https://localhost:8080/"
        },
        "id": "x6ge4vQrJ3WT",
        "outputId": "3672c240-3c8c-467a-b51a-04949c34924a"
      },
      "source": [
        "print(extra_data.info())"
      ],
      "execution_count": null,
      "outputs": [
        {
          "output_type": "stream",
          "text": [
            "<class 'pandas.core.frame.DataFrame'>\n",
            "RangeIndex: 10384 entries, 0 to 10383\n",
            "Data columns (total 4 columns):\n",
            " #   Column       Non-Null Count  Dtype \n",
            "---  ------       --------------  ----- \n",
            " 0   InstanceID   10384 non-null  object\n",
            " 1   patientID    10384 non-null  object\n",
            " 2   ImageName    10384 non-null  object\n",
            " 3   isCancerous  10384 non-null  object\n",
            "dtypes: object(4)\n",
            "memory usage: 324.6+ KB\n",
            "None\n"
          ],
          "name": "stdout"
        }
      ]
    },
    {
      "cell_type": "code",
      "metadata": {
        "colab": {
          "base_uri": "https://localhost:8080/",
          "height": 168
        },
        "id": "yxaQvKitJ3WU",
        "outputId": "3b6d82e2-ed0d-4997-c526-688aaa30e4a3"
      },
      "source": [
        "extra_data.describe(include=['object'])"
      ],
      "execution_count": null,
      "outputs": [
        {
          "output_type": "execute_result",
          "data": {
            "text/html": [
              "<div>\n",
              "<style scoped>\n",
              "    .dataframe tbody tr th:only-of-type {\n",
              "        vertical-align: middle;\n",
              "    }\n",
              "\n",
              "    .dataframe tbody tr th {\n",
              "        vertical-align: top;\n",
              "    }\n",
              "\n",
              "    .dataframe thead th {\n",
              "        text-align: right;\n",
              "    }\n",
              "</style>\n",
              "<table border=\"1\" class=\"dataframe\">\n",
              "  <thead>\n",
              "    <tr style=\"text-align: right;\">\n",
              "      <th></th>\n",
              "      <th>InstanceID</th>\n",
              "      <th>patientID</th>\n",
              "      <th>ImageName</th>\n",
              "      <th>isCancerous</th>\n",
              "    </tr>\n",
              "  </thead>\n",
              "  <tbody>\n",
              "    <tr>\n",
              "      <th>count</th>\n",
              "      <td>10384</td>\n",
              "      <td>10384</td>\n",
              "      <td>10384</td>\n",
              "      <td>10384</td>\n",
              "    </tr>\n",
              "    <tr>\n",
              "      <th>unique</th>\n",
              "      <td>10384</td>\n",
              "      <td>38</td>\n",
              "      <td>10384</td>\n",
              "      <td>2</td>\n",
              "    </tr>\n",
              "    <tr>\n",
              "      <th>top</th>\n",
              "      <td>16383</td>\n",
              "      <td>79</td>\n",
              "      <td>9564.png</td>\n",
              "      <td>0</td>\n",
              "    </tr>\n",
              "    <tr>\n",
              "      <th>freq</th>\n",
              "      <td>1</td>\n",
              "      <td>699</td>\n",
              "      <td>1</td>\n",
              "      <td>7394</td>\n",
              "    </tr>\n",
              "  </tbody>\n",
              "</table>\n",
              "</div>"
            ],
            "text/plain": [
              "        InstanceID  patientID ImageName  isCancerous\n",
              "count        10384      10384     10384        10384\n",
              "unique       10384         38     10384            2\n",
              "top          16383         79  9564.png            0\n",
              "freq             1        699         1         7394"
            ]
          },
          "metadata": {
            "tags": []
          },
          "execution_count": 216
        }
      ]
    },
    {
      "cell_type": "markdown",
      "metadata": {
        "id": "oVo2d8sYJ3WU"
      },
      "source": [
        "🧐 **Observations:**\n",
        "> - \n",
        "\n",
        "👨🏻‍🎓 **Conclusions**\n",
        "> - "
      ]
    },
    {
      "cell_type": "code",
      "metadata": {
        "colab": {
          "base_uri": "https://localhost:8080/",
          "height": 168
        },
        "id": "XwD8daAKJ3WU",
        "outputId": "9416f6fa-2e1c-4bde-b58e-9cb5ff779512"
      },
      "source": [
        "extra_data.describe()"
      ],
      "execution_count": null,
      "outputs": [
        {
          "output_type": "execute_result",
          "data": {
            "text/html": [
              "<div>\n",
              "<style scoped>\n",
              "    .dataframe tbody tr th:only-of-type {\n",
              "        vertical-align: middle;\n",
              "    }\n",
              "\n",
              "    .dataframe tbody tr th {\n",
              "        vertical-align: top;\n",
              "    }\n",
              "\n",
              "    .dataframe thead th {\n",
              "        text-align: right;\n",
              "    }\n",
              "</style>\n",
              "<table border=\"1\" class=\"dataframe\">\n",
              "  <thead>\n",
              "    <tr style=\"text-align: right;\">\n",
              "      <th></th>\n",
              "      <th>InstanceID</th>\n",
              "      <th>patientID</th>\n",
              "      <th>ImageName</th>\n",
              "      <th>isCancerous</th>\n",
              "    </tr>\n",
              "  </thead>\n",
              "  <tbody>\n",
              "    <tr>\n",
              "      <th>count</th>\n",
              "      <td>10384</td>\n",
              "      <td>10384</td>\n",
              "      <td>10384</td>\n",
              "      <td>10384</td>\n",
              "    </tr>\n",
              "    <tr>\n",
              "      <th>unique</th>\n",
              "      <td>10384</td>\n",
              "      <td>38</td>\n",
              "      <td>10384</td>\n",
              "      <td>2</td>\n",
              "    </tr>\n",
              "    <tr>\n",
              "      <th>top</th>\n",
              "      <td>16383</td>\n",
              "      <td>79</td>\n",
              "      <td>9564.png</td>\n",
              "      <td>0</td>\n",
              "    </tr>\n",
              "    <tr>\n",
              "      <th>freq</th>\n",
              "      <td>1</td>\n",
              "      <td>699</td>\n",
              "      <td>1</td>\n",
              "      <td>7394</td>\n",
              "    </tr>\n",
              "  </tbody>\n",
              "</table>\n",
              "</div>"
            ],
            "text/plain": [
              "        InstanceID  patientID ImageName  isCancerous\n",
              "count        10384      10384     10384        10384\n",
              "unique       10384         38     10384            2\n",
              "top          16383         79  9564.png            0\n",
              "freq             1        699         1         7394"
            ]
          },
          "metadata": {
            "tags": []
          },
          "execution_count": 217
        }
      ]
    },
    {
      "cell_type": "code",
      "metadata": {
        "colab": {
          "base_uri": "https://localhost:8080/",
          "height": 198
        },
        "id": "Hwf4W3bMJ3WV",
        "outputId": "b1c2440e-9fb4-4df3-8922-2f92d6b741eb"
      },
      "source": [
        "extra_data.head()"
      ],
      "execution_count": null,
      "outputs": [
        {
          "output_type": "execute_result",
          "data": {
            "text/html": [
              "<div>\n",
              "<style scoped>\n",
              "    .dataframe tbody tr th:only-of-type {\n",
              "        vertical-align: middle;\n",
              "    }\n",
              "\n",
              "    .dataframe tbody tr th {\n",
              "        vertical-align: top;\n",
              "    }\n",
              "\n",
              "    .dataframe thead th {\n",
              "        text-align: right;\n",
              "    }\n",
              "</style>\n",
              "<table border=\"1\" class=\"dataframe\">\n",
              "  <thead>\n",
              "    <tr style=\"text-align: right;\">\n",
              "      <th></th>\n",
              "      <th>InstanceID</th>\n",
              "      <th>patientID</th>\n",
              "      <th>ImageName</th>\n",
              "      <th>isCancerous</th>\n",
              "    </tr>\n",
              "  </thead>\n",
              "  <tbody>\n",
              "    <tr>\n",
              "      <th>0</th>\n",
              "      <td>12681</td>\n",
              "      <td>61</td>\n",
              "      <td>12681.png</td>\n",
              "      <td>0</td>\n",
              "    </tr>\n",
              "    <tr>\n",
              "      <th>1</th>\n",
              "      <td>12682</td>\n",
              "      <td>61</td>\n",
              "      <td>12682.png</td>\n",
              "      <td>0</td>\n",
              "    </tr>\n",
              "    <tr>\n",
              "      <th>2</th>\n",
              "      <td>12683</td>\n",
              "      <td>61</td>\n",
              "      <td>12683.png</td>\n",
              "      <td>0</td>\n",
              "    </tr>\n",
              "    <tr>\n",
              "      <th>3</th>\n",
              "      <td>12684</td>\n",
              "      <td>61</td>\n",
              "      <td>12684.png</td>\n",
              "      <td>0</td>\n",
              "    </tr>\n",
              "    <tr>\n",
              "      <th>4</th>\n",
              "      <td>12685</td>\n",
              "      <td>61</td>\n",
              "      <td>12685.png</td>\n",
              "      <td>0</td>\n",
              "    </tr>\n",
              "  </tbody>\n",
              "</table>\n",
              "</div>"
            ],
            "text/plain": [
              "  InstanceID patientID  ImageName isCancerous\n",
              "0      12681        61  12681.png           0\n",
              "1      12682        61  12682.png           0\n",
              "2      12683        61  12683.png           0\n",
              "3      12684        61  12684.png           0\n",
              "4      12685        61  12685.png           0"
            ]
          },
          "metadata": {
            "tags": []
          },
          "execution_count": 218
        }
      ]
    },
    {
      "cell_type": "code",
      "metadata": {
        "colab": {
          "base_uri": "https://localhost:8080/"
        },
        "id": "wTlOi4rEJ3WV",
        "outputId": "35750a1d-b2b9-430e-8e54-e42c7e8b5bbf"
      },
      "source": [
        "extra_data.info()"
      ],
      "execution_count": null,
      "outputs": [
        {
          "output_type": "stream",
          "text": [
            "<class 'pandas.core.frame.DataFrame'>\n",
            "RangeIndex: 10384 entries, 0 to 10383\n",
            "Data columns (total 4 columns):\n",
            " #   Column       Non-Null Count  Dtype \n",
            "---  ------       --------------  ----- \n",
            " 0   InstanceID   10384 non-null  object\n",
            " 1   patientID    10384 non-null  object\n",
            " 2   ImageName    10384 non-null  object\n",
            " 3   isCancerous  10384 non-null  object\n",
            "dtypes: object(4)\n",
            "memory usage: 324.6+ KB\n"
          ],
          "name": "stdout"
        }
      ]
    },
    {
      "cell_type": "markdown",
      "metadata": {
        "id": "NEIoaKKFJ3WV"
      },
      "source": [
        "🧐 **Observations:**\n",
        "> - \n",
        "\n",
        "👨🏻‍🎓 **Conclusions**\n",
        "> - "
      ]
    },
    {
      "cell_type": "markdown",
      "metadata": {
        "id": "t0MfykaAjeCq"
      },
      "source": [
        "#### 1.2.4 - Examination"
      ]
    },
    {
      "cell_type": "code",
      "metadata": {
        "colab": {
          "base_uri": "https://localhost:8080/",
          "height": 310
        },
        "id": "WcAVSIqPjkdv",
        "outputId": "9230f568-46ba-4747-ce92-aba04df9548b"
      },
      "source": [
        "pd.crosstab(extra_data['isCancerous'], extra_data['isCancerous'], margins = False).plot.bar(stacked = True,\n",
        "                                                                                            title = 'Cancer counts in images',\n",
        "                                                                                            xlabel = 'Cancer Exists',\n",
        "                                                                                            ylabel = 'Number of Images')"
      ],
      "execution_count": null,
      "outputs": [
        {
          "output_type": "execute_result",
          "data": {
            "text/plain": [
              "<matplotlib.axes._subplots.AxesSubplot at 0x7f73885fcbd0>"
            ]
          },
          "metadata": {
            "tags": []
          },
          "execution_count": 220
        },
        {
          "output_type": "display_data",
          "data": {
            "image/png": "[encoded data removed]",
            "text/plain": [
              "<Figure size 432x288 with 1 Axes>"
            ]
          },
          "metadata": {
            "tags": [],
            "needs_background": "light"
          }
        }
      ]
    },
    {
      "cell_type": "markdown",
      "metadata": {
        "id": "r2OBeS-p9zj_"
      },
      "source": [
        "🧐 **Observations:**\n",
        "> - \n",
        "\n",
        "👨🏻‍🎓 **Conclusions**\n",
        "> - "
      ]
    },
    {
      "cell_type": "code",
      "metadata": {
        "colab": {
          "base_uri": "https://localhost:8080/",
          "height": 316
        },
        "id": "jWg33xPNjkdw",
        "outputId": "65cd237a-c524-44a3-95c7-38d5500e0650"
      },
      "source": [
        "extra_data.patientID.value_counts().nlargest(5).to_frame().plot(kind = 'bar', title = 'Top 5 Patients by number of images',\n",
        "                                                               xlabel = 'Patient ID', ylabel = 'Number of images', legend = False,\n",
        "                                                               label = True)"
      ],
      "execution_count": null,
      "outputs": [
        {
          "output_type": "execute_result",
          "data": {
            "text/plain": [
              "<matplotlib.axes._subplots.AxesSubplot at 0x7f737945c290>"
            ]
          },
          "metadata": {
            "tags": []
          },
          "execution_count": 221
        },
        {
          "output_type": "display_data",
          "data": {
            "image/png": "[encoded data removed]",
            "text/plain": [
              "<Figure size 432x288 with 1 Axes>"
            ]
          },
          "metadata": {
            "tags": [],
            "needs_background": "light"
          }
        }
      ]
    },
    {
      "cell_type": "code",
      "metadata": {
        "colab": {
          "base_uri": "https://localhost:8080/",
          "height": 316
        },
        "id": "bORPBn1cjkdx",
        "outputId": "7e52095e-398e-428d-c958-834de8acddd7"
      },
      "source": [
        "extra_data.patientID.value_counts().nsmallest(5).to_frame().plot(kind = 'bar', title = 'Bottom 5 Patients by number of images',\n",
        "                                                                xlabel = 'Patient ID', ylabel = 'Number of images', legend = False)"
      ],
      "execution_count": null,
      "outputs": [
        {
          "output_type": "execute_result",
          "data": {
            "text/plain": [
              "<matplotlib.axes._subplots.AxesSubplot at 0x7f7379407e10>"
            ]
          },
          "metadata": {
            "tags": []
          },
          "execution_count": 222
        },
        {
          "output_type": "display_data",
          "data": {
            "image/png": "[encoded data removed]",
            "text/plain": [
              "<Figure size 432x288 with 1 Axes>"
            ]
          },
          "metadata": {
            "tags": [],
            "needs_background": "light"
          }
        }
      ]
    },
    {
      "cell_type": "markdown",
      "metadata": {
        "id": "4UBVIFAt9xu4"
      },
      "source": [
        "🧐 **Observations:**\n",
        "> - \n",
        "\n",
        "👨🏻‍🎓 **Conclusions**\n",
        "> - "
      ]
    },
    {
      "cell_type": "markdown",
      "metadata": {
        "id": "hFzwfqpdMMDz"
      },
      "source": [
        "## 2 - Feature Selection"
      ]
    },
    {
      "cell_type": "markdown",
      "metadata": {
        "id": "QxHYiRTnwMLB"
      },
      "source": [
        "## 3 - Modelling "
      ]
    },
    {
      "cell_type": "code",
      "metadata": {
        "id": "2U6LHUyieXpC"
      },
      "source": [
        "# Initialise Constants\n",
        "INPUT_DIM = (27,27,3)\n",
        "OUTPUT_CLASSES = 2"
      ],
      "execution_count": 14,
      "outputs": []
    },
    {
      "cell_type": "markdown",
      "metadata": {
        "id": "_FARSWWw8074"
      },
      "source": [
        "### 3.1 - MLP"
      ]
    },
    {
      "cell_type": "markdown",
      "metadata": {
        "id": "a1vwkcLz4ydG"
      },
      "source": [
        "##### 3.1.1 Cancerous Classification\n",
        "Checking if the image is cancerous or not cancerous"
      ]
    },
    {
      "cell_type": "markdown",
      "metadata": {
        "id": "ZCOHpfGn9IH_"
      },
      "source": [
        "###### Model 1"
      ]
    },
    {
      "cell_type": "markdown",
      "metadata": {
        "id": "hVIsdpz1-muS"
      },
      "source": [
        "Hidden layer dimension is randomly set to a value that is 2^n to align with the computer's memory buffer. This is a starting point to iterate on.\\\n",
        "`hidden_layer_dim = 56`\n",
        "\n",
        "TODO \\\n",
        "`optimizer = adam`\n",
        "\n",
        "TODO \\\n",
        "`loss = CategoricalCrossentropy`\n",
        "\n",
        "TODO \\\n",
        "`metrics = ['categorical_accuracy']`\n",
        "\n",
        "TODO \\\n",
        "`epochs = 50`\n",
        "\n",
        "TODO \\\n",
        "`batch_size = 32`"
      ]
    },
    {
      "cell_type": "markdown",
      "metadata": {
        "id": "JKbGrqq19_c8"
      },
      "source": [
        "This model shows starts off with the input layer being the imagery with 3 colour bands, red, green, and blue.\\\n",
        "Then the images are flattened into a 1 dimensional array, [R,G,B] and passed into a single dense layer layer which .........."
      ]
    },
    {
      "cell_type": "code",
      "metadata": {
        "id": "ao0bDuydjk7-"
      },
      "source": [
        "def mlp(train_set, val_set, test_set, hyper_parameters, model\n",
        "        , checkpoint_path\n",
        "        ):\n",
        "  \n",
        "  # Extract the imagery into new data sets from the original data sets that \n",
        "  # contained the image references.\n",
        "  main_train_imagery_set, main_val_imagery_set, main_test_imagery_set = get_imagery_data_sets(\n",
        "      main_train_set, main_validation_set, main_test_set, \n",
        "      './patch_images/', 'ImageName', 'isCancerous', hyper_parameters[\"batch_size\"])\n",
        "\n",
        "  # Compile the model with the hyper parameters chosen.\n",
        "  model.compile(optimizer=hyper_parameters[\"optimizer\"],\n",
        "                loss=hyper_parameters[\"loss\"],\n",
        "                metrics=hyper_parameters[\"metrics\"])\n",
        "  \n",
        "  # Print summary.\n",
        "  model.summary()\n",
        "\n",
        "  # Make the checkpoint name unique and happen once every 5 epochs\n",
        "  full_checkpoint_path = checkpoint_path + \"/cp-{epoch:04d}.ckpt\"\n",
        "  \n",
        "  # Create checkpoint file.\n",
        "  checkpoint_dir = os.path.dirname(full_checkpoint_path)\n",
        "\n",
        "  # Create a callback that saves the model's weights\n",
        "  cp_callback = tf.keras.callbacks.ModelCheckpoint(filepath=full_checkpoint_path,\n",
        "                                                 save_weights_only=True,\n",
        "                                                 verbose=1,\n",
        "                                                 save_freq=1*hyper_parameters[\"batch_size\"])\n",
        "\n",
        "  # Save the weights using the `checkpoint_path` format\n",
        "  model.save_weights(full_checkpoint_path.format(epoch=0))\n",
        "\n",
        "  # Fit the model with the generators, and epoch amount.\n",
        "  history = model.fit(train_set, validation_data = val_set, \n",
        "                      epochs=hyper_parameters[\"epochs\"], verbose=0,\n",
        "                      callbacks=[cp_callback]\n",
        "                      ) \n",
        "\n",
        "  # Plot the results for run though of the data (epoch).\n",
        "  plot_learning_curve(history.history['loss'], \n",
        "                      history.history['val_loss'], \n",
        "                      history.history['categorical_accuracy'], \n",
        "                      history.history['val_categorical_accuracy'], \n",
        "                      metric_name='Accuracy')\n",
        "\n",
        "  # Get test set accuracy result.\n",
        "  model.evaluate(test_set)"
      ],
      "execution_count": 16,
      "outputs": []
    },
    {
      "cell_type": "code",
      "metadata": {
        "id": "sMhDK-rRGXKu",
        "colab": {
          "base_uri": "https://localhost:8080/",
          "height": 995
        },
        "outputId": "eec9ca2a-5a8f-45e4-f2ae-5d4c8556b832"
      },
      "source": [
        "# Initial_hyper_parameters.\n",
        "parameters = {\n",
        "  \"hidden_layer_dim\": 56,\n",
        "  \"optimizer\": 'adam',\n",
        "  \"loss\": tf.keras.losses.CategoricalCrossentropy(from_logits=True),\n",
        "  \"metrics\": ['categorical_accuracy'],\n",
        "  \"epochs\": 5,\n",
        "  \"batch_size\": 32\n",
        "}\n",
        "\n",
        "# The Deep Neural Network Layer Structure.\n",
        "model_1 = tf.keras.Sequential([\n",
        "    tf.keras.layers.Flatten(input_shape=INPUT_DIM),\n",
        "    tf.keras.layers.Dense(parameters[\"hidden_layer_dim\"], activation='relu'),\n",
        "    tf.keras.layers.Dropout(0.3),\n",
        "    tf.keras.layers.Dense(OUTPUT_CLASSES)\n",
        "])\n",
        "\n",
        "# Train MLP.\n",
        "mlp(main_train_set, main_validation_set, main_test_set, parameters, model_1, \"training_1\")\n",
        "\n",
        "# Save model 1\n",
        "model_1.save(\"model_1\")\n",
        "!cp -R ./model_1 /content/drive/'My Drive'/CML-Assignment-2/models/"
      ],
      "execution_count": 27,
      "outputs": [
        {
          "output_type": "stream",
          "text": [
            "Found 6025 validated image filenames belonging to 2 classes.\n",
            "Found 2029 validated image filenames belonging to 2 classes.\n",
            "Found 1842 validated image filenames belonging to 2 classes.\n",
            "Model: \"sequential_5\"\n",
            "_________________________________________________________________\n",
            "Layer (type)                 Output Shape              Param #   \n",
            "=================================================================\n",
            "flatten_5 (Flatten)          (None, 2187)              0         \n",
            "_________________________________________________________________\n",
            "dense_10 (Dense)             (None, 56)                122528    \n",
            "_________________________________________________________________\n",
            "dropout_5 (Dropout)          (None, 56)                0         \n",
            "_________________________________________________________________\n",
            "dense_11 (Dense)             (None, 2)                 114       \n",
            "=================================================================\n",
            "Total params: 122,642\n",
            "Trainable params: 122,642\n",
            "Non-trainable params: 0\n",
            "_________________________________________________________________\n"
          ],
          "name": "stdout"
        },
        {
          "output_type": "error",
          "ename": "ValueError",
          "evalue": "ignored",
          "traceback": [
            "\u001b[0;31m---------------------------------------------------------------------------\u001b[0m",
            "\u001b[0;31mValueError\u001b[0m                                Traceback (most recent call last)",
            "\u001b[0;32m<ipython-input-27-5f0d4b6cfdd1>\u001b[0m in \u001b[0;36m<module>\u001b[0;34m()\u001b[0m\n\u001b[1;32m     18\u001b[0m \u001b[0;34m\u001b[0m\u001b[0m\n\u001b[1;32m     19\u001b[0m \u001b[0;31m# Train MLP.\u001b[0m\u001b[0;34m\u001b[0m\u001b[0;34m\u001b[0m\u001b[0;34m\u001b[0m\u001b[0m\n\u001b[0;32m---> 20\u001b[0;31m \u001b[0mmlp\u001b[0m\u001b[0;34m(\u001b[0m\u001b[0mmain_train_set\u001b[0m\u001b[0;34m,\u001b[0m \u001b[0mmain_validation_set\u001b[0m\u001b[0;34m,\u001b[0m \u001b[0mmain_test_set\u001b[0m\u001b[0;34m,\u001b[0m \u001b[0mparameters\u001b[0m\u001b[0;34m,\u001b[0m \u001b[0mmodel_1\u001b[0m\u001b[0;34m,\u001b[0m \u001b[0;34m\"training_1\"\u001b[0m\u001b[0;34m)\u001b[0m\u001b[0;34m\u001b[0m\u001b[0;34m\u001b[0m\u001b[0m\n\u001b[0m\u001b[1;32m     21\u001b[0m \u001b[0;34m\u001b[0m\u001b[0m\n\u001b[1;32m     22\u001b[0m \u001b[0;31m# Save model 1\u001b[0m\u001b[0;34m\u001b[0m\u001b[0;34m\u001b[0m\u001b[0;34m\u001b[0m\u001b[0m\n",
            "\u001b[0;32m<ipython-input-16-fcde09bb2902>\u001b[0m in \u001b[0;36mmlp\u001b[0;34m(train_set, val_set, test_set, hyper_parameters, model, checkpoint_path)\u001b[0m\n\u001b[1;32m     35\u001b[0m   history = model.fit(train_set, validation_data = val_set, \n\u001b[1;32m     36\u001b[0m                       \u001b[0mepochs\u001b[0m\u001b[0;34m=\u001b[0m\u001b[0mhyper_parameters\u001b[0m\u001b[0;34m[\u001b[0m\u001b[0;34m\"epochs\"\u001b[0m\u001b[0;34m]\u001b[0m\u001b[0;34m,\u001b[0m \u001b[0mverbose\u001b[0m\u001b[0;34m=\u001b[0m\u001b[0;36m0\u001b[0m\u001b[0;34m,\u001b[0m\u001b[0;34m\u001b[0m\u001b[0;34m\u001b[0m\u001b[0m\n\u001b[0;32m---> 37\u001b[0;31m                       \u001b[0mcallbacks\u001b[0m\u001b[0;34m=\u001b[0m\u001b[0;34m[\u001b[0m\u001b[0mcp_callback\u001b[0m\u001b[0;34m]\u001b[0m\u001b[0;34m\u001b[0m\u001b[0;34m\u001b[0m\u001b[0m\n\u001b[0m\u001b[1;32m     38\u001b[0m                       ) \n\u001b[1;32m     39\u001b[0m \u001b[0;34m\u001b[0m\u001b[0m\n",
            "\u001b[0;32m/usr/local/lib/python3.7/dist-packages/tensorflow/python/keras/engine/training.py\u001b[0m in \u001b[0;36mfit\u001b[0;34m(self, x, y, batch_size, epochs, verbose, callbacks, validation_split, validation_data, shuffle, class_weight, sample_weight, initial_epoch, steps_per_epoch, validation_steps, validation_batch_size, validation_freq, max_queue_size, workers, use_multiprocessing)\u001b[0m\n\u001b[1;32m   1041\u001b[0m               (x, y, sample_weight), validation_split=validation_split))\n\u001b[1;32m   1042\u001b[0m \u001b[0;34m\u001b[0m\u001b[0m\n\u001b[0;32m-> 1043\u001b[0;31m     \u001b[0;32mif\u001b[0m \u001b[0mvalidation_data\u001b[0m\u001b[0;34m:\u001b[0m\u001b[0;34m\u001b[0m\u001b[0;34m\u001b[0m\u001b[0m\n\u001b[0m\u001b[1;32m   1044\u001b[0m       val_x, val_y, val_sample_weight = (\n\u001b[1;32m   1045\u001b[0m           data_adapter.unpack_x_y_sample_weight(validation_data))\n",
            "\u001b[0;32m/usr/local/lib/python3.7/dist-packages/pandas/core/generic.py\u001b[0m in \u001b[0;36m__nonzero__\u001b[0;34m(self)\u001b[0m\n\u001b[1;32m   1328\u001b[0m     \u001b[0;32mdef\u001b[0m \u001b[0m__nonzero__\u001b[0m\u001b[0;34m(\u001b[0m\u001b[0mself\u001b[0m\u001b[0;34m)\u001b[0m\u001b[0;34m:\u001b[0m\u001b[0;34m\u001b[0m\u001b[0;34m\u001b[0m\u001b[0m\n\u001b[1;32m   1329\u001b[0m         raise ValueError(\n\u001b[0;32m-> 1330\u001b[0;31m             \u001b[0;34mf\"The truth value of a {type(self).__name__} is ambiguous. \"\u001b[0m\u001b[0;34m\u001b[0m\u001b[0;34m\u001b[0m\u001b[0m\n\u001b[0m\u001b[1;32m   1331\u001b[0m             \u001b[0;34m\"Use a.empty, a.bool(), a.item(), a.any() or a.all().\"\u001b[0m\u001b[0;34m\u001b[0m\u001b[0;34m\u001b[0m\u001b[0m\n\u001b[1;32m   1332\u001b[0m         )\n",
            "\u001b[0;31mValueError\u001b[0m: The truth value of a DataFrame is ambiguous. Use a.empty, a.bool(), a.item(), a.any() or a.all()."
          ]
        }
      ]
    },
    {
      "cell_type": "markdown",
      "metadata": {
        "id": "5Q3tzW878075"
      },
      "source": [
        "Deep Learning HOG CV - Shekhar"
      ]
    },
    {
      "cell_type": "code",
      "metadata": {
        "id": "C8LSpWgCGe0e"
      },
      "source": [
        ""
      ],
      "execution_count": null,
      "outputs": []
    },
    {
      "cell_type": "markdown",
      "metadata": {
        "id": "a0Mu41j0GgJl"
      },
      "source": [
        ""
      ]
    },
    {
      "cell_type": "code",
      "metadata": {
        "id": "jAubqXo2GeQv"
      },
      "source": [
        ""
      ],
      "execution_count": null,
      "outputs": []
    },
    {
      "cell_type": "code",
      "metadata": {
        "id": "L41kZfCrGdSP"
      },
      "source": [
        ""
      ],
      "execution_count": null,
      "outputs": []
    },
    {
      "cell_type": "markdown",
      "metadata": {
        "id": "JuoqWw6a8075"
      },
      "source": [
        "CNN"
      ]
    },
    {
      "cell_type": "code",
      "metadata": {
        "id": "wDCF-8NzwOWQ"
      },
      "source": [
        "# CNN\n",
        "# model_VGG_3 = tf.keras.Sequential([\n",
        "#     #VGG block 1\n",
        "#     tf.keras.layers.Conv2D(32, (3, 3), activation='relu', padding='same', \n",
        "#                            kernel_regularizer=tf.keras.regularizers.l2(reg_lambda), input_shape=(32, 32, 3)),\n",
        "#     tf.keras.layers.Conv2D(32, (3, 3), activation='relu', padding='same', \n",
        "#                            kernel_regularizer=tf.keras.regularizers.l2(reg_lambda)),\n",
        "#     tf.keras.layers.MaxPooling2D((2, 2)),\n",
        "    \n",
        "#     #VGG block 2\n",
        "#     tf.keras.layers.Conv2D(64, (3, 3), activation='relu', padding='same', \n",
        "#                            kernel_regularizer=tf.keras.regularizers.l2(reg_lambda)),\n",
        "#     tf.keras.layers.Conv2D(64, (3, 3), activation='relu', padding='same', \n",
        "#                            kernel_regularizer=tf.keras.regularizers.l2(reg_lambda)),\n",
        "#     tf.keras.layers.MaxPooling2D((2, 2)),\n",
        "    \n",
        "#     #VGG block 3\n",
        "#     tf.keras.layers.Conv2D(128, (3, 3), activation='relu', padding='same', \n",
        "#                            kernel_regularizer=tf.keras.regularizers.l2(reg_lambda)),\n",
        "#     tf.keras.layers.Conv2D(128, (3, 3), activation='relu', padding='same', \n",
        "#                            kernel_regularizer=tf.keras.regularizers.l2(reg_lambda)),\n",
        "#     tf.keras.layers.MaxPooling2D((2, 2)),\n",
        "    \n",
        "    \n",
        "#     tf.keras.layers.Flatten(),\n",
        "#     tf.keras.layers.Dense(128, activation='relu', kernel_regularizer=tf.keras.regularizers.l2(reg_lambda)),\n",
        "#     tf.keras.layers.Dense(OUTPUT_CLASSES),\n",
        "# ])\n",
        "\n",
        "# Save model\n",
        "# model_VGG_3.save(\"model_VGG_3\")"
      ],
      "execution_count": null,
      "outputs": []
    },
    {
      "cell_type": "markdown",
      "metadata": {
        "id": "2kSAcSRR8075"
      },
      "source": [
        "Investigate Other Techniques hopefully OP"
      ]
    },
    {
      "cell_type": "markdown",
      "metadata": {
        "id": "yd6tRLrJ8075"
      },
      "source": [
        "Explore how the data in both tasks can be used to improve the cell-type classification"
      ]
    },
    {
      "cell_type": "markdown",
      "metadata": {
        "id": "fWcsJoGG8075"
      },
      "source": [
        ""
      ]
    },
    {
      "cell_type": "markdown",
      "metadata": {
        "id": "C3MzFrYk8076"
      },
      "source": [
        ""
      ]
    },
    {
      "cell_type": "markdown",
      "metadata": {
        "id": "6miThHFK8076"
      },
      "source": [
        ""
      ]
    },
    {
      "cell_type": "markdown",
      "metadata": {
        "id": "TAEiEOn48076"
      },
      "source": [
        ""
      ]
    },
    {
      "cell_type": "markdown",
      "metadata": {
        "id": "HXNXMa7Q8076"
      },
      "source": [
        ""
      ]
    }
  ]
}