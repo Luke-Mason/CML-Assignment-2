{
  "nbformat": 4,
  "nbformat_minor": 0,
  "metadata": {
    "kernelspec": {
      "display_name": "Python 3",
      "language": "python",
      "name": "python3"
    },
    "language_info": {
      "codemirror_mode": {
        "name": "ipython",
        "version": 3
      },
      "file_extension": ".py",
      "mimetype": "text/x-python",
      "name": "python",
      "nbconvert_exporter": "python",
      "pygments_lexer": "ipython3",
      "version": "3.8.5"
    },
    "colab": {
      "name": "Luke.ipynb",
      "provenance": []
    }
  },
  "cells": [
    {
      "cell_type": "markdown",
      "metadata": {
        "id": "pLEPqJJ1807f"
      },
      "source": [
        "# Assignment 2\n",
        "In this task a cancer cell detection system will be created.\n",
        "\n",
        "Luke Mason - s3630120 \\\n",
        "Shekhar Hazari - s3831855 asdasdasdasd"
      ]
    },
    {
      "cell_type": "markdown",
      "metadata": {
        "id": "XKx_x1ZJ807t"
      },
      "source": [
        "#### Import packages"
      ]
    },
    {
      "cell_type": "code",
      "metadata": {
        "id": "CI073cj-807u"
      },
      "source": [
        "import pandas as pd\n",
        "import matplotlib.pyplot as plt\n",
        "import numpy as np\n",
        "import seaborn as sns\n",
        "\n",
        "from sklearn.model_selection import train_test_split\n",
        "\n",
        "from sklearn.preprocessing import PolynomialFeatures\n",
        "from sklearn.preprocessing import MinMaxScaler\n",
        "from sklearn.preprocessing import StandardScaler\n",
        "from sklearn.preprocessing import PowerTransformer\n",
        "from sklearn.preprocessing import QuantileTransformer\n",
        "from sklearn.preprocessing import Normalizer\n",
        "from sklearn.preprocessing import RobustScaler\n",
        "from sklearn.preprocessing import MaxAbsScaler"
      ],
      "execution_count": null,
      "outputs": []
    },
    {
      "cell_type": "markdown",
      "metadata": {
        "id": "D-JMKKjg807v"
      },
      "source": [
        "#### Initialise helper functions¶"
      ]
    },
    {
      "cell_type": "code",
      "metadata": {
        "id": "Hb2RttuO807v"
      },
      "source": [
        "def holdout_validation(train_size, X, Y):\n",
        "    \n",
        "    # Get the difference between train and test size, together both make 100% of the raw data set.\n",
        "    test_size = 1 - train_size\n",
        "    \n",
        "    # Split into train and test for normal and target fields set, left overs are for validation and test.\n",
        "    with pd.option_context('mode.chained_assignment', None):\n",
        "        train_X, X_test_, train_Y, Y_test_ = train_test_split(X, Y, test_size=test_size, shuffle=True,random_state=0)\n",
        "\n",
        "    # Split the test data into validation test and test.\n",
        "    # Do for target field and normal fields.\n",
        "    with pd.option_context('mode.chained_assignment', None):\n",
        "         val_X, test_X, val_Y, test_Y = train_test_split(X_test_, Y_test_, test_size=0.5, shuffle=True, random_state=29)\n",
        "    return train_X, val_X, test_X, train_Y, val_Y, test_Y\n",
        "\n",
        "def hist_plot(title, columns, colours, nrows, ncols, index_pos, left=0.125, top=0.9, bottom=0.1, right=0.9, wspace=0.3, hspace=0.7):\n",
        "    \"\"\"\n",
        "    Plots a histogram.\n",
        "    :param title:     The title of the histogram.\n",
        "    :param columns:   The data columns to plot on the histogram.\n",
        "    :param colours:   The colours for each data column on the histogram.\n",
        "    :param nrows:     The number of rows in the presentation table.\n",
        "    :param ncols:     The number of columns in the presentation table.\n",
        "    :param index_pos: The index of the histogram on the\n",
        "    :param left:      How far to move away from left.\n",
        "    :param top:       How far to move away from top.\n",
        "    :param bottom:    How far to extend towards bottom.\n",
        "    :param right:     How far to extend boundary towards right.\n",
        "    :param wspace:    Height ratio spacing between plots.\n",
        "    :param hspace:    Width ratio spacing between plots.\n",
        "    :return:\n",
        "    \"\"\"\n",
        "    plt.subplot(nrows,ncols,index_pos)\n",
        "    plt.subplots_adjust(left=left, bottom=bottom, right=right, top=top, wspace=wspace, hspace=hspace)\n",
        "    for index_pos, column in enumerate(columns):\n",
        "        plt.hist(column, alpha=0.3, color=colours[index_pos % len(colours)], density=True)\n",
        "    plt.title(title)\n",
        "    plt.xticks(rotation='vertical')\n"
      ],
      "execution_count": null,
      "outputs": []
    },
    {
      "cell_type": "markdown",
      "metadata": {
        "id": "oU0Wjtk_807w"
      },
      "source": [
        "#### Unzip zipped data"
      ]
    },
    {
      "cell_type": "code",
      "metadata": {
        "id": "RNfQletN807w"
      },
      "source": [
        "from google.colab import drive\n",
        "drive.mount('/content/drive')"
      ],
      "execution_count": null,
      "outputs": []
    },
    {
      "cell_type": "code",
      "metadata": {
        "id": "YzPkhLGB807x"
      },
      "source": [
        "# Change according to your directory structure\n",
        "!ls /content/drive/'My Drive'/Collab Notebooks/ML-A2/"
      ],
      "execution_count": null,
      "outputs": []
    },
    {
      "cell_type": "code",
      "metadata": {
        "id": "e_PXR8z-807y"
      },
      "source": [
        "# Change according to your directory structure\n",
        "!cp /content/drive/'My Drive'/Collab Notebooks/ML-A2/Image_classification_data.zip .\n",
        "!unzip -q -o Image_classification_data.zip\n",
        "!rm Image_classification_data.zip\n",
        "!ls"
      ],
      "execution_count": null,
      "outputs": []
    },
    {
      "cell_type": "code",
      "metadata": {
        "id": "NglM5jb-807y"
      },
      "source": [
        "# Uncomment if on local machine or AWS\n",
        "import zipfile\n",
        "import os\n",
        "\n",
        "if (not os.path.exists(\"./data_labels_maindata.csv\")):\n",
        "    with zipfile.ZipFile('./Image_classification_data.zip', 'r') as zip_ref:\n",
        "        zip_ref.extractall('./')"
      ],
      "execution_count": null,
      "outputs": []
    },
    {
      "cell_type": "markdown",
      "metadata": {
        "id": "liXcJj4X807z"
      },
      "source": [
        "#### Load the main dataset\n",
        "This data contains both the cell type and isCancerous labels."
      ]
    },
    {
      "cell_type": "code",
      "metadata": {
        "id": "dEOzqQwH807z",
        "outputId": "028acd39-2598-40b1-e280-917cf21c856f"
      },
      "source": [
        "raw_dataframe_main = pd.read_csv('./data_labels_maindata.csv', delimiter=',')\n",
        "raw_dataframe_main.describe()"
      ],
      "execution_count": null,
      "outputs": [
        {
          "output_type": "execute_result",
          "data": {
            "text/html": [
              "<div>\n",
              "<style scoped>\n",
              "    .dataframe tbody tr th:only-of-type {\n",
              "        vertical-align: middle;\n",
              "    }\n",
              "\n",
              "    .dataframe tbody tr th {\n",
              "        vertical-align: top;\n",
              "    }\n",
              "\n",
              "    .dataframe thead th {\n",
              "        text-align: right;\n",
              "    }\n",
              "</style>\n",
              "<table border=\"1\" class=\"dataframe\">\n",
              "  <thead>\n",
              "    <tr style=\"text-align: right;\">\n",
              "      <th></th>\n",
              "      <th>InstanceID</th>\n",
              "      <th>patientID</th>\n",
              "      <th>cellType</th>\n",
              "      <th>isCancerous</th>\n",
              "    </tr>\n",
              "  </thead>\n",
              "  <tbody>\n",
              "    <tr>\n",
              "      <th>count</th>\n",
              "      <td>9896.000000</td>\n",
              "      <td>9896.000000</td>\n",
              "      <td>9896.000000</td>\n",
              "      <td>9896.000000</td>\n",
              "    </tr>\n",
              "    <tr>\n",
              "      <th>mean</th>\n",
              "      <td>10193.880154</td>\n",
              "      <td>29.762025</td>\n",
              "      <td>1.501516</td>\n",
              "      <td>0.412187</td>\n",
              "    </tr>\n",
              "    <tr>\n",
              "      <th>std</th>\n",
              "      <td>6652.912660</td>\n",
              "      <td>17.486553</td>\n",
              "      <td>0.954867</td>\n",
              "      <td>0.492253</td>\n",
              "    </tr>\n",
              "    <tr>\n",
              "      <th>min</th>\n",
              "      <td>1.000000</td>\n",
              "      <td>1.000000</td>\n",
              "      <td>0.000000</td>\n",
              "      <td>0.000000</td>\n",
              "    </tr>\n",
              "    <tr>\n",
              "      <th>25%</th>\n",
              "      <td>4135.750000</td>\n",
              "      <td>14.000000</td>\n",
              "      <td>1.000000</td>\n",
              "      <td>0.000000</td>\n",
              "    </tr>\n",
              "    <tr>\n",
              "      <th>50%</th>\n",
              "      <td>9279.500000</td>\n",
              "      <td>26.000000</td>\n",
              "      <td>2.000000</td>\n",
              "      <td>0.000000</td>\n",
              "    </tr>\n",
              "    <tr>\n",
              "      <th>75%</th>\n",
              "      <td>16821.250000</td>\n",
              "      <td>47.000000</td>\n",
              "      <td>2.000000</td>\n",
              "      <td>1.000000</td>\n",
              "    </tr>\n",
              "    <tr>\n",
              "      <th>max</th>\n",
              "      <td>22444.000000</td>\n",
              "      <td>60.000000</td>\n",
              "      <td>3.000000</td>\n",
              "      <td>1.000000</td>\n",
              "    </tr>\n",
              "  </tbody>\n",
              "</table>\n",
              "</div>"
            ],
            "text/plain": [
              "         InstanceID    patientID     cellType  isCancerous\n",
              "count   9896.000000  9896.000000  9896.000000  9896.000000\n",
              "mean   10193.880154    29.762025     1.501516     0.412187\n",
              "std     6652.912660    17.486553     0.954867     0.492253\n",
              "min        1.000000     1.000000     0.000000     0.000000\n",
              "25%     4135.750000    14.000000     1.000000     0.000000\n",
              "50%     9279.500000    26.000000     2.000000     0.000000\n",
              "75%    16821.250000    47.000000     2.000000     1.000000\n",
              "max    22444.000000    60.000000     3.000000     1.000000"
            ]
          },
          "metadata": {
            "tags": []
          },
          "execution_count": 8
        }
      ]
    },
    {
      "cell_type": "code",
      "metadata": {
        "id": "GVjeLIvA8070",
        "outputId": "14303307-020b-4773-ed19-9bc2d41aee87"
      },
      "source": [
        "raw_dataframe_main.head()"
      ],
      "execution_count": null,
      "outputs": [
        {
          "output_type": "execute_result",
          "data": {
            "text/html": [
              "<div>\n",
              "<style scoped>\n",
              "    .dataframe tbody tr th:only-of-type {\n",
              "        vertical-align: middle;\n",
              "    }\n",
              "\n",
              "    .dataframe tbody tr th {\n",
              "        vertical-align: top;\n",
              "    }\n",
              "\n",
              "    .dataframe thead th {\n",
              "        text-align: right;\n",
              "    }\n",
              "</style>\n",
              "<table border=\"1\" class=\"dataframe\">\n",
              "  <thead>\n",
              "    <tr style=\"text-align: right;\">\n",
              "      <th></th>\n",
              "      <th>InstanceID</th>\n",
              "      <th>patientID</th>\n",
              "      <th>ImageName</th>\n",
              "      <th>cellTypeName</th>\n",
              "      <th>cellType</th>\n",
              "      <th>isCancerous</th>\n",
              "    </tr>\n",
              "  </thead>\n",
              "  <tbody>\n",
              "    <tr>\n",
              "      <th>0</th>\n",
              "      <td>22405</td>\n",
              "      <td>1</td>\n",
              "      <td>22405.png</td>\n",
              "      <td>fibroblast</td>\n",
              "      <td>0</td>\n",
              "      <td>0</td>\n",
              "    </tr>\n",
              "    <tr>\n",
              "      <th>1</th>\n",
              "      <td>22406</td>\n",
              "      <td>1</td>\n",
              "      <td>22406.png</td>\n",
              "      <td>fibroblast</td>\n",
              "      <td>0</td>\n",
              "      <td>0</td>\n",
              "    </tr>\n",
              "    <tr>\n",
              "      <th>2</th>\n",
              "      <td>22407</td>\n",
              "      <td>1</td>\n",
              "      <td>22407.png</td>\n",
              "      <td>fibroblast</td>\n",
              "      <td>0</td>\n",
              "      <td>0</td>\n",
              "    </tr>\n",
              "    <tr>\n",
              "      <th>3</th>\n",
              "      <td>22408</td>\n",
              "      <td>1</td>\n",
              "      <td>22408.png</td>\n",
              "      <td>fibroblast</td>\n",
              "      <td>0</td>\n",
              "      <td>0</td>\n",
              "    </tr>\n",
              "    <tr>\n",
              "      <th>4</th>\n",
              "      <td>22409</td>\n",
              "      <td>1</td>\n",
              "      <td>22409.png</td>\n",
              "      <td>fibroblast</td>\n",
              "      <td>0</td>\n",
              "      <td>0</td>\n",
              "    </tr>\n",
              "  </tbody>\n",
              "</table>\n",
              "</div>"
            ],
            "text/plain": [
              "   InstanceID  patientID  ImageName cellTypeName  cellType  isCancerous\n",
              "0       22405          1  22405.png   fibroblast         0            0\n",
              "1       22406          1  22406.png   fibroblast         0            0\n",
              "2       22407          1  22407.png   fibroblast         0            0\n",
              "3       22408          1  22408.png   fibroblast         0            0\n",
              "4       22409          1  22409.png   fibroblast         0            0"
            ]
          },
          "metadata": {
            "tags": []
          },
          "execution_count": 27
        }
      ]
    },
    {
      "cell_type": "markdown",
      "metadata": {
        "id": "0uBKhz5F8070"
      },
      "source": [
        "#### Load the extra dataset\n",
        "This dataset does not contain the cellType labels."
      ]
    },
    {
      "cell_type": "code",
      "metadata": {
        "id": "CLdVy-rV8071",
        "outputId": "821794d6-7ab8-4557-b720-c68db120fbc6"
      },
      "source": [
        "raw_dataframe_extra = pd.read_csv('./data_labels_extraData.csv', delimiter=',')\n",
        "raw_dataframe_extra.describe()"
      ],
      "execution_count": null,
      "outputs": [
        {
          "output_type": "execute_result",
          "data": {
            "text/html": [
              "<div>\n",
              "<style scoped>\n",
              "    .dataframe tbody tr th:only-of-type {\n",
              "        vertical-align: middle;\n",
              "    }\n",
              "\n",
              "    .dataframe tbody tr th {\n",
              "        vertical-align: top;\n",
              "    }\n",
              "\n",
              "    .dataframe thead th {\n",
              "        text-align: right;\n",
              "    }\n",
              "</style>\n",
              "<table border=\"1\" class=\"dataframe\">\n",
              "  <thead>\n",
              "    <tr style=\"text-align: right;\">\n",
              "      <th></th>\n",
              "      <th>InstanceID</th>\n",
              "      <th>patientID</th>\n",
              "      <th>isCancerous</th>\n",
              "    </tr>\n",
              "  </thead>\n",
              "  <tbody>\n",
              "    <tr>\n",
              "      <th>count</th>\n",
              "      <td>10384.000000</td>\n",
              "      <td>10384.00000</td>\n",
              "      <td>10384.000000</td>\n",
              "    </tr>\n",
              "    <tr>\n",
              "      <th>mean</th>\n",
              "      <td>12087.866333</td>\n",
              "      <td>80.38203</td>\n",
              "      <td>0.287943</td>\n",
              "    </tr>\n",
              "    <tr>\n",
              "      <th>std</th>\n",
              "      <td>6173.866838</td>\n",
              "      <td>9.40388</td>\n",
              "      <td>0.452826</td>\n",
              "    </tr>\n",
              "    <tr>\n",
              "      <th>min</th>\n",
              "      <td>1631.000000</td>\n",
              "      <td>61.00000</td>\n",
              "      <td>0.000000</td>\n",
              "    </tr>\n",
              "    <tr>\n",
              "      <th>25%</th>\n",
              "      <td>6655.750000</td>\n",
              "      <td>71.00000</td>\n",
              "      <td>0.000000</td>\n",
              "    </tr>\n",
              "    <tr>\n",
              "      <th>50%</th>\n",
              "      <td>12377.500000</td>\n",
              "      <td>81.00000</td>\n",
              "      <td>0.000000</td>\n",
              "    </tr>\n",
              "    <tr>\n",
              "      <th>75%</th>\n",
              "      <td>16374.250000</td>\n",
              "      <td>88.00000</td>\n",
              "      <td>1.000000</td>\n",
              "    </tr>\n",
              "    <tr>\n",
              "      <th>max</th>\n",
              "      <td>22235.000000</td>\n",
              "      <td>99.00000</td>\n",
              "      <td>1.000000</td>\n",
              "    </tr>\n",
              "  </tbody>\n",
              "</table>\n",
              "</div>"
            ],
            "text/plain": [
              "         InstanceID    patientID   isCancerous\n",
              "count  10384.000000  10384.00000  10384.000000\n",
              "mean   12087.866333     80.38203      0.287943\n",
              "std     6173.866838      9.40388      0.452826\n",
              "min     1631.000000     61.00000      0.000000\n",
              "25%     6655.750000     71.00000      0.000000\n",
              "50%    12377.500000     81.00000      0.000000\n",
              "75%    16374.250000     88.00000      1.000000\n",
              "max    22235.000000     99.00000      1.000000"
            ]
          },
          "metadata": {
            "tags": []
          },
          "execution_count": 9
        }
      ]
    },
    {
      "cell_type": "code",
      "metadata": {
        "id": "YRubzqMV8071",
        "outputId": "d167edcd-3c4e-45c8-9424-883fa36cf1c5"
      },
      "source": [
        "raw_dataframe_extra.head()"
      ],
      "execution_count": null,
      "outputs": [
        {
          "output_type": "execute_result",
          "data": {
            "text/html": [
              "<div>\n",
              "<style scoped>\n",
              "    .dataframe tbody tr th:only-of-type {\n",
              "        vertical-align: middle;\n",
              "    }\n",
              "\n",
              "    .dataframe tbody tr th {\n",
              "        vertical-align: top;\n",
              "    }\n",
              "\n",
              "    .dataframe thead th {\n",
              "        text-align: right;\n",
              "    }\n",
              "</style>\n",
              "<table border=\"1\" class=\"dataframe\">\n",
              "  <thead>\n",
              "    <tr style=\"text-align: right;\">\n",
              "      <th></th>\n",
              "      <th>InstanceID</th>\n",
              "      <th>patientID</th>\n",
              "      <th>ImageName</th>\n",
              "      <th>isCancerous</th>\n",
              "    </tr>\n",
              "  </thead>\n",
              "  <tbody>\n",
              "    <tr>\n",
              "      <th>0</th>\n",
              "      <td>12681</td>\n",
              "      <td>61</td>\n",
              "      <td>12681.png</td>\n",
              "      <td>0</td>\n",
              "    </tr>\n",
              "    <tr>\n",
              "      <th>1</th>\n",
              "      <td>12682</td>\n",
              "      <td>61</td>\n",
              "      <td>12682.png</td>\n",
              "      <td>0</td>\n",
              "    </tr>\n",
              "    <tr>\n",
              "      <th>2</th>\n",
              "      <td>12683</td>\n",
              "      <td>61</td>\n",
              "      <td>12683.png</td>\n",
              "      <td>0</td>\n",
              "    </tr>\n",
              "    <tr>\n",
              "      <th>3</th>\n",
              "      <td>12684</td>\n",
              "      <td>61</td>\n",
              "      <td>12684.png</td>\n",
              "      <td>0</td>\n",
              "    </tr>\n",
              "    <tr>\n",
              "      <th>4</th>\n",
              "      <td>12685</td>\n",
              "      <td>61</td>\n",
              "      <td>12685.png</td>\n",
              "      <td>0</td>\n",
              "    </tr>\n",
              "  </tbody>\n",
              "</table>\n",
              "</div>"
            ],
            "text/plain": [
              "   InstanceID  patientID  ImageName  isCancerous\n",
              "0       12681         61  12681.png            0\n",
              "1       12682         61  12682.png            0\n",
              "2       12683         61  12683.png            0\n",
              "3       12684         61  12684.png            0\n",
              "4       12685         61  12685.png            0"
            ]
          },
          "metadata": {
            "tags": []
          },
          "execution_count": 28
        }
      ]
    },
    {
      "cell_type": "markdown",
      "metadata": {
        "id": "_CxHa7W88071"
      },
      "source": [
        "### Data Setup\n",
        "ImageName, InstanceID, features are excluded because they won't help in EDA since they are all unique values and are not information that is useful by themselves.\n",
        "\n",
        "The raw data frame will be used to get the image names to map them to the images for the feature gathering."
      ]
    },
    {
      "cell_type": "code",
      "metadata": {
        "id": "WJLMqNKf8072"
      },
      "source": [
        "# Construct non-target and target datasets. Y is target labels, X is non-target.\n",
        "df_main_features = raw_dataframe_main.drop(['InstanceID', 'isCancerous'], axis=1)\n",
        "df_main_target_label = raw_dataframe_main['isCancerous']"
      ],
      "execution_count": null,
      "outputs": []
    },
    {
      "cell_type": "code",
      "metadata": {
        "id": "5aDfDvO68072"
      },
      "source": [
        "# Construct non-target and target datasets. Y is target labels, X is non-target.\n",
        "df_extra_features = raw_dataframe_extra.drop(['InstanceID', 'isCancerous'], axis=1)\n",
        "df_extra_target_label = raw_dataframe_extra['isCancerous']"
      ],
      "execution_count": null,
      "outputs": []
    },
    {
      "cell_type": "markdown",
      "metadata": {
        "id": "DDzoWqg68073"
      },
      "source": [
        "### 1 - Exploratory Data Analysis\n",
        "The data is assumed to be made of entirely by newborn babies according to the assignment forums.\\\n",
        "\n",
        "#### 1.1 - Exploring the distribution of the data\n",
        "In this section the data's distribution of values are examined. Observations and folowwing conclusions are made to be used for justifying the decisions made in the rest of the report.\n",
        "\n",
        "##### 1.1.1 Exploring unique values and data types\n",
        "Here the fields display the unique values there are and their frequency."
      ]
    },
    {
      "cell_type": "code",
      "metadata": {
        "id": "TINTFWFR8073",
        "outputId": "bf45fad3-3ffe-4e80-8811-b22d752d06ba"
      },
      "source": [
        "for field in df_main_features.columns:\n",
        "    df = df_main_features.groupby(field).nunique()\n",
        "    print(df)"
      ],
      "execution_count": null,
      "outputs": [
        {
          "output_type": "stream",
          "text": [
            "           ImageName  cellTypeName  cellType\n",
            "patientID                                   \n",
            "1                 19             3         3\n",
            "2                 33             3         3\n",
            "3                136             3         3\n",
            "4                127             3         3\n",
            "5                169             4         4\n",
            "6                198             4         4\n",
            "7                253             4         4\n",
            "8                332             4         4\n",
            "9                348             4         4\n",
            "10               302             4         4\n",
            "11                56             3         3\n",
            "12               130             3         3\n",
            "13               180             4         4\n",
            "14               207             4         4\n",
            "15               125             3         3\n",
            "16               111             3         3\n",
            "17               310             4         4\n",
            "18               320             4         4\n",
            "19               158             3         3\n",
            "20               325             3         3\n",
            "21               224             4         4\n",
            "22               152             4         4\n",
            "23               254             3         3\n",
            "24               192             3         3\n",
            "25               180             3         3\n",
            "26               157             3         3\n",
            "27                17             3         3\n",
            "28                15             2         2\n",
            "29               355             3         3\n",
            "30               110             3         3\n",
            "31               137             4         4\n",
            "32                99             4         4\n",
            "33               163             3         3\n",
            "34                14             2         2\n",
            "35                11             2         2\n",
            "36               128             4         4\n",
            "37                71             2         2\n",
            "38                84             4         4\n",
            "39               105             2         2\n",
            "40               209             4         4\n",
            "41               250             4         4\n",
            "42               136             4         4\n",
            "43               137             4         4\n",
            "44               121             3         3\n",
            "45                74             2         2\n",
            "46               120             4         4\n",
            "47               133             4         4\n",
            "48               147             4         4\n",
            "49               187             4         4\n",
            "50               195             4         4\n",
            "51               286             3         3\n",
            "52               178             4         4\n",
            "53               132             4         4\n",
            "54               389             4         4\n",
            "55               263             4         4\n",
            "56                92             2         2\n",
            "57               149             3         3\n",
            "58               161             3         3\n",
            "59               115             3         3\n",
            "60               115             4         4\n",
            "           patientID  cellTypeName  cellType\n",
            "ImageName                                   \n",
            "1.png              1             1         1\n",
            "10.png             1             1         1\n",
            "100.png            1             1         1\n",
            "1000.png           1             1         1\n",
            "10000.png          1             1         1\n",
            "...              ...           ...       ...\n",
            "9995.png           1             1         1\n",
            "9996.png           1             1         1\n",
            "9997.png           1             1         1\n",
            "9998.png           1             1         1\n",
            "9999.png           1             1         1\n",
            "\n",
            "[9896 rows x 3 columns]\n",
            "              patientID  ImageName  cellType\n",
            "cellTypeName                                \n",
            "epithelial           34       4079         1\n",
            "fibroblast           53       1888         1\n",
            "inflammatory         60       2543         1\n",
            "others               56       1386         1\n",
            "          patientID  ImageName  cellTypeName\n",
            "cellType                                    \n",
            "0                53       1888             1\n",
            "1                60       2543             1\n",
            "2                34       4079             1\n",
            "3                56       1386             1\n"
          ],
          "name": "stdout"
        }
      ]
    },
    {
      "cell_type": "code",
      "metadata": {
        "id": "IPuH3tBM8073",
        "outputId": "ff9ec427-20f5-47d5-b439-b64e2e1db6ed"
      },
      "source": [
        "hv_train_X, hv_val_X, hv_test_X, hv_train_Y, hv_val_Y, hv_test_Y = holdout_validation(0.8, df_main_features, df_main_target_label)\n",
        "\n",
        "# Graph the results\n",
        "plt.figure(figsize=(20,40))\n",
        "for i, col in enumerate(df_main_features.columns):\n",
        "    hist_plot(col, [hv_train_X[col], hv_val_X[col], hv_test_X[col]], ['r', 'g', 'b'], 8, 5, i+1)"
      ],
      "execution_count": null,
      "outputs": [
        {
          "output_type": "error",
          "ename": "NameError",
          "evalue": "name 'hist_plot' is not defined",
          "traceback": [
            "\u001b[1;31m---------------------------------------------------------------------------\u001b[0m",
            "\u001b[1;31mNameError\u001b[0m                                 Traceback (most recent call last)",
            "\u001b[1;32m<ipython-input-45-77fa2b4e0d2b>\u001b[0m in \u001b[0;36m<module>\u001b[1;34m\u001b[0m\n\u001b[0;32m      4\u001b[0m \u001b[0mplt\u001b[0m\u001b[1;33m.\u001b[0m\u001b[0mfigure\u001b[0m\u001b[1;33m(\u001b[0m\u001b[0mfigsize\u001b[0m\u001b[1;33m=\u001b[0m\u001b[1;33m(\u001b[0m\u001b[1;36m20\u001b[0m\u001b[1;33m,\u001b[0m\u001b[1;36m40\u001b[0m\u001b[1;33m)\u001b[0m\u001b[1;33m)\u001b[0m\u001b[1;33m\u001b[0m\u001b[1;33m\u001b[0m\u001b[0m\n\u001b[0;32m      5\u001b[0m \u001b[1;32mfor\u001b[0m \u001b[0mi\u001b[0m\u001b[1;33m,\u001b[0m \u001b[0mcol\u001b[0m \u001b[1;32min\u001b[0m \u001b[0menumerate\u001b[0m\u001b[1;33m(\u001b[0m\u001b[0mdf_main_features\u001b[0m\u001b[1;33m.\u001b[0m\u001b[0mcolumns\u001b[0m\u001b[1;33m)\u001b[0m\u001b[1;33m:\u001b[0m\u001b[1;33m\u001b[0m\u001b[1;33m\u001b[0m\u001b[0m\n\u001b[1;32m----> 6\u001b[1;33m     \u001b[0mhist_plot\u001b[0m\u001b[1;33m(\u001b[0m\u001b[0mcol\u001b[0m\u001b[1;33m,\u001b[0m \u001b[1;33m[\u001b[0m\u001b[0mhv_train_X\u001b[0m\u001b[1;33m[\u001b[0m\u001b[0mcol\u001b[0m\u001b[1;33m]\u001b[0m\u001b[1;33m,\u001b[0m \u001b[0mhv_val_X\u001b[0m\u001b[1;33m[\u001b[0m\u001b[0mcol\u001b[0m\u001b[1;33m]\u001b[0m\u001b[1;33m,\u001b[0m \u001b[0mhv_test_X\u001b[0m\u001b[1;33m[\u001b[0m\u001b[0mcol\u001b[0m\u001b[1;33m]\u001b[0m\u001b[1;33m]\u001b[0m\u001b[1;33m,\u001b[0m \u001b[1;33m[\u001b[0m\u001b[1;34m'r'\u001b[0m\u001b[1;33m,\u001b[0m \u001b[1;34m'g'\u001b[0m\u001b[1;33m,\u001b[0m \u001b[1;34m'b'\u001b[0m\u001b[1;33m]\u001b[0m\u001b[1;33m,\u001b[0m \u001b[1;36m8\u001b[0m\u001b[1;33m,\u001b[0m \u001b[1;36m5\u001b[0m\u001b[1;33m,\u001b[0m \u001b[0mi\u001b[0m\u001b[1;33m+\u001b[0m\u001b[1;36m1\u001b[0m\u001b[1;33m)\u001b[0m\u001b[1;33m\u001b[0m\u001b[1;33m\u001b[0m\u001b[0m\n\u001b[0m",
            "\u001b[1;31mNameError\u001b[0m: name 'hist_plot' is not defined"
          ]
        },
        {
          "output_type": "display_data",
          "data": {
            "text/plain": [
              "<Figure size 1440x2880 with 0 Axes>"
            ]
          },
          "metadata": {
            "tags": []
          }
        }
      ]
    },
    {
      "cell_type": "code",
      "metadata": {
        "id": "24XhYWAg8074"
      },
      "source": [
        "print(\"Train data : {}, Val Data: {}, Test Data: {}\".format(hv_train_X.shape[0], hv_val_X.shape[0], hv_test_X.shape[0]))"
      ],
      "execution_count": null,
      "outputs": []
    },
    {
      "cell_type": "code",
      "metadata": {
        "id": "R2JRjvO78074",
        "outputId": "762e7d3c-be39-4e98-e92d-359a33816a5d"
      },
      "source": [
        "from tensorflow.keras.preprocessing.image import ImageDataGenerator\n",
        "\n",
        "train_datagen = ImageDataGenerator(rescale=1./255, data_format='channels_last')\n",
        "val_datagen = ImageDataGenerator(rescale=1./255, data_format='channels_last')\n",
        "\n",
        "batch_size = 32\n",
        "\n",
        "# TODO haven't figured out how to get the image path yet\n",
        "train_generator = train_datagen.flow_from_dataframe(\n",
        "        dataframe=hv_train_X,\n",
        "        directory='./patch_images/',\n",
        "        x_col=\"ImageName\",\n",
        "        y_col=\"Class\",\n",
        "        target_size=(32, 32),\n",
        "        batch_size=batch_size,\n",
        "        class_mode='categorical')\n",
        "\n",
        "validation_generator = val_df_main.flow_from_dataframe(\n",
        "        dataframe=hv_val_X,\n",
        "        directory='./',\n",
        "        x_col=\"ImageName\",\n",
        "        y_col=\"Class\",\n",
        "        target_size=(32, 32),\n",
        "        batch_size=batch_size,\n",
        "        class_mode='categorical')"
      ],
      "execution_count": null,
      "outputs": [
        {
          "output_type": "error",
          "ename": "ModuleNotFoundError",
          "evalue": "No module named 'tensorflow'",
          "traceback": [
            "\u001b[1;31m---------------------------------------------------------------------------\u001b[0m",
            "\u001b[1;31mModuleNotFoundError\u001b[0m                       Traceback (most recent call last)",
            "\u001b[1;32m<ipython-input-47-bee1e266e36d>\u001b[0m in \u001b[0;36m<module>\u001b[1;34m\u001b[0m\n\u001b[1;32m----> 1\u001b[1;33m \u001b[1;32mfrom\u001b[0m \u001b[0mtensorflow\u001b[0m\u001b[1;33m.\u001b[0m\u001b[0mkeras\u001b[0m\u001b[1;33m.\u001b[0m\u001b[0mpreprocessing\u001b[0m\u001b[1;33m.\u001b[0m\u001b[0mimage\u001b[0m \u001b[1;32mimport\u001b[0m \u001b[0mImageDataGenerator\u001b[0m\u001b[1;33m\u001b[0m\u001b[1;33m\u001b[0m\u001b[0m\n\u001b[0m\u001b[0;32m      2\u001b[0m \u001b[1;33m\u001b[0m\u001b[0m\n\u001b[0;32m      3\u001b[0m \u001b[0mtrain_datagen\u001b[0m \u001b[1;33m=\u001b[0m \u001b[0mImageDataGenerator\u001b[0m\u001b[1;33m(\u001b[0m\u001b[0mrescale\u001b[0m\u001b[1;33m=\u001b[0m\u001b[1;36m1.\u001b[0m\u001b[1;33m/\u001b[0m\u001b[1;36m255\u001b[0m\u001b[1;33m,\u001b[0m \u001b[0mdata_format\u001b[0m\u001b[1;33m=\u001b[0m\u001b[1;34m'channels_last'\u001b[0m\u001b[1;33m)\u001b[0m\u001b[1;33m\u001b[0m\u001b[1;33m\u001b[0m\u001b[0m\n\u001b[0;32m      4\u001b[0m \u001b[0mval_datagen\u001b[0m \u001b[1;33m=\u001b[0m \u001b[0mImageDataGenerator\u001b[0m\u001b[1;33m(\u001b[0m\u001b[0mrescale\u001b[0m\u001b[1;33m=\u001b[0m\u001b[1;36m1.\u001b[0m\u001b[1;33m/\u001b[0m\u001b[1;36m255\u001b[0m\u001b[1;33m,\u001b[0m \u001b[0mdata_format\u001b[0m\u001b[1;33m=\u001b[0m\u001b[1;34m'channels_last'\u001b[0m\u001b[1;33m)\u001b[0m\u001b[1;33m\u001b[0m\u001b[1;33m\u001b[0m\u001b[0m\n\u001b[0;32m      5\u001b[0m \u001b[1;33m\u001b[0m\u001b[0m\n",
            "\u001b[1;31mModuleNotFoundError\u001b[0m: No module named 'tensorflow'"
          ]
        }
      ]
    },
    {
      "cell_type": "markdown",
      "metadata": {
        "id": "_FARSWWw8074"
      },
      "source": [
        ""
      ]
    },
    {
      "cell_type": "markdown",
      "metadata": {
        "id": "5Q3tzW878075"
      },
      "source": [
        ""
      ]
    },
    {
      "cell_type": "markdown",
      "metadata": {
        "id": "JuoqWw6a8075"
      },
      "source": [
        ""
      ]
    },
    {
      "cell_type": "markdown",
      "metadata": {
        "id": "2kSAcSRR8075"
      },
      "source": [
        ""
      ]
    },
    {
      "cell_type": "markdown",
      "metadata": {
        "id": "yd6tRLrJ8075"
      },
      "source": [
        ""
      ]
    },
    {
      "cell_type": "markdown",
      "metadata": {
        "id": "fWcsJoGG8075"
      },
      "source": [
        ""
      ]
    },
    {
      "cell_type": "markdown",
      "metadata": {
        "id": "C3MzFrYk8076"
      },
      "source": [
        ""
      ]
    },
    {
      "cell_type": "markdown",
      "metadata": {
        "id": "6miThHFK8076"
      },
      "source": [
        ""
      ]
    },
    {
      "cell_type": "markdown",
      "metadata": {
        "id": "TAEiEOn48076"
      },
      "source": [
        ""
      ]
    },
    {
      "cell_type": "markdown",
      "metadata": {
        "id": "HXNXMa7Q8076"
      },
      "source": [
        ""
      ]
    }
  ]
}