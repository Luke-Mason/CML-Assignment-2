{
  "nbformat": 4,
  "nbformat_minor": 0,
  "metadata": {
    "kernelspec": {
      "display_name": "Python 3",
      "language": "python",
      "name": "python3"
    },
    "language_info": {
      "codemirror_mode": {
        "name": "ipython",
        "version": 3
      },
      "file_extension": ".py",
      "mimetype": "text/x-python",
      "name": "python",
      "nbconvert_exporter": "python",
      "pygments_lexer": "ipython3",
      "version": "3.8.5"
    },
    "colab": {
      "name": "Luke.ipynb",
      "provenance": [],
      "toc_visible": true,
      "include_colab_link": true
    },
    "accelerator": "TPU"
  },
  "cells": [
    {
      "cell_type": "markdown",
      "metadata": {
        "id": "view-in-github",
        "colab_type": "text"
      },
      "source": [
        "<a href=\"https://colab.research.google.com/github/shekhar-hazari/CML-Assignment-2/blob/main/Luke.ipynb\" target=\"_parent\"><img src=\"https://colab.research.google.com/assets/colab-badge.svg\" alt=\"Open In Colab\"/></a>"
      ]
    },
    {
      "cell_type": "markdown",
      "metadata": {
        "id": "pLEPqJJ1807f"
      },
      "source": [
        "# Assignment 2\n",
        "In this task a cancer cell detection system will be created.\n",
        "\n",
        "Luke Mason - s3630120 \\\n",
        "Shekhar Hazari - s3831855"
      ]
    },
    {
      "cell_type": "markdown",
      "metadata": {
        "id": "rqBXpGbfMZGL"
      },
      "source": [
        "# 0 - Setup"
      ]
    },
    {
      "cell_type": "markdown",
      "metadata": {
        "id": "XKx_x1ZJ807t"
      },
      "source": [
        "## 0.1 - Import packages"
      ]
    },
    {
      "cell_type": "code",
      "metadata": {
        "id": "CI073cj-807u"
      },
      "source": [
        "import tensorflow as tf\n",
        "import os\n",
        "import pandas as pd\n",
        "import numpy as np\n",
        "from pandas.api.types import is_string_dtype\n",
        "from pandas.api.types import is_numeric_dtype\n",
        "import matplotlib.pyplot as plt\n",
        "from sklearn.model_selection import train_test_split\n",
        "from PIL import Image\n",
        "from tensorflow.keras.preprocessing.image import ImageDataGenerator"
      ],
      "execution_count": 1,
      "outputs": []
    },
    {
      "cell_type": "markdown",
      "metadata": {
        "id": "D-JMKKjg807v"
      },
      "source": [
        "## 0.2 - Initialise helper functions¶"
      ]
    },
    {
      "cell_type": "code",
      "metadata": {
        "id": "Hb2RttuO807v"
      },
      "source": [
        "def holdout_validation(train_size, X, Y):\n",
        "    \"\"\"\n",
        "    Splits the data sets for hold out validation across the whole dataset given.\n",
        "\n",
        "    :param train_size: The size of the trianing set.\n",
        "    :param X: The X columns\n",
        "    :param Y: The target column\n",
        "    :return: the train, validation, test sets for both X columns and Y columns.\n",
        "    \"\"\"\n",
        "\n",
        "    # Get the difference between train and test size, together both make 100% of the raw data set.\n",
        "    test_size = 1 - train_size\n",
        "\n",
        "    # Split into train and test for normal and target fields set, left overs are for validation and test.\n",
        "    with pd.option_context('mode.chained_assignment', None):\n",
        "        train_X, X_test_, train_Y, Y_test_ = train_test_split(X, Y, test_size=test_size, shuffle=True, random_state=0)\n",
        "\n",
        "    # Split the test data into validation test and test.\n",
        "    # Do for target field and normal fields.\n",
        "    with pd.option_context('mode.chained_assignment', None):\n",
        "        val_X, test_X, val_Y, test_Y = train_test_split(X_test_, Y_test_, test_size=0.5, shuffle=True, random_state=29)\n",
        "    return train_X, val_X, test_X, train_Y, val_Y, test_Y"
      ],
      "execution_count": 2,
      "outputs": []
    },
    {
      "cell_type": "code",
      "metadata": {
        "id": "ho5cuz7TdKcX"
      },
      "source": [
        "def hist_plot(title, columns, colours, nrows, ncols, index_pos, left=0.125, top=0.9, bottom=0.1, right=0.9, wspace=0.3,\n",
        "              hspace=0.7):\n",
        "    \"\"\"\n",
        "    Plots a histogram.\n",
        "    :param title:     The title of the histogram.\n",
        "    :param columns:   The data columns to plot on the histogram.\n",
        "    :param colours:   The colours for each data column on the histogram.\n",
        "    :param nrows:     The number of rows in the presentation table.\n",
        "    :param ncols:     The number of columns in the presentation table.\n",
        "    :param index_pos: The index of the histogram on the\n",
        "    :param left:      How far to move away from left.\n",
        "    :param top:       How far to move away from top.\n",
        "    :param bottom:    How far to extend towards bottom.\n",
        "    :param right:     How far to extend boundary towards right.\n",
        "    :param wspace:    Height ratio spacing between plots.\n",
        "    :param hspace:    Width ratio spacing between plots.\n",
        "    :return:\n",
        "    \"\"\"\n",
        "    # Make sub plots space according to parameters.\n",
        "    plt.subplot(nrows, ncols, index_pos)\n",
        "\n",
        "    # Give perfect amount of room around each plot to not overlap text.\n",
        "    plt.subplots_adjust(left=left, bottom=bottom, right=right, top=top, wspace=wspace, hspace=hspace)\n",
        "\n",
        "    # Plot histogram for each column feature and assign corresponding colour.\n",
        "    for index_pos, column in enumerate(columns):\n",
        "        plt.hist(column, alpha=0.3, color=colours[index_pos % len(colours)], density=True)\n",
        "\n",
        "    plt.title(title)\n",
        "    plt.xticks(rotation='vertical')"
      ],
      "execution_count": 3,
      "outputs": []
    },
    {
      "cell_type": "code",
      "metadata": {
        "id": "engCbj0hdE1C"
      },
      "source": [
        "def train_val_test_split_by_column(dataframe, column, seed, train_size=0.666, val_size=0.5):\n",
        "    \"\"\"\n",
        "    Creates the train, validation and test sets based on a column.\n",
        "    :param dataframe:  The dataframe that holds the data.\n",
        "    :param column:     The column to do the splitting on.\n",
        "    :param seed:       The seed for the randomizer splitter.\n",
        "    :param train_size: The size of the training set.\n",
        "    :param val_size:   The size of the validation set, with the left overs being the test set.\n",
        "    :return: The train, validation and test sets.\n",
        "    \"\"\"\n",
        "\n",
        "    # Getting the unique column values to split on so that no same values are in different sets.\n",
        "    splitting_IDs = dataframe[column].unique()\n",
        "\n",
        "    # Split the train set from the rest.\n",
        "    train_IDs, test_IDs = train_test_split(splitting_IDs, train_size=train_size, shuffle=True, random_state=seed)\n",
        "\n",
        "    # Split the left over into the validation and test sets.\n",
        "    val_IDs, test_IDs = train_test_split(test_IDs, train_size=val_size, shuffle=True, random_state=seed)\n",
        "\n",
        "    # Turn into dataframe.\n",
        "    train_IDs = pd.DataFrame(train_IDs)\n",
        "\n",
        "    # Create column split with values being train. This lets us distinguish the\n",
        "    # training data from the other data sets when we merge them all together.\n",
        "    train_IDs.rename(columns={0: column}, inplace=True)\n",
        "    train_IDs['split'] = 'train'\n",
        "\n",
        "    # Turn into dataframe.\n",
        "    val_IDs = pd.DataFrame(val_IDs)\n",
        "\n",
        "    # Create column split with values being validation. This lets us distinguish the\n",
        "    # validation data from the other data sets when we merge them all together.\n",
        "    val_IDs.rename(columns={0: column}, inplace=True)\n",
        "    val_IDs['split'] = 'validation'\n",
        "\n",
        "    # Turn into dataframe.\n",
        "    test_IDs = pd.DataFrame(test_IDs)\n",
        "\n",
        "    # Create column split with values being test. This lets us distinguish the\n",
        "    # test data from the other data sets when we merge them all together.\n",
        "    test_IDs.rename(columns={0: column}, inplace=True)\n",
        "    test_IDs['split'] = 'test'\n",
        "\n",
        "    # Combine the split ids\n",
        "    splits = pd.concat([train_IDs, val_IDs, test_IDs], ignore_index=True)\n",
        "\n",
        "    # Add the new columns to original dataframe.\n",
        "    dataframe = pd.merge(dataframe, splits, on=column)\n",
        "\n",
        "    # Extract the training set where split equals train.\n",
        "    train_set = dataframe[dataframe['split'] == 'train']\n",
        "    train_set = train_set.drop(['split'], axis=1)\n",
        "\n",
        "    # Extract the validation set where split equals validation.\n",
        "    validation_set = dataframe[dataframe['split'] == 'validation']\n",
        "    validation_set = validation_set.drop(['split'], axis=1)\n",
        "\n",
        "    # Extract the test set where split equals test.\n",
        "    test_set = dataframe[dataframe['split'] == 'test']\n",
        "    test_set = test_set.drop(['split'], axis=1)\n",
        "\n",
        "    return train_set, validation_set, test_set"
      ],
      "execution_count": 4,
      "outputs": []
    },
    {
      "cell_type": "code",
      "metadata": {
        "id": "eq4DV0L6dE7s"
      },
      "source": [
        "def plot_learning_curve(train_loss, val_loss, train_metric, val_metric,\n",
        "                        metric_name='Accuracy'):\n",
        "    \"\"\"\n",
        "    Plots the history returned by model.fit().\n",
        "    :param train_loss: The loss history from fitting.\n",
        "    :param val_loss: The validation set loss history from validating.\n",
        "    :param train_metric: The training metrics.\n",
        "    :param val_metric: The validation metrics.\n",
        "    :param metric_name: The metric name i.e accuracy\n",
        "    :return: A graph plotting the history of the training and fitting results after every epoch.\n",
        "    \"\"\"\n",
        "    plt.figure(figsize=(10, 5))\n",
        "\n",
        "    plt.subplot(1, 2, 1)\n",
        "    plt.plot(train_loss, 'r--')\n",
        "    plt.plot(val_loss, 'b--')\n",
        "    plt.xlabel(\"epochs\")\n",
        "    plt.ylabel(\"Loss\")\n",
        "    plt.legend(['train', 'val'], loc='upper left')\n",
        "\n",
        "    plt.subplot(1, 2, 2)\n",
        "    plt.plot(train_metric, 'r--')\n",
        "    plt.plot(val_metric, 'b--')\n",
        "    plt.xlabel(\"epochs\")\n",
        "    plt.ylabel(metric_name)\n",
        "    plt.legend(['train', 'val'], loc='upper left')\n",
        "\n",
        "    plt.show()"
      ],
      "execution_count": 5,
      "outputs": []
    },
    {
      "cell_type": "code",
      "metadata": {
        "id": "Zu0qdVsmdE9U"
      },
      "source": [
        "def get_imagery_data_sets(train_set, validation_set, test_set, directory, x_col, y_col, batch_size):\n",
        "    \"\"\"\n",
        "    Gets the imagery data from the reference id's in each data set.\n",
        "    :param train_set: The dataframe containing the set of ids in the training set.\n",
        "    :param validation_set: The dataframe containing the set of validation ids.\n",
        "    :param test_set: The dataframe containing the test ids.\n",
        "    :param directory: The directory that the images are located.\n",
        "    :param y_col: The target column name to make the taget column into a string type.\n",
        "    :param batch_size: The batch size to which the data generator batches the imagery data.\n",
        "    :return: Returns the 3 data generators (train, validation, test) that have the images data.\n",
        "    \"\"\"\n",
        "    # Make target feature a string so that the categorical class_mode can categorise it.\n",
        "    train_set[y_col] = train_set[y_col].astype('str')\n",
        "    validation_set[y_col] = validation_set[y_col].astype('str')\n",
        "    test_set[y_col] = test_set[y_col].astype('str')\n",
        "\n",
        "    train_datagen = ImageDataGenerator(rescale=1. / 255, data_format='channels_last')\n",
        "    val_datagen = ImageDataGenerator(rescale=1. / 255, data_format='channels_last')\n",
        "    test_datagen = ImageDataGenerator(rescale=1. / 255, data_format='channels_last')\n",
        "\n",
        "    # The parameters that all data set generators have in common.\n",
        "    generator_parameters = dict(\n",
        "        directory=directory,\n",
        "        x_col=x_col,\n",
        "        y_col=y_col,\n",
        "        target_size=(27, 27),\n",
        "        class_mode='categorical')\n",
        "\n",
        "    # Train set generator to evaluate produce dataframe with train images.\n",
        "    train_imagery_set = train_datagen.flow_from_dataframe(\n",
        "        dataframe=train_set,\n",
        "        batch_size=batch_size,\n",
        "        **generator_parameters)\n",
        "\n",
        "    # Validation set generator to evaluate produce dataframe with validation images.\n",
        "    val_imagery_set = val_datagen.flow_from_dataframe(\n",
        "        dataframe=validation_set,\n",
        "        batch_size=batch_size,\n",
        "        **generator_parameters)\n",
        "\n",
        "    # Test set generator to evaluate produce dataframe with test images.\n",
        "    test_imagery_set = test_datagen.flow_from_dataframe(\n",
        "        dataframe=test_set,\n",
        "        batch_size=1,\n",
        "        **generator_parameters)\n",
        "\n",
        "    return train_imagery_set, val_imagery_set, test_imagery_set"
      ],
      "execution_count": 58,
      "outputs": []
    },
    {
      "cell_type": "code",
      "metadata": {
        "id": "T0JNb5bmxA7h"
      },
      "source": [
        "def get_unique_id_from_hyperparameters(hyperparameters, model_name):\n",
        "    \"\"\"\n",
        "    Creates a unique id from a dictionary of hyperparameters and names from layers, that is used in naming a model uniquely.\n",
        "    :param hyperparameters: The dictionary of hyperparameters for a model.\n",
        "    :param model_name: The name of the model.\n",
        "    :return: A unique name that was from encoding the hyperparameters and getting the names of the layers.\n",
        "    \"\"\"\n",
        "    name = []\n",
        "\n",
        "    # join the parameters into a name.\n",
        "    for key in hyperparameters:\n",
        "        first_letter = key[0].capitalize()\n",
        "        value = hyperparameters[key].name if not isinstance(hyperparameters[key], str) and not isinstance(\n",
        "            hyperparameters[key], int) else hyperparameters[key]\n",
        "        name.append(first_letter + str(value).replace(\"_\", \"\"))\n",
        "\n",
        "    name.append(model_name)\n",
        "    return \"_\".join(name)"
      ],
      "execution_count": 7,
      "outputs": []
    },
    {
      "cell_type": "code",
      "metadata": {
        "id": "Vg06rcOU1Qp5"
      },
      "source": [
        "def setup_model_store(hyperparameters, model_name):\n",
        "    \"\"\"\n",
        "    Sets up the paths and directories necessary to save the model and training history of that model.\n",
        "    :param hyperparameters: The hyperparameters of the model.\n",
        "    :param model_name: The name of the model.\n",
        "    :return: The full path of the model directory and the full path location for the history.\n",
        "    \"\"\"\n",
        "    # Train MLP.\n",
        "    model_id = get_unique_id_from_hyperparameters(hyperparameters, model_name)\n",
        "    print(\"~~~~~~~~~~ \" + model_id + \" ~~~~~~~~~~\")\n",
        "\n",
        "    # Root google dir.\n",
        "    root_dir = \"/content/drive/My Drive/CML-Assignment-2/\"\n",
        "\n",
        "    # Make path for models.\n",
        "    model_dir = \"models/\" + model_id\n",
        "    full_model_dir = root_dir + model_dir\n",
        "\n",
        "    # Make path for history logs.\n",
        "    history_path = model_dir + \"/history.csv\"\n",
        "    full_history_path = root_dir + history_path\n",
        "\n",
        "    # Make a directory if it doesn't exist. Any error output do not show.\n",
        "    !mkdir / content / drive / 'My Drive' / CML-Assignment-2 / {model_dir} 2 > / dev / null\n",
        "\n",
        "    return full_model_dir, full_history_path"
      ],
      "execution_count": 8,
      "outputs": []
    },
    {
      "cell_type": "code",
      "metadata": {
        "id": "CAiNtBoHB2xl"
      },
      "source": [
        "def diff(count, highest_value):\n",
        "  return abs(((count/highest_value) * 100) - 100)"
      ],
      "execution_count": 9,
      "outputs": []
    },
    {
      "cell_type": "code",
      "metadata": {
        "id": "cGwCcLpDLTR0"
      },
      "source": [
        "def get_variance_between_datasets(main_train_set, main_validation_set, main_test_set, optimise_column):\n",
        "\n",
        "  # Initialise varaince to 0.\n",
        "  total_variance = 0\n",
        "\n",
        "  # Loop through the different cell types.\n",
        "  for i in range(0, len(main_train_set.groupby(optimise_column).count()['ImageName'])):\n",
        "\n",
        "    # Get the frequency count for each cell type\n",
        "    train_count = main_train_set.groupby(optimise_column).count()['ImageName'][i]\n",
        "    val_count = main_validation_set.groupby(optimise_column).count()['ImageName'][i]\n",
        "    test_count = main_test_set.groupby(optimise_column).count()['ImageName'][i]\n",
        "\n",
        "    # Get the highest frequency count.\n",
        "    highest_value = max(train_count, val_count, test_count)\n",
        "\n",
        "    # Get the total difference in how much the data sets differ from the highest value.\n",
        "    # Best case scenario is that they are all equal and difference = 0.\n",
        "    total_variance += diff(train_count, highest_value) + diff(val_count, highest_value) + diff(test_count, highest_value)\n",
        "  \n",
        "  return total_variance\n"
      ],
      "execution_count": 21,
      "outputs": []
    },
    {
      "cell_type": "code",
      "metadata": {
        "id": "e1uTssCbW6Zb"
      },
      "source": [
        "def optimise_split(data_set, split_column, optimise_column, iterations):\n",
        "  seed = 0\n",
        "  smallest_variance = 9999\n",
        "  for i in range(1, iterations):\n",
        "    # Split the data based on patient ID.\n",
        "    main_train_set, main_validation_set, main_test_set = train_val_test_split_by_column(data_set, split_column, i)\n",
        "    variance = get_variance_between_datasets(main_train_set, main_validation_set, main_test_set, optimise_column)\n",
        "    if variance < smallest_variance:\n",
        "      smallest_variance = variance\n",
        "      seed = i\n",
        "\n",
        "  return seed, smallest_variance"
      ],
      "execution_count": 11,
      "outputs": []
    },
    {
      "cell_type": "markdown",
      "metadata": {
        "id": "oU0Wjtk_807w"
      },
      "source": [
        "## 0.3 - Unzip zipped data"
      ]
    },
    {
      "cell_type": "code",
      "metadata": {
        "id": "RNfQletN807w",
        "colab": {
          "base_uri": "https://localhost:8080/"
        },
        "outputId": "ae6db657-d6ff-4401-970e-c4cee2c5b01a"
      },
      "source": [
        "from google.colab import drive\n",
        "\n",
        "# Mount the google drive to get the imagery data and get any saved models previously.\n",
        "drive.mount('/content/drive', force_remount=True)"
      ],
      "execution_count": 12,
      "outputs": [
        {
          "output_type": "stream",
          "text": [
            "Mounted at /content/drive\n"
          ],
          "name": "stdout"
        }
      ]
    },
    {
      "cell_type": "code",
      "metadata": {
        "id": "e_PXR8z-807y",
        "colab": {
          "base_uri": "https://localhost:8080/"
        },
        "outputId": "69bac10e-1595-43fd-e306-c1640818a3b9"
      },
      "source": [
        "# Change according to your directory structure\n",
        "!cp /content/drive/'My Drive'/CML-Assignment-2/Image_classification_data.zip .\n",
        "!unzip -q -o Image_classification_data.zip\n",
        "!rm Image_classification_data.zip\n",
        "!ls"
      ],
      "execution_count": 13,
      "outputs": [
        {
          "output_type": "stream",
          "text": [
            "data_labels_extraData.csv  drive     patch_images\n",
            "data_labels_mainData.csv   __MACOSX  sample_data\n"
          ],
          "name": "stdout"
        }
      ]
    },
    {
      "cell_type": "markdown",
      "metadata": {
        "id": "iTVHd1WIgU2x"
      },
      "source": [
        "## 0.4 - Load the data\n",
        "This data contains both the cell type and isCancerous labels."
      ]
    },
    {
      "cell_type": "code",
      "metadata": {
        "id": "OPwo9mZwgS6T"
      },
      "source": [
        "# Load the csv data, which contains references to the imagery data.\n",
        "ct_data = pd.read_csv('./data_labels_mainData.csv', delimiter=',')\n",
        "extra_data = pd.read_csv('./data_labels_extraData.csv', delimiter=',')"
      ],
      "execution_count": 14,
      "outputs": []
    },
    {
      "cell_type": "markdown",
      "metadata": {
        "id": "Ln_1NtGHgK1Z"
      },
      "source": [
        "# 1 - Exploratory Data Analysis\n",
        "This section is an analysis on the main data set.\n",
        "This will be used to classify the cell types correctly.\n",
        "\n",
        "Next is an analysis on the extra data and how that can be combined with the main data to improve the accuracy of the models in determining if the cell picture is cancerous or not."
      ]
    },
    {
      "cell_type": "markdown",
      "metadata": {
        "id": "K7ZtWLSX27kj"
      },
      "source": [
        "## 1.1 Main Data Set EDA"
      ]
    },
    {
      "cell_type": "code",
      "metadata": {
        "id": "dEOzqQwH807z",
        "colab": {
          "base_uri": "https://localhost:8080/",
          "height": 288
        },
        "outputId": "bd5070fe-4b7c-4f74-98e9-942edee65172"
      },
      "source": [
        "ct_data.describe()"
      ],
      "execution_count": 15,
      "outputs": [
        {
          "output_type": "execute_result",
          "data": {
            "text/html": [
              "<div>\n",
              "<style scoped>\n",
              "    .dataframe tbody tr th:only-of-type {\n",
              "        vertical-align: middle;\n",
              "    }\n",
              "\n",
              "    .dataframe tbody tr th {\n",
              "        vertical-align: top;\n",
              "    }\n",
              "\n",
              "    .dataframe thead th {\n",
              "        text-align: right;\n",
              "    }\n",
              "</style>\n",
              "<table border=\"1\" class=\"dataframe\">\n",
              "  <thead>\n",
              "    <tr style=\"text-align: right;\">\n",
              "      <th></th>\n",
              "      <th>InstanceID</th>\n",
              "      <th>patientID</th>\n",
              "      <th>cellType</th>\n",
              "      <th>isCancerous</th>\n",
              "    </tr>\n",
              "  </thead>\n",
              "  <tbody>\n",
              "    <tr>\n",
              "      <th>count</th>\n",
              "      <td>9896.000000</td>\n",
              "      <td>9896.000000</td>\n",
              "      <td>9896.000000</td>\n",
              "      <td>9896.000000</td>\n",
              "    </tr>\n",
              "    <tr>\n",
              "      <th>mean</th>\n",
              "      <td>10193.880154</td>\n",
              "      <td>29.762025</td>\n",
              "      <td>1.501516</td>\n",
              "      <td>0.412187</td>\n",
              "    </tr>\n",
              "    <tr>\n",
              "      <th>std</th>\n",
              "      <td>6652.912660</td>\n",
              "      <td>17.486553</td>\n",
              "      <td>0.954867</td>\n",
              "      <td>0.492253</td>\n",
              "    </tr>\n",
              "    <tr>\n",
              "      <th>min</th>\n",
              "      <td>1.000000</td>\n",
              "      <td>1.000000</td>\n",
              "      <td>0.000000</td>\n",
              "      <td>0.000000</td>\n",
              "    </tr>\n",
              "    <tr>\n",
              "      <th>25%</th>\n",
              "      <td>4135.750000</td>\n",
              "      <td>14.000000</td>\n",
              "      <td>1.000000</td>\n",
              "      <td>0.000000</td>\n",
              "    </tr>\n",
              "    <tr>\n",
              "      <th>50%</th>\n",
              "      <td>9279.500000</td>\n",
              "      <td>26.000000</td>\n",
              "      <td>2.000000</td>\n",
              "      <td>0.000000</td>\n",
              "    </tr>\n",
              "    <tr>\n",
              "      <th>75%</th>\n",
              "      <td>16821.250000</td>\n",
              "      <td>47.000000</td>\n",
              "      <td>2.000000</td>\n",
              "      <td>1.000000</td>\n",
              "    </tr>\n",
              "    <tr>\n",
              "      <th>max</th>\n",
              "      <td>22444.000000</td>\n",
              "      <td>60.000000</td>\n",
              "      <td>3.000000</td>\n",
              "      <td>1.000000</td>\n",
              "    </tr>\n",
              "  </tbody>\n",
              "</table>\n",
              "</div>"
            ],
            "text/plain": [
              "         InstanceID    patientID     cellType  isCancerous\n",
              "count   9896.000000  9896.000000  9896.000000  9896.000000\n",
              "mean   10193.880154    29.762025     1.501516     0.412187\n",
              "std     6652.912660    17.486553     0.954867     0.492253\n",
              "min        1.000000     1.000000     0.000000     0.000000\n",
              "25%     4135.750000    14.000000     1.000000     0.000000\n",
              "50%     9279.500000    26.000000     2.000000     0.000000\n",
              "75%    16821.250000    47.000000     2.000000     1.000000\n",
              "max    22444.000000    60.000000     3.000000     1.000000"
            ]
          },
          "metadata": {
            "tags": []
          },
          "execution_count": 15
        }
      ]
    },
    {
      "cell_type": "code",
      "metadata": {
        "id": "GVjeLIvA8070",
        "colab": {
          "base_uri": "https://localhost:8080/",
          "height": 198
        },
        "outputId": "37da6493-d57c-4a56-c392-39cac64a8d4c"
      },
      "source": [
        "ct_data.head()"
      ],
      "execution_count": 16,
      "outputs": [
        {
          "output_type": "execute_result",
          "data": {
            "text/html": [
              "<div>\n",
              "<style scoped>\n",
              "    .dataframe tbody tr th:only-of-type {\n",
              "        vertical-align: middle;\n",
              "    }\n",
              "\n",
              "    .dataframe tbody tr th {\n",
              "        vertical-align: top;\n",
              "    }\n",
              "\n",
              "    .dataframe thead th {\n",
              "        text-align: right;\n",
              "    }\n",
              "</style>\n",
              "<table border=\"1\" class=\"dataframe\">\n",
              "  <thead>\n",
              "    <tr style=\"text-align: right;\">\n",
              "      <th></th>\n",
              "      <th>InstanceID</th>\n",
              "      <th>patientID</th>\n",
              "      <th>ImageName</th>\n",
              "      <th>cellTypeName</th>\n",
              "      <th>cellType</th>\n",
              "      <th>isCancerous</th>\n",
              "    </tr>\n",
              "  </thead>\n",
              "  <tbody>\n",
              "    <tr>\n",
              "      <th>0</th>\n",
              "      <td>22405</td>\n",
              "      <td>1</td>\n",
              "      <td>22405.png</td>\n",
              "      <td>fibroblast</td>\n",
              "      <td>0</td>\n",
              "      <td>0</td>\n",
              "    </tr>\n",
              "    <tr>\n",
              "      <th>1</th>\n",
              "      <td>22406</td>\n",
              "      <td>1</td>\n",
              "      <td>22406.png</td>\n",
              "      <td>fibroblast</td>\n",
              "      <td>0</td>\n",
              "      <td>0</td>\n",
              "    </tr>\n",
              "    <tr>\n",
              "      <th>2</th>\n",
              "      <td>22407</td>\n",
              "      <td>1</td>\n",
              "      <td>22407.png</td>\n",
              "      <td>fibroblast</td>\n",
              "      <td>0</td>\n",
              "      <td>0</td>\n",
              "    </tr>\n",
              "    <tr>\n",
              "      <th>3</th>\n",
              "      <td>22408</td>\n",
              "      <td>1</td>\n",
              "      <td>22408.png</td>\n",
              "      <td>fibroblast</td>\n",
              "      <td>0</td>\n",
              "      <td>0</td>\n",
              "    </tr>\n",
              "    <tr>\n",
              "      <th>4</th>\n",
              "      <td>22409</td>\n",
              "      <td>1</td>\n",
              "      <td>22409.png</td>\n",
              "      <td>fibroblast</td>\n",
              "      <td>0</td>\n",
              "      <td>0</td>\n",
              "    </tr>\n",
              "  </tbody>\n",
              "</table>\n",
              "</div>"
            ],
            "text/plain": [
              "   InstanceID  patientID  ImageName cellTypeName  cellType  isCancerous\n",
              "0       22405          1  22405.png   fibroblast         0            0\n",
              "1       22406          1  22406.png   fibroblast         0            0\n",
              "2       22407          1  22407.png   fibroblast         0            0\n",
              "3       22408          1  22408.png   fibroblast         0            0\n",
              "4       22409          1  22409.png   fibroblast         0            0"
            ]
          },
          "metadata": {
            "tags": []
          },
          "execution_count": 16
        }
      ]
    },
    {
      "cell_type": "code",
      "metadata": {
        "id": "dRxdm5yKfLAm",
        "colab": {
          "base_uri": "https://localhost:8080/"
        },
        "outputId": "5046b141-5167-4be0-c5e7-dd87c6f4ea99"
      },
      "source": [
        "ct_data.info()"
      ],
      "execution_count": 17,
      "outputs": [
        {
          "output_type": "stream",
          "text": [
            "<class 'pandas.core.frame.DataFrame'>\n",
            "RangeIndex: 9896 entries, 0 to 9895\n",
            "Data columns (total 6 columns):\n",
            " #   Column        Non-Null Count  Dtype \n",
            "---  ------        --------------  ----- \n",
            " 0   InstanceID    9896 non-null   int64 \n",
            " 1   patientID     9896 non-null   int64 \n",
            " 2   ImageName     9896 non-null   object\n",
            " 3   cellTypeName  9896 non-null   object\n",
            " 4   cellType      9896 non-null   int64 \n",
            " 5   isCancerous   9896 non-null   int64 \n",
            "dtypes: int64(4), object(2)\n",
            "memory usage: 464.0+ KB\n"
          ],
          "name": "stdout"
        }
      ]
    },
    {
      "cell_type": "markdown",
      "metadata": {
        "id": "jf0Bfcj8hWef"
      },
      "source": [
        "### 1.1.1 - Splitting the Main Data\n",
        "Splitting the main dataset into train, validation and test sets.\n",
        "This section actually split the data based on patient, so the data associated with that patient is not split across multiple data sets but instead all would be in one of the data sets, train, validation or test.\n",
        "\n",
        "This is done so that the test and validation data is tested on training data that came from completely new patients. If the patient's data was split across all the datasets then the data in the training set could be used to classify the same patients cells in the validation and test set. This would cause a problem if the model is used to classify new patients on a different data set. This decision allows for bias to be detected during training of the model and testing and counter measures can be put in place to reduce this seen bias."
      ]
    },
    {
      "cell_type": "markdown",
      "metadata": {
        "id": "82SaPscA_3_8"
      },
      "source": [
        "Split on many seeds to try find the optimal seed that produces the least variance of the data over the data sets so that all cell types are evenly distributed over the data sets."
      ]
    },
    {
      "cell_type": "code",
      "metadata": {
        "colab": {
          "base_uri": "https://localhost:8080/"
        },
        "id": "CSEj8h2fK5ED",
        "outputId": "c339c828-446f-487e-8160-3d0c57322ec1"
      },
      "source": [
        "seed, smallest_variance = optimise_split(ct_data, 'patientID', 'cellTypeName', 300)\n",
        "\n",
        "print(\"Best seed: \" + str(seed))\n",
        "print(\"Smallest Accumulated Variance %: \" + str(smallest_variance))"
      ],
      "execution_count": 22,
      "outputs": [
        {
          "output_type": "stream",
          "text": [
            "Best seed: 226\n",
            "Smallest Accumulated Variance %: 457.1016654051119\n"
          ],
          "name": "stdout"
        }
      ]
    },
    {
      "cell_type": "markdown",
      "metadata": {
        "id": "r-AKvc4pAFTI"
      },
      "source": [
        "Get the final judgment for the chosen seed to perform the split onto. (Seed 226)"
      ]
    },
    {
      "cell_type": "code",
      "metadata": {
        "colab": {
          "base_uri": "https://localhost:8080/",
          "height": 294
        },
        "id": "2dvUSPWK7cvV",
        "outputId": "3c11cae5-c8a5-44f0-d301-0171c2593180"
      },
      "source": [
        "# Split on the ultimate seed split with the least variance over the patient data.\n",
        "train_set_ct, validation_set_ct, test_set_ct = train_val_test_split_by_column(ct_data, 'patientID', seed)\n",
        "\n",
        "# Graph the split results.\n",
        "plt.figure(figsize=(3, 3))\n",
        "col = \"cellTypeName\"\n",
        "hist_plot(col, [train_set_ct[col], validation_set_ct[col], test_set_ct[col]], ['r', 'y', 'b'], 1, 1, 1)"
      ],
      "execution_count": 25,
      "outputs": [
        {
          "output_type": "display_data",
          "data": {
            "image/png": "[encoded data removed]",
            "text/plain": [
              "<Figure size 216x216 with 1 Axes>"
            ]
          },
          "metadata": {
            "tags": [],
            "needs_background": "light"
          }
        }
      ]
    },
    {
      "cell_type": "markdown",
      "metadata": {
        "id": "p1B5rR4HLl5t"
      },
      "source": [
        "🧐 **Observations:**\n",
        "> - Epithelial cell type is evenly distributed over the train, validation and test set, but the other types are not.\n",
        "> - Train set has the epithelial data, test set has the least.\n",
        "> - Fibroblast is relatively the same over the 3 data sets.\n",
        "> - Train set lacks in the inflammatory data comapred to the other data sets.\n",
        "> - Validation data contains half other cell types than the test set\n",
        "> - The data has been split to optimise on cell type which means isCancerous target might be badly variant and un even.\n",
        "\n",
        "👨🏻‍🎓 **Conclusions**\n",
        "> - Splitting on patient ID can't get all colours to be overlapped meaning that some patients have more data than others which means applying patients to entire datasets can't even distribute the total data eveny well.\n",
        "> - Test if this data split is also opitmised for isCancerious target field."
      ]
    },
    {
      "cell_type": "markdown",
      "metadata": {
        "id": "2ybo1hTSO2_O"
      },
      "source": [
        "Test if this data split is also opitmised for isCancerious target field."
      ]
    },
    {
      "cell_type": "code",
      "metadata": {
        "id": "P8zB37UyhiN4",
        "colab": {
          "base_uri": "https://localhost:8080/"
        },
        "outputId": "5ac77005-f239-4745-b7ed-5fca267a6d73"
      },
      "source": [
        "print('Overall ferquency of isCancerous:')\n",
        "print(ct_data.isCancerous.value_counts().to_frame())\n",
        "\n",
        "print('In training data: ')\n",
        "print(train_set_ct.isCancerous.value_counts().to_frame())\n",
        "\n",
        "print('In validation data: ')\n",
        "print(validation_set_ct.isCancerous.value_counts().to_frame())\n",
        "\n",
        "print('In test data: ')\n",
        "print(test_set_ct.isCancerous.value_counts().to_frame())"
      ],
      "execution_count": 27,
      "outputs": [
        {
          "output_type": "stream",
          "text": [
            "Overall ferquency of isCancerous:\n",
            "   isCancerous\n",
            "0         5817\n",
            "1         4079\n",
            "In training data: \n",
            "   isCancerous\n",
            "0         3004\n",
            "1         2479\n",
            "In validation data: \n",
            "   isCancerous\n",
            "0         1343\n",
            "1          888\n",
            "In test data: \n",
            "   isCancerous\n",
            "0         1470\n",
            "1          712\n"
          ],
          "name": "stdout"
        }
      ]
    },
    {
      "cell_type": "code",
      "metadata": {
        "colab": {
          "base_uri": "https://localhost:8080/",
          "height": 249
        },
        "id": "xGz0BeyvOEec",
        "outputId": "94c7d280-54a0-46b3-995c-db9dc6c5d6a1"
      },
      "source": [
        "# Graph the split results.\n",
        "plt.figure(figsize=(3, 3))\n",
        "col = \"isCancerous\"\n",
        "hist_plot(col, [train_set_ct[col], validation_set_ct[col], test_set_ct[col]], ['r', 'y', 'b'], 1, 1, 1)"
      ],
      "execution_count": 28,
      "outputs": [
        {
          "output_type": "display_data",
          "data": {
            "image/png": "[encoded data removed]",
            "text/plain": [
              "<Figure size 216x216 with 1 Axes>"
            ]
          },
          "metadata": {
            "tags": [],
            "needs_background": "light"
          }
        }
      ]
    },
    {
      "cell_type": "markdown",
      "metadata": {
        "id": "mHh9XhSpVmpR"
      },
      "source": [
        "🧐 **Observations:**\n",
        "> - In the main data set there approx 30% less cancerous (1) cell data than non-cancerous (0).\n",
        "> - After the split, train set has approx 20% less cancerous (1) cell data than non-cancerous (0).\n",
        "> - After the split, validation set has approx 60% less cancerous (1) cell data than non-cancerous (0).\n",
        "> - After the split, test set has approx 50% less cancerous (1) cell data than non-cancerous (0).\n",
        "\n",
        "👨🏻‍🎓 **Conclusions**\n",
        "> - Splitting in priority of cell type has made the diffence in cancerous and non-cancerous variance very high, with some data sets contianing 50% difference in cancerous to non-cancerous.\n",
        "> - Optimise the data split again for cancerous and non cancerous classification."
      ]
    },
    {
      "cell_type": "markdown",
      "metadata": {
        "id": "vUjVCFw1OISi"
      },
      "source": [
        "### 1.1.2 - Preview Main Data\n",
        "Previewing the contents of the main data set."
      ]
    },
    {
      "cell_type": "code",
      "metadata": {
        "colab": {
          "base_uri": "https://localhost:8080/"
        },
        "id": "u8XN9wEyOGir",
        "outputId": "f13910d1-6913-43c1-ce13-991e313ca858"
      },
      "source": [
        "df1 = ct_data.groupby(['cellTypeName', 'cellType'])['InstanceID'].nunique()\n",
        "df2 = ct_data.groupby(['isCancerous'])['InstanceID'].nunique()\n",
        "print(df1)\n",
        "print(df2)"
      ],
      "execution_count": 29,
      "outputs": [
        {
          "output_type": "stream",
          "text": [
            "cellTypeName  cellType\n",
            "epithelial    2           4079\n",
            "fibroblast    0           1888\n",
            "inflammatory  1           2543\n",
            "others        3           1386\n",
            "Name: InstanceID, dtype: int64\n",
            "isCancerous\n",
            "0    5817\n",
            "1    4079\n",
            "Name: InstanceID, dtype: int64\n"
          ],
          "name": "stdout"
        }
      ]
    },
    {
      "cell_type": "code",
      "metadata": {
        "id": "4UIxguzJReLo",
        "colab": {
          "base_uri": "https://localhost:8080/"
        },
        "outputId": "7be37f27-a0af-4b51-b7a2-cd99570f5251"
      },
      "source": [
        "label_names = {k: v for k, v in df1.keys()}\n",
        "cellTypes = {v: k for k, v in label_names.items()}\n",
        "print(label_names)\n",
        "print(cellTypes)"
      ],
      "execution_count": 30,
      "outputs": [
        {
          "output_type": "stream",
          "text": [
            "{'epithelial': 2, 'fibroblast': 0, 'inflammatory': 1, 'others': 3}\n",
            "{2: 'epithelial', 0: 'fibroblast', 1: 'inflammatory', 3: 'others'}\n"
          ],
          "name": "stdout"
        }
      ]
    },
    {
      "cell_type": "code",
      "metadata": {
        "id": "BUED11icHvbj",
        "colab": {
          "base_uri": "https://localhost:8080/",
          "height": 708
        },
        "outputId": "9d36ce75-03a4-4c10-af33-c3af5c254676"
      },
      "source": [
        "img_list = list(ct_data[\"ImageName\"])\n",
        "types = list(ct_data[\"cellType\"])\n",
        "target_list = list(ct_data[\"isCancerous\"])\n",
        "target_labels = {1: \"Cancerous\", 0: \"Non-Cancerous\"}\n",
        "\n",
        "plt.figure(figsize=[25, 12])\n",
        "\n",
        "for i in np.arange(40):\n",
        "    plt.subplot(4, 10, i + 1)\n",
        "    img = Image.open('./patch_images/' + img_list[i])\n",
        "\n",
        "    plt.imshow(img)\n",
        "    plt.title(cellTypes[types[i]] + \"\\n\" + target_labels[target_list[i]])"
      ],
      "execution_count": 31,
      "outputs": [
        {
          "output_type": "display_data",
          "data": {
            "image/png": "[encoded data removed]",
            "text/plain": [
              "<Figure size 1800x864 with 40 Axes>"
            ]
          },
          "metadata": {
            "tags": [],
            "needs_background": "light"
          }
        }
      ]
    },
    {
      "cell_type": "code",
      "metadata": {
        "id": "xDEjfbUdHqYW",
        "colab": {
          "base_uri": "https://localhost:8080/"
        },
        "outputId": "a2fa084a-860a-4484-df9d-8c9df641f361"
      },
      "source": [
        "# Check image sizes\n",
        "img = Image.open('./patch_images/' + img_list[100])\n",
        "img_numpy = np.ascontiguousarray(img, dtype=np.float32)\n",
        "print(\"Image size: \\nH:{} W:{} C:{}\".format(img_numpy.shape[0], img_numpy.shape[1], img_numpy.shape[2]))"
      ],
      "execution_count": 32,
      "outputs": [
        {
          "output_type": "stream",
          "text": [
            "Image size: \n",
            "H:27 W:27 C:3\n"
          ],
          "name": "stdout"
        }
      ]
    },
    {
      "cell_type": "markdown",
      "metadata": {
        "id": "YC7FqgXWfWUP"
      },
      "source": [
        "### 1.1.3 - Transform Main Data\n",
        "Set all types to be of type Object. We do this because all the variables are categorical, they don't have any continuous values, so it's easier while creating visualizations."
      ]
    },
    {
      "cell_type": "code",
      "metadata": {
        "id": "l2KWLokDfYTk"
      },
      "source": [
        "for column in ct_data.columns:\n",
        "    ct_data[column] = ct_data[column].astype('object')"
      ],
      "execution_count": 33,
      "outputs": []
    },
    {
      "cell_type": "code",
      "metadata": {
        "id": "y6wQgh9kfWAC",
        "colab": {
          "base_uri": "https://localhost:8080/"
        },
        "outputId": "0cd6e18b-7f4b-4494-dc9e-77d96e54c153"
      },
      "source": [
        "print(ct_data.info())"
      ],
      "execution_count": 35,
      "outputs": [
        {
          "output_type": "stream",
          "text": [
            "<class 'pandas.core.frame.DataFrame'>\n",
            "RangeIndex: 9896 entries, 0 to 9895\n",
            "Data columns (total 6 columns):\n",
            " #   Column        Non-Null Count  Dtype \n",
            "---  ------        --------------  ----- \n",
            " 0   InstanceID    9896 non-null   object\n",
            " 1   patientID     9896 non-null   object\n",
            " 2   ImageName     9896 non-null   object\n",
            " 3   cellTypeName  9896 non-null   object\n",
            " 4   cellType      9896 non-null   object\n",
            " 5   isCancerous   9896 non-null   object\n",
            "dtypes: object(6)\n",
            "memory usage: 464.0+ KB\n",
            "None\n"
          ],
          "name": "stdout"
        }
      ]
    },
    {
      "cell_type": "markdown",
      "metadata": {
        "id": "wrCIkdp1hIwq"
      },
      "source": [
        "### 1.1.4 - Examine Main Data\n",
        "Examining the data's distribution via bucketing the categories.\n",
        "\n"
      ]
    },
    {
      "cell_type": "code",
      "metadata": {
        "id": "a8W2oBZXf1uM",
        "colab": {
          "base_uri": "https://localhost:8080/",
          "height": 370
        },
        "outputId": "0242c477-7dfa-44f1-9786-bb89f610e2ba"
      },
      "source": [
        "pd.crosstab(ct_data['cellTypeName'], ct_data['isCancerous'], margins=False).plot.bar(stacked=True,\n",
        "                                                                                         title='Frequency of cell types',\n",
        "                                                                                         xlabel='Cell Type',\n",
        "                                                                                         ylabel='Number of Images')"
      ],
      "execution_count": 36,
      "outputs": [
        {
          "output_type": "execute_result",
          "data": {
            "text/plain": [
              "<matplotlib.axes._subplots.AxesSubplot at 0x7f1229d35c10>"
            ]
          },
          "metadata": {
            "tags": []
          },
          "execution_count": 36
        },
        {
          "output_type": "display_data",
          "data": {
            "image/png": "[encoded data removed]",
            "text/plain": [
              "<Figure size 432x288 with 1 Axes>"
            ]
          },
          "metadata": {
            "tags": [],
            "needs_background": "light"
          }
        }
      ]
    },
    {
      "cell_type": "markdown",
      "metadata": {
        "id": "S27_ZXj_Ir8z"
      },
      "source": [
        "🧐 **Observations:**\n",
        "> - All epithelial cell types are cancerous in this dataset.\n",
        "> - All the rest of the cell types are not cancerous\n",
        "> - There is a lot more epithelial cells compared to the other types.\n",
        "\n",
        "👨🏻‍🎓 **Conclusions**\n",
        "> - Epithelial cells are biased to only being cancerous when in fact all humans have epithelial cells in our bodies and some humans don't have cancer, so if there are epithelial cells in the test set that are not cancerous then the system could be biased in thinking they are.\n",
        "> - This same logic appleis the other way with the rest of the cell types all not being cancerous. If the other cell types become cancerous then it is **possible** the system is biased towards them never being cancerous."
      ]
    },
    {
      "cell_type": "code",
      "metadata": {
        "id": "ZdA76AabhI_A",
        "colab": {
          "base_uri": "https://localhost:8080/",
          "height": 642
        },
        "outputId": "9b26a193-223c-44cc-c6ad-34c9345f5469"
      },
      "source": [
        "ct_data.patientID.value_counts().to_frame().plot(kind='bar',\n",
        "                                                    title='Patients by number of images',\n",
        "                                                    xlabel='Patient ID', ylabel='Number of images',\n",
        "                                                    legend=False,\n",
        "                                                   figsize=[20,10])"
      ],
      "execution_count": 37,
      "outputs": [
        {
          "output_type": "execute_result",
          "data": {
            "text/plain": [
              "<matplotlib.axes._subplots.AxesSubplot at 0x7f1229cad750>"
            ]
          },
          "metadata": {
            "tags": []
          },
          "execution_count": 37
        },
        {
          "output_type": "display_data",
          "data": {
            "image/png": "[encoded data removed]",
            "text/plain": [
              "<Figure size 1440x720 with 1 Axes>"
            ]
          },
          "metadata": {
            "tags": [],
            "needs_background": "light"
          }
        }
      ]
    },
    {
      "cell_type": "markdown",
      "metadata": {
        "id": "IhzjzSiFIkvP"
      },
      "source": [
        "🧐 **Observations:**\n",
        "> - The top 5 patients contain between 330 - 380 images\n",
        "> - Bottom 5 patients contain \n",
        "\n",
        "👨🏻‍🎓 **Conclusions**\n",
        "> - "
      ]
    },
    {
      "cell_type": "markdown",
      "metadata": {
        "id": "7oiluHVy3bRA"
      },
      "source": [
        "## 1.2 Combined Data Set EDA"
      ]
    },
    {
      "cell_type": "code",
      "metadata": {
        "id": "y69BoivJZdEf",
        "colab": {
          "base_uri": "https://localhost:8080/",
          "height": 168
        },
        "outputId": "00451014-4763-4bee-cbf8-a8667f31711b"
      },
      "source": [
        "ct_data.describe()"
      ],
      "execution_count": 38,
      "outputs": [
        {
          "output_type": "execute_result",
          "data": {
            "text/html": [
              "<div>\n",
              "<style scoped>\n",
              "    .dataframe tbody tr th:only-of-type {\n",
              "        vertical-align: middle;\n",
              "    }\n",
              "\n",
              "    .dataframe tbody tr th {\n",
              "        vertical-align: top;\n",
              "    }\n",
              "\n",
              "    .dataframe thead th {\n",
              "        text-align: right;\n",
              "    }\n",
              "</style>\n",
              "<table border=\"1\" class=\"dataframe\">\n",
              "  <thead>\n",
              "    <tr style=\"text-align: right;\">\n",
              "      <th></th>\n",
              "      <th>InstanceID</th>\n",
              "      <th>patientID</th>\n",
              "      <th>ImageName</th>\n",
              "      <th>cellTypeName</th>\n",
              "      <th>cellType</th>\n",
              "      <th>isCancerous</th>\n",
              "    </tr>\n",
              "  </thead>\n",
              "  <tbody>\n",
              "    <tr>\n",
              "      <th>count</th>\n",
              "      <td>9896</td>\n",
              "      <td>9896</td>\n",
              "      <td>9896</td>\n",
              "      <td>9896</td>\n",
              "      <td>9896</td>\n",
              "      <td>9896</td>\n",
              "    </tr>\n",
              "    <tr>\n",
              "      <th>unique</th>\n",
              "      <td>9896</td>\n",
              "      <td>60</td>\n",
              "      <td>9896</td>\n",
              "      <td>4</td>\n",
              "      <td>4</td>\n",
              "      <td>2</td>\n",
              "    </tr>\n",
              "    <tr>\n",
              "      <th>top</th>\n",
              "      <td>972</td>\n",
              "      <td>54</td>\n",
              "      <td>16719.png</td>\n",
              "      <td>epithelial</td>\n",
              "      <td>2</td>\n",
              "      <td>0</td>\n",
              "    </tr>\n",
              "    <tr>\n",
              "      <th>freq</th>\n",
              "      <td>1</td>\n",
              "      <td>389</td>\n",
              "      <td>1</td>\n",
              "      <td>4079</td>\n",
              "      <td>4079</td>\n",
              "      <td>5817</td>\n",
              "    </tr>\n",
              "  </tbody>\n",
              "</table>\n",
              "</div>"
            ],
            "text/plain": [
              "        InstanceID  patientID  ImageName cellTypeName  cellType  isCancerous\n",
              "count         9896       9896       9896         9896      9896         9896\n",
              "unique        9896         60       9896            4         4            2\n",
              "top            972         54  16719.png   epithelial         2            0\n",
              "freq             1        389          1         4079      4079         5817"
            ]
          },
          "metadata": {
            "tags": []
          },
          "execution_count": 38
        }
      ]
    },
    {
      "cell_type": "code",
      "metadata": {
        "id": "HiOLYovPZdEg",
        "colab": {
          "base_uri": "https://localhost:8080/",
          "height": 198
        },
        "outputId": "46367e36-94df-4ad7-dc5e-181b6e291868"
      },
      "source": [
        "ct_data.head()"
      ],
      "execution_count": 39,
      "outputs": [
        {
          "output_type": "execute_result",
          "data": {
            "text/html": [
              "<div>\n",
              "<style scoped>\n",
              "    .dataframe tbody tr th:only-of-type {\n",
              "        vertical-align: middle;\n",
              "    }\n",
              "\n",
              "    .dataframe tbody tr th {\n",
              "        vertical-align: top;\n",
              "    }\n",
              "\n",
              "    .dataframe thead th {\n",
              "        text-align: right;\n",
              "    }\n",
              "</style>\n",
              "<table border=\"1\" class=\"dataframe\">\n",
              "  <thead>\n",
              "    <tr style=\"text-align: right;\">\n",
              "      <th></th>\n",
              "      <th>InstanceID</th>\n",
              "      <th>patientID</th>\n",
              "      <th>ImageName</th>\n",
              "      <th>cellTypeName</th>\n",
              "      <th>cellType</th>\n",
              "      <th>isCancerous</th>\n",
              "    </tr>\n",
              "  </thead>\n",
              "  <tbody>\n",
              "    <tr>\n",
              "      <th>0</th>\n",
              "      <td>22405</td>\n",
              "      <td>1</td>\n",
              "      <td>22405.png</td>\n",
              "      <td>fibroblast</td>\n",
              "      <td>0</td>\n",
              "      <td>0</td>\n",
              "    </tr>\n",
              "    <tr>\n",
              "      <th>1</th>\n",
              "      <td>22406</td>\n",
              "      <td>1</td>\n",
              "      <td>22406.png</td>\n",
              "      <td>fibroblast</td>\n",
              "      <td>0</td>\n",
              "      <td>0</td>\n",
              "    </tr>\n",
              "    <tr>\n",
              "      <th>2</th>\n",
              "      <td>22407</td>\n",
              "      <td>1</td>\n",
              "      <td>22407.png</td>\n",
              "      <td>fibroblast</td>\n",
              "      <td>0</td>\n",
              "      <td>0</td>\n",
              "    </tr>\n",
              "    <tr>\n",
              "      <th>3</th>\n",
              "      <td>22408</td>\n",
              "      <td>1</td>\n",
              "      <td>22408.png</td>\n",
              "      <td>fibroblast</td>\n",
              "      <td>0</td>\n",
              "      <td>0</td>\n",
              "    </tr>\n",
              "    <tr>\n",
              "      <th>4</th>\n",
              "      <td>22409</td>\n",
              "      <td>1</td>\n",
              "      <td>22409.png</td>\n",
              "      <td>fibroblast</td>\n",
              "      <td>0</td>\n",
              "      <td>0</td>\n",
              "    </tr>\n",
              "  </tbody>\n",
              "</table>\n",
              "</div>"
            ],
            "text/plain": [
              "  InstanceID patientID  ImageName cellTypeName cellType isCancerous\n",
              "0      22405         1  22405.png   fibroblast        0           0\n",
              "1      22406         1  22406.png   fibroblast        0           0\n",
              "2      22407         1  22407.png   fibroblast        0           0\n",
              "3      22408         1  22408.png   fibroblast        0           0\n",
              "4      22409         1  22409.png   fibroblast        0           0"
            ]
          },
          "metadata": {
            "tags": []
          },
          "execution_count": 39
        }
      ]
    },
    {
      "cell_type": "code",
      "metadata": {
        "id": "S9WJXKRXZdEg",
        "colab": {
          "base_uri": "https://localhost:8080/"
        },
        "outputId": "e79d20fc-ae20-4b0a-b40a-b40a592b2fd7"
      },
      "source": [
        "ct_data.info()"
      ],
      "execution_count": 40,
      "outputs": [
        {
          "output_type": "stream",
          "text": [
            "<class 'pandas.core.frame.DataFrame'>\n",
            "RangeIndex: 9896 entries, 0 to 9895\n",
            "Data columns (total 6 columns):\n",
            " #   Column        Non-Null Count  Dtype \n",
            "---  ------        --------------  ----- \n",
            " 0   InstanceID    9896 non-null   object\n",
            " 1   patientID     9896 non-null   object\n",
            " 2   ImageName     9896 non-null   object\n",
            " 3   cellTypeName  9896 non-null   object\n",
            " 4   cellType      9896 non-null   object\n",
            " 5   isCancerous   9896 non-null   object\n",
            "dtypes: object(6)\n",
            "memory usage: 464.0+ KB\n"
          ],
          "name": "stdout"
        }
      ]
    },
    {
      "cell_type": "markdown",
      "metadata": {
        "id": "awI6LgFaNAfa"
      },
      "source": [
        "### 1.2.1 Combining main and extra data"
      ]
    },
    {
      "cell_type": "code",
      "metadata": {
        "colab": {
          "base_uri": "https://localhost:8080/",
          "height": 437
        },
        "id": "NBWISdChNEOi",
        "outputId": "004cb8c3-04f2-4c4e-e6e7-5ad3e1cf8e2f"
      },
      "source": [
        "# Remove the cellType and cellTypeName columns\n",
        "trimmed_1 = ct_data.drop(['InstanceID', 'cellTypeName', 'cellType'], axis=1)\n",
        "trimmed_2 = extra_data.drop(['InstanceID'], axis=1)\n",
        "comparison = trimmed_1.columns == trimmed_2.columns\n",
        "assert comparison.all()\n",
        "\n",
        "# Combine datasets\n",
        "ic_data = pd.concat([trimmed_1, trimmed_2])\n",
        "\n",
        "# Set ImageName column as indexed column\n",
        "ic_data.set_index('ImageName')"
      ],
      "execution_count": 41,
      "outputs": [
        {
          "output_type": "execute_result",
          "data": {
            "text/html": [
              "<div>\n",
              "<style scoped>\n",
              "    .dataframe tbody tr th:only-of-type {\n",
              "        vertical-align: middle;\n",
              "    }\n",
              "\n",
              "    .dataframe tbody tr th {\n",
              "        vertical-align: top;\n",
              "    }\n",
              "\n",
              "    .dataframe thead th {\n",
              "        text-align: right;\n",
              "    }\n",
              "</style>\n",
              "<table border=\"1\" class=\"dataframe\">\n",
              "  <thead>\n",
              "    <tr style=\"text-align: right;\">\n",
              "      <th></th>\n",
              "      <th>patientID</th>\n",
              "      <th>isCancerous</th>\n",
              "    </tr>\n",
              "    <tr>\n",
              "      <th>ImageName</th>\n",
              "      <th></th>\n",
              "      <th></th>\n",
              "    </tr>\n",
              "  </thead>\n",
              "  <tbody>\n",
              "    <tr>\n",
              "      <th>22405.png</th>\n",
              "      <td>1</td>\n",
              "      <td>0</td>\n",
              "    </tr>\n",
              "    <tr>\n",
              "      <th>22406.png</th>\n",
              "      <td>1</td>\n",
              "      <td>0</td>\n",
              "    </tr>\n",
              "    <tr>\n",
              "      <th>22407.png</th>\n",
              "      <td>1</td>\n",
              "      <td>0</td>\n",
              "    </tr>\n",
              "    <tr>\n",
              "      <th>22408.png</th>\n",
              "      <td>1</td>\n",
              "      <td>0</td>\n",
              "    </tr>\n",
              "    <tr>\n",
              "      <th>22409.png</th>\n",
              "      <td>1</td>\n",
              "      <td>0</td>\n",
              "    </tr>\n",
              "    <tr>\n",
              "      <th>...</th>\n",
              "      <td>...</td>\n",
              "      <td>...</td>\n",
              "    </tr>\n",
              "    <tr>\n",
              "      <th>20028.png</th>\n",
              "      <td>99</td>\n",
              "      <td>0</td>\n",
              "    </tr>\n",
              "    <tr>\n",
              "      <th>20029.png</th>\n",
              "      <td>99</td>\n",
              "      <td>0</td>\n",
              "    </tr>\n",
              "    <tr>\n",
              "      <th>20030.png</th>\n",
              "      <td>99</td>\n",
              "      <td>0</td>\n",
              "    </tr>\n",
              "    <tr>\n",
              "      <th>20031.png</th>\n",
              "      <td>99</td>\n",
              "      <td>0</td>\n",
              "    </tr>\n",
              "    <tr>\n",
              "      <th>20032.png</th>\n",
              "      <td>99</td>\n",
              "      <td>0</td>\n",
              "    </tr>\n",
              "  </tbody>\n",
              "</table>\n",
              "<p>20280 rows × 2 columns</p>\n",
              "</div>"
            ],
            "text/plain": [
              "          patientID isCancerous\n",
              "ImageName                      \n",
              "22405.png         1           0\n",
              "22406.png         1           0\n",
              "22407.png         1           0\n",
              "22408.png         1           0\n",
              "22409.png         1           0\n",
              "...             ...         ...\n",
              "20028.png        99           0\n",
              "20029.png        99           0\n",
              "20030.png        99           0\n",
              "20031.png        99           0\n",
              "20032.png        99           0\n",
              "\n",
              "[20280 rows x 2 columns]"
            ]
          },
          "metadata": {
            "tags": []
          },
          "execution_count": 41
        }
      ]
    },
    {
      "cell_type": "markdown",
      "metadata": {
        "id": "H9mRmvIMjtNC"
      },
      "source": [
        "### 1.2.2 - Splitting the Combined Data"
      ]
    },
    {
      "cell_type": "markdown",
      "metadata": {
        "id": "zytD2J3eNSnX"
      },
      "source": [
        "Split on many seeds to try find the optimal seed that produces the least variance of the data over the data sets so that all data for 'isCancerous' are evenly distributed over the data sets."
      ]
    },
    {
      "cell_type": "code",
      "metadata": {
        "id": "C8xf5-gRNSnb"
      },
      "source": [
        "seed, smallest_variance = optimise_split(ic_data, 'patientID', 'isCancerous', 300)\n",
        "\n",
        "print(\"Best seed: \" + str(seed))\n",
        "print(\"Smallest Accumulated Variance %: \" + str(smallest_variance))"
      ],
      "execution_count": null,
      "outputs": []
    },
    {
      "cell_type": "markdown",
      "metadata": {
        "id": "l3cdEzafNSnb"
      },
      "source": [
        "Get the final judgment for the chosen seed to perform the split onto. (Seed 232)"
      ]
    },
    {
      "cell_type": "code",
      "metadata": {
        "id": "e9B-ED-INSnc"
      },
      "source": [
        "# Split on the ultimate seed split with the least variance over the patient data.\n",
        "train_set_ic, validation_set_ic, test_set_ic = train_val_test_split_by_column(ic_data, 'patientID', seed)\n",
        "\n",
        "# Graph the split results.\n",
        "plt.figure(figsize=(10, 3))\n",
        "col = \"isCancerous\"\n",
        "hist_plot(\"isCancerous Main Data Before Optimisation\", [train_set_ct[col], validation_set_ct[col], test_set_ct[col]], ['r', 'y', 'b'], 1, 2, 1)\n",
        "hist_plot(\"isCancerous Combined Data After Optimisation\", [train_set_ic[col], validation_set_ic[col], test_set_ic[col]], ['r', 'y', 'b'], 1, 2, 2)"
      ],
      "execution_count": null,
      "outputs": []
    },
    {
      "cell_type": "markdown",
      "metadata": {
        "id": "_nM55F3Ca4Hx"
      },
      "source": [
        "🧐 **Observations:**\n",
        "> - The test and validation sets have almost not variance between them (they are stacked identically.\n",
        "> - The test data is almsot the same hight in bar height\n",
        "> - overall there is more non-cancerous data from cancerous data still after combination.\n",
        "\n",
        "👨🏻‍🎓 **Conclusions**\n",
        "> - Get the numerical differences"
      ]
    },
    {
      "cell_type": "markdown",
      "metadata": {
        "id": "j5Xk9zCDbcda"
      },
      "source": [
        "Finding the numerical differences in the data\\\n",
        "1 = cancerous\n",
        "0 = non-cancerous"
      ]
    },
    {
      "cell_type": "code",
      "metadata": {
        "id": "ENLje1UKjwc6"
      },
      "source": [
        "print('Overall ferquency of isCancerous:')\n",
        "print(ic_data.isCancerous.value_counts().to_frame())\n",
        "\n",
        "print('In training data: ')\n",
        "print(train_set_ic.isCancerous.value_counts().to_frame())\n",
        "\n",
        "print('In validation data: ')\n",
        "print(validation_set_ic.isCancerous.value_counts().to_frame())\n",
        "\n",
        "print('In test data: ')\n",
        "print(test_set_ic.isCancerous.value_counts().to_frame())"
      ],
      "execution_count": null,
      "outputs": []
    },
    {
      "cell_type": "markdown",
      "metadata": {
        "id": "uW7DvH91Wu9i"
      },
      "source": [
        "🧐 **Observations:**\n",
        "> - The combined dataset contains almost double the non-cancerous images than cancerous images.\n",
        "> - The training set and validation set also contains more than double non-cancerous images than cancerous images.\n",
        "> - The test set has almost an equal amount of cancerous vs non-cancerous images. This is really good for an idea accuracy test, and precision test, since if the model is biased towards non-cancerous then this test set will pick that up.\n",
        "\n",
        "👨🏻‍🎓 **Conclusions**\n",
        "> - Train and validation might perform really well in low variance but have a bias problem towards non-cancerous results."
      ]
    },
    {
      "cell_type": "markdown",
      "metadata": {
        "id": "OG6GF-D1ZdEa"
      },
      "source": [
        "### 1.2.3 - Preview Combined Data\n",
        "Previewing the contents of the main data set."
      ]
    },
    {
      "cell_type": "code",
      "metadata": {
        "id": "fp7Sr1hQZdEi",
        "colab": {
          "base_uri": "https://localhost:8080/",
          "height": 693
        },
        "outputId": "78745b0e-aa44-4f45-f4e4-eb106500bd77"
      },
      "source": [
        "img_list = list(train_set_ic[\"ImageName\"])\n",
        "target_list = list(train_set_ic[\"isCancerous\"])\n",
        "target_labels = {1: \"Cancerous\", 0: \"Non-Cancerous\"}\n",
        "\n",
        "plt.figure(figsize=[25, 12])\n",
        "\n",
        "for i in np.arange(40):\n",
        "    plt.subplot(4, 10, i + 1)\n",
        "    img = Image.open('./patch_images/' + img_list[i])\n",
        "\n",
        "    plt.imshow(img)\n",
        "    plt.title(target_labels[target_list[i]])"
      ],
      "execution_count": 45,
      "outputs": [
        {
          "output_type": "display_data",
          "data": {
            "image/png": "[encoded data removed]",
            "text/plain": [
              "<Figure size 1800x864 with 40 Axes>"
            ]
          },
          "metadata": {
            "tags": [],
            "needs_background": "light"
          }
        }
      ]
    },
    {
      "cell_type": "code",
      "metadata": {
        "id": "BII2uHi8cCyH",
        "colab": {
          "base_uri": "https://localhost:8080/"
        },
        "outputId": "480a885c-dc72-481d-f334-8096049409a5"
      },
      "source": [
        "# Check image sizes\n",
        "img = Image.open('./patch_images/' + img_list[100])\n",
        "img_numpy = np.ascontiguousarray(img, dtype=np.float32)\n",
        "print(\"Image size: \\nH:{} W:{} C:{}\".format(img_numpy.shape[0], img_numpy.shape[1], img_numpy.shape[2]))"
      ],
      "execution_count": 46,
      "outputs": [
        {
          "output_type": "stream",
          "text": [
            "Image size: \n",
            "H:27 W:27 C:3\n"
          ],
          "name": "stdout"
        }
      ]
    },
    {
      "cell_type": "markdown",
      "metadata": {
        "id": "c8pitMGUJ3WS"
      },
      "source": [
        "### 1.2.4 - Transform Combined Data\n",
        "Set all types to be of type Object. We do this because all the variables are categorical, they don't have any continuous values, so it's easier while creating visualizations."
      ]
    },
    {
      "cell_type": "code",
      "metadata": {
        "id": "dLm0yBgHJ3WT"
      },
      "source": [
        "for column in ic_data.columns:\n",
        "    ic_data[column] = ic_data[column].astype('object')"
      ],
      "execution_count": 47,
      "outputs": []
    },
    {
      "cell_type": "code",
      "metadata": {
        "id": "x6ge4vQrJ3WT",
        "colab": {
          "base_uri": "https://localhost:8080/"
        },
        "outputId": "378fc827-ba6e-4a5a-b385-181497159512"
      },
      "source": [
        "print(ic_data.info())"
      ],
      "execution_count": 48,
      "outputs": [
        {
          "output_type": "stream",
          "text": [
            "<class 'pandas.core.frame.DataFrame'>\n",
            "Int64Index: 20280 entries, 0 to 10383\n",
            "Data columns (total 3 columns):\n",
            " #   Column       Non-Null Count  Dtype \n",
            "---  ------       --------------  ----- \n",
            " 0   patientID    20280 non-null  object\n",
            " 1   ImageName    20280 non-null  object\n",
            " 2   isCancerous  20280 non-null  object\n",
            "dtypes: object(3)\n",
            "memory usage: 633.8+ KB\n",
            "None\n"
          ],
          "name": "stdout"
        }
      ]
    },
    {
      "cell_type": "markdown",
      "metadata": {
        "id": "t0MfykaAjeCq"
      },
      "source": [
        "### 1.2.5 - Examine Combined Data"
      ]
    },
    {
      "cell_type": "code",
      "metadata": {
        "id": "WcAVSIqPjkdv",
        "colab": {
          "base_uri": "https://localhost:8080/",
          "height": 310
        },
        "outputId": "2e000afb-4555-4727-a2ea-fc676f9042fd"
      },
      "source": [
        "pd.crosstab(ic_data['isCancerous'], ic_data['isCancerous'], margins=False).plot.bar(stacked=True,\n",
        "                                                                                    title='Cancer counts in images',\n",
        "                                                                                    xlabel='Cancer Exists',\n",
        "                                                                                    ylabel='Number of Images')"
      ],
      "execution_count": 49,
      "outputs": [
        {
          "output_type": "execute_result",
          "data": {
            "text/plain": [
              "<matplotlib.axes._subplots.AxesSubplot at 0x7f12299265d0>"
            ]
          },
          "metadata": {
            "tags": []
          },
          "execution_count": 49
        },
        {
          "output_type": "display_data",
          "data": {
            "image/png": "[encoded data removed]",
            "text/plain": [
              "<Figure size 432x288 with 1 Axes>"
            ]
          },
          "metadata": {
            "tags": [],
            "needs_background": "light"
          }
        }
      ]
    },
    {
      "cell_type": "markdown",
      "metadata": {
        "id": "r2OBeS-p9zj_"
      },
      "source": [
        "🧐 **Observations:**\n",
        "> - \n",
        "\n",
        "👨🏻‍🎓 **Conclusions**\n",
        "> - "
      ]
    },
    {
      "cell_type": "code",
      "metadata": {
        "id": "jWg33xPNjkdw",
        "colab": {
          "base_uri": "https://localhost:8080/",
          "height": 642
        },
        "outputId": "8573a2ee-f242-4fa9-cfa7-88c1d56d4dc3"
      },
      "source": [
        "ic_data.patientID.value_counts().to_frame().plot(kind='bar',\n",
        "                                                    title='Patients by number of images',\n",
        "                                                    xlabel='Patient ID', ylabel='Number of images',\n",
        "                                                    legend=False,\n",
        "                                                   figsize=[20,10])"
      ],
      "execution_count": 50,
      "outputs": [
        {
          "output_type": "execute_result",
          "data": {
            "text/plain": [
              "<matplotlib.axes._subplots.AxesSubplot at 0x7f122c4194d0>"
            ]
          },
          "metadata": {
            "tags": []
          },
          "execution_count": 50
        },
        {
          "output_type": "display_data",
          "data": {
            "image/png": "[encoded data removed]",
            "text/plain": [
              "<Figure size 1440x720 with 1 Axes>"
            ]
          },
          "metadata": {
            "tags": [],
            "needs_background": "light"
          }
        }
      ]
    },
    {
      "cell_type": "markdown",
      "metadata": {
        "id": "4UBVIFAt9xu4"
      },
      "source": [
        "🧐 **Observations:**\n",
        "> - \n",
        "\n",
        "👨🏻‍🎓 **Conclusions**\n",
        "> - "
      ]
    },
    {
      "cell_type": "markdown",
      "metadata": {
        "id": "hFzwfqpdMMDz"
      },
      "source": [
        "# 2 - Feature Selection"
      ]
    },
    {
      "cell_type": "markdown",
      "metadata": {
        "id": "QxHYiRTnwMLB"
      },
      "source": [
        "# 3 - Modelling "
      ]
    },
    {
      "cell_type": "code",
      "metadata": {
        "id": "2U6LHUyieXpC"
      },
      "source": [
        "# Initialise Constants\n",
        "INPUT_DIM = (27, 27, 3)\n",
        "OUTPUT_CLASSES = 2"
      ],
      "execution_count": 51,
      "outputs": []
    },
    {
      "cell_type": "markdown",
      "metadata": {
        "id": "-rULK6NfH-nT"
      },
      "source": [
        "## 3.1 Cancerous Classification\n",
        "Checking if the image is cancerous or not cancerous"
      ]
    },
    {
      "cell_type": "markdown",
      "metadata": {
        "id": "_FARSWWw8074"
      },
      "source": [
        "### 3.1.1 - MLP"
      ]
    },
    {
      "cell_type": "code",
      "metadata": {
        "id": "ao0bDuydjk7-"
      },
      "source": [
        "def train_save(train_set, val_set, test_set, hyper_parameters, model):\n",
        "    # Extract the imagery into new data sets from the original data sets that\n",
        "    # contained the image references.\n",
        "    train_imagery_set, val_imagery_set, test_imagery_set = get_imagery_data_sets(\n",
        "        train_set, val_set, test_set, './patch_images/', 'ImageName',\n",
        "        'isCancerous', hyper_parameters[\"batch_size\"])\n",
        "\n",
        "    # Compile the model with the hyper parameters chosen.\n",
        "    model.compile(optimizer=hyper_parameters[\"optimizer\"],\n",
        "                  loss=hyper_parameters[\"loss\"],\n",
        "                  metrics=hyper_parameters[\"metrics\"])\n",
        "\n",
        "    # Fit the model with the generators, and epoch amount.\n",
        "    history = model.fit(train_imagery_set, validation_data=val_imagery_set,\n",
        "                        epochs=hyper_parameters[\"epochs\"], verbose=0).history\n",
        "\n",
        "    return history\n"
      ],
      "execution_count": null,
      "outputs": []
    },
    {
      "cell_type": "markdown",
      "metadata": {
        "id": "zDNqo8b-U5by"
      },
      "source": [
        "Initialise Hyper Parameters and initial model layers"
      ]
    },
    {
      "cell_type": "markdown",
      "metadata": {
        "id": "hVIsdpz1-muS"
      },
      "source": [
        "Hidden layer dimension is randomly set to a value that is 2^n to align with the computer's memory buffer. This is a starting point to iterate on.\\\n",
        "`hidden_layer_dim = 56`\n",
        "\n",
        "TODO \\\n",
        "`optimizer = adam`\n",
        "\n",
        "TODO \\\n",
        "`loss = CategoricalCrossentropy`\n",
        "\n",
        "TODO \\\n",
        "`metrics = 'categorical_accuracy'`\n",
        "\n",
        "TODO \\\n",
        "`epochs = 50`\n",
        "\n",
        "TODO \\\n",
        "`batch_size = 32`"
      ]
    },
    {
      "cell_type": "code",
      "metadata": {
        "id": "7fsavZxzU49d"
      },
      "source": [
        "# hyperparameters.\n",
        "parameters = {\n",
        "    \"hidden_layer_dim\": 256,\n",
        "    \"optimizer\": 'adam',\n",
        "    \"loss\": tf.keras.losses.CategoricalCrossentropy(from_logits=True),\n",
        "    \"metrics\": 'categorical_accuracy',\n",
        "    \"epochs\": 125,\n",
        "    \"batch_size\": 32\n",
        "}"
      ],
      "execution_count": 92,
      "outputs": []
    },
    {
      "cell_type": "markdown",
      "metadata": {
        "id": "ZCOHpfGn9IH_"
      },
      "source": [
        "#### Model 1"
      ]
    },
    {
      "cell_type": "markdown",
      "metadata": {
        "id": "JKbGrqq19_c8"
      },
      "source": [
        "This model shows starts off with the input layer being the imagery with 3 colour bands, red, green, and blue.\\\n",
        "Then the images are flattened into a 1 dimensional array, [R,G,B] and passed into a single dense layer layer which .........."
      ]
    },
    {
      "cell_type": "code",
      "metadata": {
        "id": "-84eJ_YFwq7p",
        "colab": {
          "base_uri": "https://localhost:8080/"
        },
        "outputId": "2b217c47-fa58-4ae1-fd13-4973cc4053ff"
      },
      "source": [
        "# The Deep Neural Network Layer Structure.\n",
        "layers = [\n",
        "    tf.keras.layers.Flatten(input_shape=INPUT_DIM),\n",
        "    tf.keras.layers.Dense(parameters[\"hidden_layer_dim\"], activation='relu'),\n",
        "    tf.keras.layers.Dense(OUTPUT_CLASSES)\n",
        "]\n",
        "\n",
        "# Create model.\n",
        "model = tf.keras.Sequential(layers)\n",
        "\n",
        "# Train and save model\n",
        "history = run_model(model, parameters, \"MLP_1\",\n",
        "                    lambda: train_save(train_set_ic, validation_set_ic, test_set_ic, parameters, model))\n",
        "\n",
        "# Plot the results for run though of the data (epoch).\n",
        "plot_learning_curve(history['loss'],\n",
        "                    history['val_loss'],\n",
        "                    history['categorical_accuracy'],\n",
        "                    history['val_categorical_accuracy'],\n",
        "                    metric_name='Accuracy')"
      ],
      "execution_count": null,
      "outputs": [
        {
          "output_type": "stream",
          "text": [
            "~~~~~~~~~~ H256_Oadam_Lcategoricalcrossentropy_Mcategoricalaccuracy_E125_B32_MLP_1 ~~~~~~~~~~\n",
            "/bin/bash: /: Is a directory\n",
            "Model: \"sequential_21\"\n",
            "_________________________________________________________________\n",
            "Layer (type)                 Output Shape              Param #   \n",
            "=================================================================\n",
            "flatten_20 (Flatten)         (None, 2187)              0         \n",
            "_________________________________________________________________\n",
            "dense_60 (Dense)             (None, 256)               560128    \n",
            "_________________________________________________________________\n",
            "dense_61 (Dense)             (None, 2)                 514       \n",
            "=================================================================\n",
            "Total params: 560,642\n",
            "Trainable params: 560,642\n",
            "Non-trainable params: 0\n",
            "_________________________________________________________________\n",
            "/content/drive/My Drive/CML-Assignment-2/models/H256_Oadam_Lcategoricalcrossentropy_Mcategoricalaccuracy_E125_B32_MLP_1/history.csv\n",
            "Found 11627 validated image filenames belonging to 2 classes.\n",
            "Found 4385 validated image filenames belonging to 2 classes.\n",
            "Found 4268 validated image filenames belonging to 2 classes.\n"
          ],
          "name": "stdout"
        }
      ]
    },
    {
      "cell_type": "markdown",
      "metadata": {
        "id": "QG6LJcR7IUI-"
      },
      "source": [
        "#### Model 2\n",
        "Dense has 128 percipatrons"
      ]
    },
    {
      "cell_type": "code",
      "metadata": {
        "id": "NqhgnUFBITGP"
      },
      "source": [
        "parameters[\"hidden_layer_dim\"] = 128\n",
        "\n",
        "# The Deep Neural Network Layer Structure.\n",
        "layers = [\n",
        "    tf.keras.layers.Flatten(input_shape=INPUT_DIM),\n",
        "    tf.keras.layers.Dense(parameters[\"hidden_layer_dim\"], activation='relu'),\n",
        "    tf.keras.layers.Dense(OUTPUT_CLASSES)\n",
        "]\n",
        "\n",
        "# Create model.\n",
        "model = tf.keras.Sequential(layers)\n",
        "\n",
        "# Train and save model\n",
        "history = run_model(model, parameters, \"MLP_2\",\n",
        "                    lambda: train_save(train_set_ic, validation_set_ic, test_set_ic, parameters, model))\n",
        "\n",
        "# Plot the results for run though of the data (epoch).\n",
        "plot_learning_curve(history['loss'],\n",
        "                    history['val_loss'],\n",
        "                    history['categorical_accuracy'],\n",
        "                    history['val_categorical_accuracy'],\n",
        "                    metric_name='Accuracy')"
      ],
      "execution_count": 51,
      "outputs": []
    },
    {
      "cell_type": "markdown",
      "metadata": {
        "id": "Sz9bT9FoIUzU"
      },
      "source": [
        "#### Model 3\n",
        "Dense has 64 percipatrons"
      ]
    },
    {
      "cell_type": "code",
      "metadata": {
        "id": "ZivBNHLZITil"
      },
      "source": [
        "parameters[\"hidden_layer_dim\"] = 64\n",
        "\n",
        "# The Deep Neural Network Layer Structure.\n",
        "layers = [\n",
        "    tf.keras.layers.Flatten(input_shape=INPUT_DIM),\n",
        "    tf.keras.layers.Dense(parameters[\"hidden_layer_dim\"], activation='relu'),\n",
        "    tf.keras.layers.Dense(OUTPUT_CLASSES)\n",
        "]\n",
        "\n",
        "# Create model.\n",
        "model = tf.keras.Sequential(layers)\n",
        "\n",
        "# Train and save model\n",
        "history = run_model(model, parameters, \"MLP_3\",\n",
        "                    lambda: train_save(train_set_ic, validation_set_ic, test_set_ic, parameters, model))\n",
        "\n",
        "# Plot the results for run though of the data (epoch).\n",
        "plot_learning_curve(history['loss'],\n",
        "                    history['val_loss'],\n",
        "                    history['categorical_accuracy'],\n",
        "                    history['val_categorical_accuracy'],\n",
        "                    metric_name='Accuracy')"
      ],
      "execution_count": 51,
      "outputs": []
    },
    {
      "cell_type": "markdown",
      "metadata": {
        "id": "fBBKQyejZsNx"
      },
      "source": [
        "#### Model 4\n",
        "Adding dropout"
      ]
    },
    {
      "cell_type": "code",
      "metadata": {
        "id": "NkPpHJjcZtjh"
      },
      "source": [
        "parameters[\"hidden_layer_dim\"] = 64\n",
        "\n",
        "# Added Dropout to the layers\n",
        "layers = [\n",
        "    tf.keras.layers.Flatten(input_shape=INPUT_DIM),\n",
        "    tf.keras.layers.Dense(parameters[\"hidden_layer_dim\"], activation='relu'),\n",
        "    tf.keras.layers.Dropout(0.3),\n",
        "    tf.keras.layers.Dense(OUTPUT_CLASSES)\n",
        "]\n",
        "\n",
        "# Create model.\n",
        "model = tf.keras.Sequential(layers)\n",
        "\n",
        "# Train and save model\n",
        "history = run_model(model, parameters, \"MLP_4\",\n",
        "                    lambda: train_save(train_set_ic, validation_set_ic, test_set_ic, parameters, model))\n",
        "\n",
        "# Plot the results for run though of the data (epoch).\n",
        "plot_learning_curve(history['loss'],\n",
        "                    history['val_loss'],\n",
        "                    history['categorical_accuracy'],\n",
        "                    history['val_categorical_accuracy'],\n",
        "                    metric_name='Accuracy')"
      ],
      "execution_count": null,
      "outputs": []
    },
    {
      "cell_type": "markdown",
      "metadata": {
        "id": "Kz79rnVWaCrj"
      },
      "source": [
        "#### Model 5\n",
        "Dense has 128 percipatrons with dropout"
      ]
    },
    {
      "cell_type": "code",
      "metadata": {
        "id": "0vdNjGkhaC0h"
      },
      "source": [
        "parameters[\"hidden_layer_dim\"] = 128\n",
        "\n",
        "# Added Dropout to the layers\n",
        "layers = [\n",
        "    tf.keras.layers.Flatten(input_shape=INPUT_DIM),\n",
        "    tf.keras.layers.Dense(parameters[\"hidden_layer_dim\"], activation='relu'),\n",
        "    tf.keras.layers.Dropout(0.3),\n",
        "    tf.keras.layers.Dense(OUTPUT_CLASSES)\n",
        "]\n",
        "\n",
        "# Create model.\n",
        "model = tf.keras.Sequential(layers)\n",
        "\n",
        "# Train and save model\n",
        "history = run_model(model, parameters, \"MLP_5\",\n",
        "                    lambda: train_save(train_set_ic, validation_set_ic, test_set_ic, parameters, model))\n",
        "\n",
        "# Plot the results for run though of the data (epoch).\n",
        "plot_learning_curve(history['loss'],\n",
        "                    history['val_loss'],\n",
        "                    history['categorical_accuracy'],\n",
        "                    history['val_categorical_accuracy'],\n",
        "                    metric_name='Accuracy')"
      ],
      "execution_count": null,
      "outputs": []
    },
    {
      "cell_type": "markdown",
      "metadata": {
        "id": "9L4icZ6abDc8"
      },
      "source": [
        "#### Model 6\n",
        "2 Layers instead of 1"
      ]
    },
    {
      "cell_type": "code",
      "metadata": {
        "id": "wQg10ACPbDlQ"
      },
      "source": [
        "parameters[\"hidden_layer_dim\"] = 256\n",
        "\n",
        "# Added Dropout to the layers\n",
        "layers = [\n",
        "    tf.keras.layers.Flatten(input_shape=INPUT_DIM),\n",
        "    tf.keras.layers.Dense(parameters[\"hidden_layer_dim\"], activation='relu'),\n",
        "    tf.keras.layers.Dense(parameters[\"hidden_layer_dim\"] / 4, activation='relu'),\n",
        "    tf.keras.layers.Dense(OUTPUT_CLASSES)\n",
        "]\n",
        "\n",
        "# Create model.\n",
        "model = tf.keras.Sequential(layers)\n",
        "\n",
        "# Train and save model\n",
        "history = run_model(model, parameters, \"MLP_6\",\n",
        "                    lambda: train_save(train_set_ic, validation_set_ic, test_set_ic, parameters, model))\n",
        "\n",
        "# Plot the results for run though of the data (epoch).\n",
        "plot_learning_curve(history['loss'],\n",
        "                    history['val_loss'],\n",
        "                    history['categorical_accuracy'],\n",
        "                    history['val_categorical_accuracy'],\n",
        "                    metric_name='Accuracy')"
      ],
      "execution_count": null,
      "outputs": []
    },
    {
      "cell_type": "markdown",
      "metadata": {
        "id": "mGlQgnIaFE7U"
      },
      "source": [
        "### 3.1.2 VGG Net"
      ]
    },
    {
      "cell_type": "markdown",
      "metadata": {
        "id": "WhFTGsCcItDn"
      },
      "source": [
        "#### Model 1"
      ]
    },
    {
      "cell_type": "code",
      "metadata": {
        "id": "Tyluy1aqItDq"
      },
      "source": [
        ""
      ],
      "execution_count": 51,
      "outputs": []
    },
    {
      "cell_type": "markdown",
      "metadata": {
        "id": "17gYkBPQIhcd"
      },
      "source": [
        "#### Model 2"
      ]
    },
    {
      "cell_type": "code",
      "metadata": {
        "id": "vI27MYUhIhch"
      },
      "source": [
        ""
      ],
      "execution_count": 51,
      "outputs": []
    },
    {
      "cell_type": "markdown",
      "metadata": {
        "id": "eX9Gfxc0Ihci"
      },
      "source": [
        "#### Model 3"
      ]
    },
    {
      "cell_type": "code",
      "metadata": {
        "id": "2BxbE_0rIhci"
      },
      "source": [
        ""
      ],
      "execution_count": 51,
      "outputs": []
    },
    {
      "cell_type": "markdown",
      "metadata": {
        "id": "5Q3tzW878075"
      },
      "source": [
        "### 3.1.3 ResNet"
      ]
    },
    {
      "cell_type": "markdown",
      "metadata": {
        "id": "wLU1zTVYIvQG"
      },
      "source": [
        "#### Model 1"
      ]
    },
    {
      "cell_type": "code",
      "metadata": {
        "id": "bV_xNFuxIvQG"
      },
      "source": [
        ""
      ],
      "execution_count": 51,
      "outputs": []
    },
    {
      "cell_type": "markdown",
      "metadata": {
        "id": "ruBmm7BDIiOd"
      },
      "source": [
        "#### Model 2"
      ]
    },
    {
      "cell_type": "code",
      "metadata": {
        "id": "Yx-3NQ_YIiOe"
      },
      "source": [
        ""
      ],
      "execution_count": 51,
      "outputs": []
    },
    {
      "cell_type": "markdown",
      "metadata": {
        "id": "cD8p4UxsIiOe"
      },
      "source": [
        "#### Model 3"
      ]
    },
    {
      "cell_type": "code",
      "metadata": {
        "id": "AKBRntcFIiOe"
      },
      "source": [
        ""
      ],
      "execution_count": 51,
      "outputs": []
    },
    {
      "cell_type": "code",
      "metadata": {
        "id": "wDCF-8NzwOWQ"
      },
      "source": [
        "# CNN\n",
        "# model_VGG_3 = tf.keras.Sequential([\n",
        "#     #VGG block 1\n",
        "#     tf.keras.layers.Conv2D(32, (3, 3), activation='relu', padding='same', \n",
        "#                            kernel_regularizer=tf.keras.regularizers.l2(reg_lambda), input_shape=(32, 32, 3)),\n",
        "#     tf.keras.layers.Conv2D(32, (3, 3), activation='relu', padding='same', \n",
        "#                            kernel_regularizer=tf.keras.regularizers.l2(reg_lambda)),\n",
        "#     tf.keras.layers.MaxPooling2D((2, 2)),\n",
        "\n",
        "#     #VGG block 2\n",
        "#     tf.keras.layers.Conv2D(64, (3, 3), activation='relu', padding='same', \n",
        "#                            kernel_regularizer=tf.keras.regularizers.l2(reg_lambda)),\n",
        "#     tf.keras.layers.Conv2D(64, (3, 3), activation='relu', padding='same', \n",
        "#                            kernel_regularizer=tf.keras.regularizers.l2(reg_lambda)),\n",
        "#     tf.keras.layers.MaxPooling2D((2, 2)),\n",
        "\n",
        "#     #VGG block 3\n",
        "#     tf.keras.layers.Conv2D(128, (3, 3), activation='relu', padding='same', \n",
        "#                            kernel_regularizer=tf.keras.regularizers.l2(reg_lambda)),\n",
        "#     tf.keras.layers.Conv2D(128, (3, 3), activation='relu', padding='same', \n",
        "#                            kernel_regularizer=tf.keras.regularizers.l2(reg_lambda)),\n",
        "#     tf.keras.layers.MaxPooling2D((2, 2)),\n",
        "\n",
        "\n",
        "#     tf.keras.layers.Flatten(),\n",
        "#     tf.keras.layers.Dense(128, activation='relu', kernel_regularizer=tf.keras.regularizers.l2(reg_lambda)),\n",
        "#     tf.keras.layers.Dense(OUTPUT_CLASSES),\n",
        "# ])\n",
        "\n",
        "# Save model\n",
        "# model_VGG_3.save(\"model_VGG_3\")"
      ],
      "execution_count": 52,
      "outputs": []
    },
    {
      "cell_type": "markdown",
      "metadata": {
        "id": "fWcsJoGG8075"
      },
      "source": [
        ""
      ]
    },
    {
      "cell_type": "markdown",
      "metadata": {
        "id": "C3MzFrYk8076"
      },
      "source": [
        ""
      ]
    },
    {
      "cell_type": "markdown",
      "metadata": {
        "id": "6miThHFK8076"
      },
      "source": [
        ""
      ]
    },
    {
      "cell_type": "markdown",
      "metadata": {
        "id": "TAEiEOn48076"
      },
      "source": [
        ""
      ]
    },
    {
      "cell_type": "markdown",
      "metadata": {
        "id": "HXNXMa7Q8076"
      },
      "source": [
        ""
      ]
    },
    {
      "cell_type": "markdown",
      "metadata": {
        "id": "QKdJ_OreIFNq"
      },
      "source": [
        "## 3.2 Cell Type Classification"
      ]
    },
    {
      "cell_type": "markdown",
      "metadata": {
        "id": "5aB8Ko3l3Ms-"
      },
      "source": [
        "# 4 - Ultimate Judgment"
      ]
    },
    {
      "cell_type": "code",
      "metadata": {
        "id": "qvmNTZOe5v31"
      },
      "source": [
        "def run_model(model, parameters, model_name, model_func):\n",
        "    # Setup the directories and paths for saving and loading the model and history.\n",
        "    model_dir, history_path = setup_model_store(parameters, model_name)\n",
        "\n",
        "    try:\n",
        "        # Load a model that exists.\n",
        "        model = tf.keras.models.load_model(model_dir)\n",
        "\n",
        "        # Print summary.\n",
        "        model.summary()\n",
        "\n",
        "        # Read in the history chart from fitting the model previously.\n",
        "        history = pd.read_csv(history_path, delimiter=',')\n",
        "    except:\n",
        "        # Print summary.\n",
        "        model.summary()\n",
        "\n",
        "        # Run model and get history.\n",
        "        history = model_func()\n",
        "     \n",
        "        # Save Model.\\n\",\n",
        "        model.save(model_dir)\n",
        "\n",
        "        # Save history.\n",
        "        pd.DataFrame.from_dict(history).to_csv(history_path, index=False)\n",
        "\n",
        "    return history"
      ],
      "execution_count": 87,
      "outputs": []
    },
    {
      "cell_type": "markdown",
      "metadata": {
        "id": "dE8CxMv0HQ65"
      },
      "source": [
        "## 4.1 Cancerous Classification"
      ]
    },
    {
      "cell_type": "markdown",
      "metadata": {
        "id": "6QYpeHXn3PRk"
      },
      "source": [
        "### 4.1.1 MLP Final Model"
      ]
    },
    {
      "cell_type": "code",
      "metadata": {
        "id": "sMhDK-rRGXKu",
        "colab": {
          "base_uri": "https://localhost:8080/",
          "height": 675
        },
        "outputId": "81dfbf15-5cde-4ac3-9e43-5a03a2120967"
      },
      "source": [
        "# Final hyperparameters.\n",
        "parameters = {\n",
        "    \"hidden_layer_dim\": 50,\n",
        "    \"optimizer\": 'adam',\n",
        "    \"loss\": tf.keras.losses.CategoricalCrossentropy(from_logits=True),\n",
        "    \"metrics\": 'categorical_accuracy',\n",
        "    \"epochs\": 5,\n",
        "    \"batch_size\": 32\n",
        "}\n",
        "\n",
        "# The Deep Neural Network Layer Structure.\n",
        "layers = [\n",
        "    tf.keras.layers.Flatten(input_shape=INPUT_DIM),\n",
        "    tf.keras.layers.Dense(parameters[\"hidden_layer_dim\"], activation='relu'),\n",
        "    tf.keras.layers.Dense(parameters[\"hidden_layer_dim\"], activation='relu'),\n",
        "    tf.keras.layers.Dropout(0.3),\n",
        "    tf.keras.layers.Dense(OUTPUT_CLASSES)\n",
        "]\n",
        "\n",
        "# Create model.\n",
        "model = tf.keras.Sequential(layers)\n",
        "\n",
        "# Train and save model\n",
        "history = run_model(model, parameters, \"MLP\",\n",
        "                    lambda: train_save(train_set_ic, validation_set_ic, test_set_ic, parameters, model))\n",
        "\n",
        "# Plot the results for run though of the data (epoch).\n",
        "plot_learning_curve(history['loss'],\n",
        "                    history['val_loss'],\n",
        "                    history['categorical_accuracy'],\n",
        "                    history['val_categorical_accuracy'],\n",
        "                    metric_name='Accuracy')"
      ],
      "execution_count": 91,
      "outputs": [
        {
          "output_type": "stream",
          "text": [
            "~~~~~~~~~~ H50_Oadam_Lcategoricalcrossentropy_Mcategoricalaccuracy_E5_B32_MLP ~~~~~~~~~~\n",
            "/bin/bash: /: Is a directory\n",
            "Model: \"sequential_18\"\n",
            "_________________________________________________________________\n",
            "Layer (type)                 Output Shape              Param #   \n",
            "=================================================================\n",
            "flatten_17 (Flatten)         (None, 2187)              0         \n",
            "_________________________________________________________________\n",
            "dense_51 (Dense)             (None, 50)                109400    \n",
            "_________________________________________________________________\n",
            "dense_52 (Dense)             (None, 50)                2550      \n",
            "_________________________________________________________________\n",
            "dropout_17 (Dropout)         (None, 50)                0         \n",
            "_________________________________________________________________\n",
            "dense_53 (Dense)             (None, 2)                 102       \n",
            "=================================================================\n",
            "Total params: 112,052\n",
            "Trainable params: 112,052\n",
            "Non-trainable params: 0\n",
            "_________________________________________________________________\n"
          ],
          "name": "stdout"
        },
        {
          "output_type": "display_data",
          "data": {
            "image/png": "[encoded data removed]",
            "text/plain": [
              "<Figure size 720x360 with 2 Axes>"
            ]
          },
          "metadata": {
            "tags": [],
            "needs_background": "light"
          }
        }
      ]
    },
    {
      "cell_type": "markdown",
      "metadata": {
        "id": "izlIASoN15Qm"
      },
      "source": [
        "### 4.1.2 VGG Net Final Model"
      ]
    },
    {
      "cell_type": "code",
      "metadata": {
        "id": "tlsZMlLB15Qn"
      },
      "source": [
        "# Final hyperparameters.\n",
        "parameters = {\n",
        "    \"hidden_layer_dim\": 256,\n",
        "    \"optimizer\": 'adam',\n",
        "    \"loss\": tf.keras.losses.CategoricalCrossentropy(from_logits=True),\n",
        "    \"metrics\": 'categorical_accuracy',\n",
        "    \"epochs\": 100,\n",
        "    \"batch_size\": 32\n",
        "}\n",
        "\n",
        "\n",
        "# tf.keras.applications.InceptionV3(\n",
        "#     include_top=True, weights='imagenet', input_tensor=None,\n",
        "#     input_shape=None, pooling=None, classes=1000,\n",
        "#     classifier_activation='softmax'\n",
        "# )\n",
        "\n",
        "# The Deep Neural Network Layer Structure.\n",
        "layers = [\n",
        "   \n",
        "   # TODO\n",
        "]\n",
        "\n",
        "# Create model.\n",
        "model = tf.keras.Sequential(layers)\n",
        "\n",
        "# Train and save model\n",
        "history = run_model(model, parameters, layers, lambda: #TODO )\n",
        "\n",
        "# Plot the results for run though of the data (epoch).\n",
        "plot_learning_curve(history['loss'],\n",
        "                    history['val_loss'],\n",
        "                    history['categorical_accuracy'],\n",
        "                    history['val_categorical_accuracy'],\n",
        "                    metric_name='Accuracy')"
      ],
      "execution_count": null,
      "outputs": []
    },
    {
      "cell_type": "markdown",
      "metadata": {
        "id": "At2PtPeU15ZW"
      },
      "source": [
        "### 4.1.3 ResNet Final Model"
      ]
    },
    {
      "cell_type": "code",
      "metadata": {
        "id": "kLwPZ2iI15ZX"
      },
      "source": [
        "# Final hyperparameters.\n",
        "parameters = {\n",
        "    \"hidden_layer_dim\": 256,\n",
        "    \"optimizer\": 'adam',\n",
        "    \"loss\": tf.keras.losses.CategoricalCrossentropy(from_logits=True),\n",
        "    \"metrics\": 'categorical_accuracy',\n",
        "    \"epochs\": 100,\n",
        "    \"batch_size\": 32\n",
        "}\n",
        "\n",
        "# The Deep Neural Network Layer Structure.\n",
        "layers = [\n",
        "   # TODO\n",
        "]\n",
        "\n",
        "# Create model.\n",
        "model = tf.keras.Sequential(layers)\n",
        "\n",
        "# Train and save model\n",
        "history = run_model(model, parameters, layers, lambda: #TODO )\n",
        "\n",
        "# Plot the results for run though of the data (epoch).\n",
        "plot_learning_curve(history['loss'],\n",
        "                    history['val_loss'],\n",
        "                    history['categorical_accuracy'],\n",
        "                    history['val_categorical_accuracy'],\n",
        "                    metric_name='Accuracy')"
      ],
      "execution_count": null,
      "outputs": []
    },
    {
      "cell_type": "markdown",
      "metadata": {
        "id": "qjXIYsrCHkDW"
      },
      "source": [
        "## 4.2 Cell Type Classification"
      ]
    },
    {
      "cell_type": "markdown",
      "metadata": {
        "id": "4TmtcGIWHoDd"
      },
      "source": [
        "### 4.2.1 MDP Final Model"
      ]
    },
    {
      "cell_type": "markdown",
      "metadata": {
        "id": "I5xiteB_HsCP"
      },
      "source": [
        "### 4.2.2 VGG Net Final Model"
      ]
    },
    {
      "cell_type": "markdown",
      "metadata": {
        "id": "s8XLYlLQHsZ-"
      },
      "source": [
        "### 4.2.3 ResNet Final Model"
      ]
    },
    {
      "cell_type": "markdown",
      "metadata": {
        "id": "0uBKhz5F8070"
      },
      "source": [
        "# 5 - Improving Ultimate Judgment with Extra Data Set"
      ]
    },
    {
      "cell_type": "markdown",
      "metadata": {
        "id": "2kSAcSRR8075"
      },
      "source": [
        "Investigate Other Techniques hopefully OP"
      ]
    },
    {
      "cell_type": "markdown",
      "metadata": {
        "id": "yd6tRLrJ8075"
      },
      "source": [
        "**Explore** how the data in both tasks can be used to improve the cell-type classification"
      ]
    }
  ]
}