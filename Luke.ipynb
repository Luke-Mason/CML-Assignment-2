{
  "nbformat": 4,
  "nbformat_minor": 0,
  "metadata": {
    "kernelspec": {
      "display_name": "Python 3",
      "language": "python",
      "name": "python3"
    },
    "language_info": {
      "codemirror_mode": {
        "name": "ipython",
        "version": 3
      },
      "file_extension": ".py",
      "mimetype": "text/x-python",
      "name": "python",
      "nbconvert_exporter": "python",
      "pygments_lexer": "ipython3",
      "version": "3.8.5"
    },
    "colab": {
      "name": "Luke.ipynb",
      "provenance": [],
      "toc_visible": true,
      "include_colab_link": true
    },
    "accelerator": "TPU"
  },
  "cells": [
    {
      "cell_type": "markdown",
      "metadata": {
        "id": "view-in-github",
        "colab_type": "text"
      },
      "source": [
        "<a href=\"https://colab.research.google.com/github/shekhar-hazari/CML-Assignment-2/blob/main/Luke.ipynb\" target=\"_parent\"><img src=\"https://colab.research.google.com/assets/colab-badge.svg\" alt=\"Open In Colab\"/></a>"
      ]
    },
    {
      "cell_type": "markdown",
      "metadata": {
        "id": "pLEPqJJ1807f"
      },
      "source": [
        "# Assignment 2\n",
        "In this task a cancer cell detection system will be created.\n",
        "\n",
        "Luke Mason - s3630120 \\\n",
        "Shekhar Hazari - s3831855"
      ]
    },
    {
      "cell_type": "markdown",
      "metadata": {
        "id": "rqBXpGbfMZGL"
      },
      "source": [
        "# 0 - Setup"
      ]
    },
    {
      "cell_type": "markdown",
      "metadata": {
        "id": "XKx_x1ZJ807t"
      },
      "source": [
        "## 0.1 - Import packages"
      ]
    },
    {
      "cell_type": "code",
      "metadata": {
        "id": "CI073cj-807u"
      },
      "source": [
        "import tensorflow as tf\n",
        "import os\n",
        "import pandas as pd\n",
        "import numpy as np\n",
        "from pandas.api.types import is_string_dtype\n",
        "from pandas.api.types import is_numeric_dtype\n",
        "import matplotlib.pyplot as plt\n",
        "from sklearn.model_selection import train_test_split\n",
        "from PIL import Image\n",
        "from tensorflow.keras.preprocessing.image import ImageDataGenerator"
      ],
      "execution_count": 1,
      "outputs": []
    },
    {
      "cell_type": "markdown",
      "metadata": {
        "id": "D-JMKKjg807v"
      },
      "source": [
        "## 0.2 - Initialise helper functions¶"
      ]
    },
    {
      "cell_type": "code",
      "metadata": {
        "id": "Hb2RttuO807v"
      },
      "source": [
        "def holdout_validation(train_size, X, Y):\n",
        "    \n",
        "    # Get the difference between train and test size, together both make 100% of the raw data set.\n",
        "    test_size = 1 - train_size\n",
        "    \n",
        "    # Split into train and test for normal and target fields set, left overs are for validation and test.\n",
        "    with pd.option_context('mode.chained_assignment', None):\n",
        "        train_X, X_test_, train_Y, Y_test_ = train_test_split(X, Y, test_size=test_size, shuffle=True,random_state=0)\n",
        "\n",
        "    # Split the test data into validation test and test.\n",
        "    # Do for target field and normal fields.\n",
        "    with pd.option_context('mode.chained_assignment', None):\n",
        "         val_X, test_X, val_Y, test_Y = train_test_split(X_test_, Y_test_, test_size=0.5, shuffle=True, random_state=29)\n",
        "    return train_X, val_X, test_X, train_Y, val_Y, test_Y"
      ],
      "execution_count": 2,
      "outputs": []
    },
    {
      "cell_type": "code",
      "metadata": {
        "id": "ho5cuz7TdKcX"
      },
      "source": [
        "def hist_plot(title, columns, colours, nrows, ncols, index_pos, left=0.125, top=0.9, bottom=0.1, right=0.9, wspace=0.3, hspace=0.7):\n",
        "    \"\"\"\n",
        "    Plots a histogram.\n",
        "    :param title:     The title of the histogram.\n",
        "    :param columns:   The data columns to plot on the histogram.\n",
        "    :param colours:   The colours for each data column on the histogram.\n",
        "    :param nrows:     The number of rows in the presentation table.\n",
        "    :param ncols:     The number of columns in the presentation table.\n",
        "    :param index_pos: The index of the histogram on the\n",
        "    :param left:      How far to move away from left.\n",
        "    :param top:       How far to move away from top.\n",
        "    :param bottom:    How far to extend towards bottom.\n",
        "    :param right:     How far to extend boundary towards right.\n",
        "    :param wspace:    Height ratio spacing between plots.\n",
        "    :param hspace:    Width ratio spacing between plots.\n",
        "    :return:\n",
        "    \"\"\"\n",
        "    # Make sub plots space according to parameters.\n",
        "    plt.subplot(nrows,ncols,index_pos)\n",
        "\n",
        "    # Give perfect amount of room around each plot to not overlap text.\n",
        "    plt.subplots_adjust(left=left, bottom=bottom, right=right, top=top, wspace=wspace, hspace=hspace)\n",
        "\n",
        "    # Plot histogram for each column feature and assign corresponding colour.\n",
        "    for index_pos, column in enumerate(columns):\n",
        "        plt.hist(column, alpha=0.3, color=colours[index_pos % len(colours)], density=True)\n",
        "        \n",
        "    plt.title(title)\n",
        "    plt.xticks(rotation='vertical')"
      ],
      "execution_count": 3,
      "outputs": []
    },
    {
      "cell_type": "code",
      "metadata": {
        "id": "engCbj0hdE1C"
      },
      "source": [
        "def train_val_test_split_by_column(dataframe, column, train_size = 0.666, val_size = 0.5):\n",
        "  splitting_IDs = dataframe[column].unique()\n",
        "  train_IDs, test_IDs = train_test_split(splitting_IDs, train_size = train_size)\n",
        "  val_IDs, test_IDs = train_test_split(test_IDs, train_size = val_size)\n",
        "\n",
        "  train_IDs = pd.DataFrame(train_IDs)\n",
        "  train_IDs.rename(columns = {0:column}, inplace = True)\n",
        "  train_IDs['split'] = 'train'\n",
        "\n",
        "  val_IDs = pd.DataFrame(val_IDs)\n",
        "  val_IDs.rename(columns = {0:column}, inplace = True)\n",
        "  val_IDs['split'] = 'validation'\n",
        "\n",
        "  test_IDs = pd.DataFrame(test_IDs)\n",
        "  test_IDs.rename(columns = {0:column}, inplace = True)\n",
        "  test_IDs['split'] = 'test'\n",
        "\n",
        "  splits = pd.concat([train_IDs, val_IDs, test_IDs], ignore_index=True)\n",
        "\n",
        "  dataframe = pd.merge(dataframe, splits, on = column)\n",
        "\n",
        "  train_set = dataframe[dataframe['split'] == 'train']\n",
        "  train_set = train_set.drop(['split'], axis = 1)\n",
        "\n",
        "  validation_set = dataframe[dataframe['split'] == 'validation']\n",
        "  validation_set = validation_set.drop(['split'], axis = 1)\n",
        "\n",
        "  test_set = dataframe[dataframe['split'] == 'test']\n",
        "  test_set = test_set.drop(['split'], axis = 1)\n",
        "\n",
        "  return train_set, validation_set, test_set"
      ],
      "execution_count": 4,
      "outputs": []
    },
    {
      "cell_type": "code",
      "metadata": {
        "id": "eq4DV0L6dE7s"
      },
      "source": [
        "def plot_learning_curve(train_loss, val_loss, train_metric, val_metric, \n",
        "                        metric_name='Accuracy', test_loss=\"\", test_metric=\"\"):\n",
        "    plt.figure(figsize=(10,5))\n",
        "    \n",
        "    plt.subplot(1,2,1)\n",
        "    plt.plot(train_loss, 'r--')\n",
        "    plt.plot(val_loss, 'b--')\n",
        "    if test_loss != \"\":\n",
        "      plt.plot(test_loss, 'g--')\n",
        "    plt.xlabel(\"epochs\")\n",
        "    plt.ylabel(\"Loss\")\n",
        "    plt.legend(['train', 'val'], loc='upper left')\n",
        "\n",
        "    plt.subplot(1,2,2)\n",
        "    plt.plot(train_metric, 'r--')\n",
        "    plt.plot(val_metric, 'b--')\n",
        "    if test_metric != \"\":\n",
        "      plt.plot(test_metric, 'g--')\n",
        "    plt.xlabel(\"epochs\")\n",
        "    plt.ylabel(metric_name)\n",
        "    plt.legend(['train', 'val'], loc='upper left')\n",
        "\n",
        "    plt.show()"
      ],
      "execution_count": 5,
      "outputs": []
    },
    {
      "cell_type": "code",
      "metadata": {
        "id": "Zu0qdVsmdE9U"
      },
      "source": [
        "def get_imagery_data_sets(train_set, validation_set, test_set, directory, \n",
        "                          x_col, y_col, batch_size):\n",
        "  \n",
        "  # Make target feature a string so that the categorical class_mode can categorise it.\n",
        "  train_set[y_col] = train_set[y_col].astype('str')\n",
        "  validation_set[y_col] = validation_set[y_col].astype('str')\n",
        "  test_set[y_col] = test_set[y_col].astype('str')\n",
        "\n",
        "  train_datagen = ImageDataGenerator(rescale=1./255, data_format='channels_last')\n",
        "  val_datagen = ImageDataGenerator(rescale=1./255, data_format='channels_last')\n",
        "  test_datagen = ImageDataGenerator(rescale=1./255, data_format='channels_last')\n",
        "  \n",
        "  # The parameters that all data set generators have in common.\n",
        "  generator_parameters = dict(\n",
        "      directory=directory,\n",
        "      x_col=\"ImageName\",\n",
        "      y_col=\"isCancerous\",\n",
        "      target_size=(27, 27),\n",
        "      class_mode='categorical')\n",
        "  \n",
        "  # Train set generator to evaluate produce dataframe with train images.\n",
        "  train_imagery_set = train_datagen.flow_from_dataframe(\n",
        "          dataframe=train_set,\n",
        "          batch_size=batch_size,\n",
        "          **generator_parameters)\n",
        "\n",
        "  # Validation set generator to evaluate produce dataframe with validation images.\n",
        "  val_imagery_set = val_datagen.flow_from_dataframe(\n",
        "          dataframe=validation_set,\n",
        "          batch_size=batch_size,\n",
        "          **generator_parameters)\n",
        "\n",
        "  # Test set generator to evaluate produce dataframe with test images.\n",
        "  test_imagery_set = test_datagen.flow_from_dataframe(\n",
        "          dataframe=test_set,\n",
        "          batch_size=1,\n",
        "          **generator_parameters)\n",
        "  \n",
        "  return train_imagery_set, val_imagery_set, test_imagery_set"
      ],
      "execution_count": 6,
      "outputs": []
    },
    {
      "cell_type": "markdown",
      "metadata": {
        "id": "oU0Wjtk_807w"
      },
      "source": [
        "## 0.3 - Unzip zipped data"
      ]
    },
    {
      "cell_type": "code",
      "metadata": {
        "id": "RNfQletN807w",
        "colab": {
          "base_uri": "https://localhost:8080/"
        },
        "outputId": "b007a2df-55f3-4364-f5cd-3bdd13ffda24"
      },
      "source": [
        "from google.colab import drive\n",
        "drive.mount('/content/drive', force_remount=True)"
      ],
      "execution_count": 7,
      "outputs": [
        {
          "output_type": "stream",
          "text": [
            "Mounted at /content/drive\n"
          ],
          "name": "stdout"
        }
      ]
    },
    {
      "cell_type": "code",
      "metadata": {
        "id": "e_PXR8z-807y",
        "colab": {
          "base_uri": "https://localhost:8080/"
        },
        "outputId": "dae87bc4-8d34-41ab-c1f5-c4998195ee4c"
      },
      "source": [
        "# Change according to your directory structure\n",
        "!cp /content/drive/'My Drive'/CML-Assignment-2/Image_classification_data.zip .\n",
        "!unzip -q -o Image_classification_data.zip\n",
        "!rm Image_classification_data.zip\n",
        "!ls"
      ],
      "execution_count": 8,
      "outputs": [
        {
          "output_type": "stream",
          "text": [
            "data_labels_extraData.csv  drive     patch_images\n",
            "data_labels_mainData.csv   __MACOSX  sample_data\n"
          ],
          "name": "stdout"
        }
      ]
    },
    {
      "cell_type": "markdown",
      "metadata": {
        "id": "iTVHd1WIgU2x"
      },
      "source": [
        "## 0.4 - Load the data\n",
        "This data contains both the cell type and isCancerous labels."
      ]
    },
    {
      "cell_type": "code",
      "metadata": {
        "id": "OPwo9mZwgS6T"
      },
      "source": [
        "main_data = pd.read_csv('./data_labels_mainData.csv', delimiter=',')\n",
        "extra_data = pd.read_csv('./data_labels_extraData.csv', delimiter=',')"
      ],
      "execution_count": 9,
      "outputs": []
    },
    {
      "cell_type": "markdown",
      "metadata": {
        "id": "Ln_1NtGHgK1Z"
      },
      "source": [
        "# 1 - Exploratory Data Analysis\n",
        "The data is assumed to be made of entirely by newborn babies according to the assignment forums.\\"
      ]
    },
    {
      "cell_type": "markdown",
      "metadata": {
        "id": "K6_ioO1MJI4F"
      },
      "source": [
        "## 1.1 - Main Data Set"
      ]
    },
    {
      "cell_type": "markdown",
      "metadata": {
        "id": "jf0Bfcj8hWef"
      },
      "source": [
        "### 1.1.1 - Splitting the data\n",
        "Splitting the main dataset into train, validation and test sets"
      ]
    },
    {
      "cell_type": "code",
      "metadata": {
        "id": "w4OAnD1rhgsO"
      },
      "source": [
        "main_train_set, main_validation_set, main_test_set = train_val_test_split_by_column(main_data, 'patientID')"
      ],
      "execution_count": 10,
      "outputs": []
    },
    {
      "cell_type": "code",
      "metadata": {
        "id": "P8zB37UyhiN4",
        "colab": {
          "base_uri": "https://localhost:8080/"
        },
        "outputId": "0289cefe-b46c-48d9-8e48-672249d95945"
      },
      "source": [
        "print('Overall ferquency of isCancerous:')\n",
        "print(main_data.isCancerous.value_counts().to_frame())\n",
        "\n",
        "print('Frequency of isCancerous in training data: ')\n",
        "print(main_train_set.isCancerous.value_counts().to_frame())\n",
        "\n",
        "print('Frequency of isCancerous in validation data: ')\n",
        "print(main_validation_set.isCancerous.value_counts().to_frame())\n",
        "\n",
        "print('Frequency of isCancerous in test data: ')\n",
        "print(main_test_set.isCancerous.value_counts().to_frame())"
      ],
      "execution_count": 11,
      "outputs": [
        {
          "output_type": "stream",
          "text": [
            "Overall ferquency of isCancerous:\n",
            "   isCancerous\n",
            "0         5817\n",
            "1         4079\n",
            "Frequency of isCancerous in training data: \n",
            "   isCancerous\n",
            "0         3994\n",
            "1         2469\n",
            "Frequency of isCancerous in validation data: \n",
            "   isCancerous\n",
            "1          895\n",
            "0          784\n",
            "Frequency of isCancerous in test data: \n",
            "   isCancerous\n",
            "0         1039\n",
            "1          715\n"
          ],
          "name": "stdout"
        }
      ]
    },
    {
      "cell_type": "code",
      "metadata": {
        "id": "e1uTssCbW6Zb",
        "colab": {
          "base_uri": "https://localhost:8080/",
          "height": 0
        },
        "outputId": "715e8116-5a6d-49df-ae60-e99e0779d175"
      },
      "source": [
        "# Graph the results\n",
        "plt.figure(figsize=(3,3))\n",
        "col = \"cellTypeName\"\n",
        "hist_plot(col, [main_train_set[col], main_validation_set[col], main_test_set[col]], ['r', 'y', 'b'], 1, 1, 1)"
      ],
      "execution_count": 12,
      "outputs": [
        {
          "output_type": "display_data",
          "data": {
            "image/png": "[encoded data removed]",
            "text/plain": [
              "<Figure size 216x216 with 1 Axes>"
            ]
          },
          "metadata": {
            "tags": [],
            "needs_background": "light"
          }
        }
      ]
    },
    {
      "cell_type": "markdown",
      "metadata": {
        "id": "mHh9XhSpVmpR"
      },
      "source": [
        "🧐 **Observations:**\n",
        "> - Epithelial cell type is evenly distributed over the train, validation and test set, but the other types are not.\n",
        "\n",
        "👨🏻‍🎓 **Conclusions**\n",
        "> - "
      ]
    },
    {
      "cell_type": "markdown",
      "metadata": {
        "id": "vUjVCFw1OISi"
      },
      "source": [
        "### 1.1.2 - Preview\n",
        "Previewing the contents of the main data set."
      ]
    },
    {
      "cell_type": "code",
      "metadata": {
        "id": "dEOzqQwH807z",
        "colab": {
          "base_uri": "https://localhost:8080/",
          "height": 0
        },
        "outputId": "21c53fa3-6364-4056-80f4-b4543d31f228"
      },
      "source": [
        "main_data.describe()"
      ],
      "execution_count": 13,
      "outputs": [
        {
          "output_type": "execute_result",
          "data": {
            "text/html": [
              "<div>\n",
              "<style scoped>\n",
              "    .dataframe tbody tr th:only-of-type {\n",
              "        vertical-align: middle;\n",
              "    }\n",
              "\n",
              "    .dataframe tbody tr th {\n",
              "        vertical-align: top;\n",
              "    }\n",
              "\n",
              "    .dataframe thead th {\n",
              "        text-align: right;\n",
              "    }\n",
              "</style>\n",
              "<table border=\"1\" class=\"dataframe\">\n",
              "  <thead>\n",
              "    <tr style=\"text-align: right;\">\n",
              "      <th></th>\n",
              "      <th>InstanceID</th>\n",
              "      <th>patientID</th>\n",
              "      <th>cellType</th>\n",
              "      <th>isCancerous</th>\n",
              "    </tr>\n",
              "  </thead>\n",
              "  <tbody>\n",
              "    <tr>\n",
              "      <th>count</th>\n",
              "      <td>9896.000000</td>\n",
              "      <td>9896.000000</td>\n",
              "      <td>9896.000000</td>\n",
              "      <td>9896.000000</td>\n",
              "    </tr>\n",
              "    <tr>\n",
              "      <th>mean</th>\n",
              "      <td>10193.880154</td>\n",
              "      <td>29.762025</td>\n",
              "      <td>1.501516</td>\n",
              "      <td>0.412187</td>\n",
              "    </tr>\n",
              "    <tr>\n",
              "      <th>std</th>\n",
              "      <td>6652.912660</td>\n",
              "      <td>17.486553</td>\n",
              "      <td>0.954867</td>\n",
              "      <td>0.492253</td>\n",
              "    </tr>\n",
              "    <tr>\n",
              "      <th>min</th>\n",
              "      <td>1.000000</td>\n",
              "      <td>1.000000</td>\n",
              "      <td>0.000000</td>\n",
              "      <td>0.000000</td>\n",
              "    </tr>\n",
              "    <tr>\n",
              "      <th>25%</th>\n",
              "      <td>4135.750000</td>\n",
              "      <td>14.000000</td>\n",
              "      <td>1.000000</td>\n",
              "      <td>0.000000</td>\n",
              "    </tr>\n",
              "    <tr>\n",
              "      <th>50%</th>\n",
              "      <td>9279.500000</td>\n",
              "      <td>26.000000</td>\n",
              "      <td>2.000000</td>\n",
              "      <td>0.000000</td>\n",
              "    </tr>\n",
              "    <tr>\n",
              "      <th>75%</th>\n",
              "      <td>16821.250000</td>\n",
              "      <td>47.000000</td>\n",
              "      <td>2.000000</td>\n",
              "      <td>1.000000</td>\n",
              "    </tr>\n",
              "    <tr>\n",
              "      <th>max</th>\n",
              "      <td>22444.000000</td>\n",
              "      <td>60.000000</td>\n",
              "      <td>3.000000</td>\n",
              "      <td>1.000000</td>\n",
              "    </tr>\n",
              "  </tbody>\n",
              "</table>\n",
              "</div>"
            ],
            "text/plain": [
              "         InstanceID    patientID     cellType  isCancerous\n",
              "count   9896.000000  9896.000000  9896.000000  9896.000000\n",
              "mean   10193.880154    29.762025     1.501516     0.412187\n",
              "std     6652.912660    17.486553     0.954867     0.492253\n",
              "min        1.000000     1.000000     0.000000     0.000000\n",
              "25%     4135.750000    14.000000     1.000000     0.000000\n",
              "50%     9279.500000    26.000000     2.000000     0.000000\n",
              "75%    16821.250000    47.000000     2.000000     1.000000\n",
              "max    22444.000000    60.000000     3.000000     1.000000"
            ]
          },
          "metadata": {
            "tags": []
          },
          "execution_count": 13
        }
      ]
    },
    {
      "cell_type": "code",
      "metadata": {
        "id": "GVjeLIvA8070",
        "colab": {
          "base_uri": "https://localhost:8080/",
          "height": 0
        },
        "outputId": "9da6e7c8-d6cf-4289-94c9-8daa4b64c37c"
      },
      "source": [
        "main_data.head()"
      ],
      "execution_count": 14,
      "outputs": [
        {
          "output_type": "execute_result",
          "data": {
            "text/html": [
              "<div>\n",
              "<style scoped>\n",
              "    .dataframe tbody tr th:only-of-type {\n",
              "        vertical-align: middle;\n",
              "    }\n",
              "\n",
              "    .dataframe tbody tr th {\n",
              "        vertical-align: top;\n",
              "    }\n",
              "\n",
              "    .dataframe thead th {\n",
              "        text-align: right;\n",
              "    }\n",
              "</style>\n",
              "<table border=\"1\" class=\"dataframe\">\n",
              "  <thead>\n",
              "    <tr style=\"text-align: right;\">\n",
              "      <th></th>\n",
              "      <th>InstanceID</th>\n",
              "      <th>patientID</th>\n",
              "      <th>ImageName</th>\n",
              "      <th>cellTypeName</th>\n",
              "      <th>cellType</th>\n",
              "      <th>isCancerous</th>\n",
              "    </tr>\n",
              "  </thead>\n",
              "  <tbody>\n",
              "    <tr>\n",
              "      <th>0</th>\n",
              "      <td>22405</td>\n",
              "      <td>1</td>\n",
              "      <td>22405.png</td>\n",
              "      <td>fibroblast</td>\n",
              "      <td>0</td>\n",
              "      <td>0</td>\n",
              "    </tr>\n",
              "    <tr>\n",
              "      <th>1</th>\n",
              "      <td>22406</td>\n",
              "      <td>1</td>\n",
              "      <td>22406.png</td>\n",
              "      <td>fibroblast</td>\n",
              "      <td>0</td>\n",
              "      <td>0</td>\n",
              "    </tr>\n",
              "    <tr>\n",
              "      <th>2</th>\n",
              "      <td>22407</td>\n",
              "      <td>1</td>\n",
              "      <td>22407.png</td>\n",
              "      <td>fibroblast</td>\n",
              "      <td>0</td>\n",
              "      <td>0</td>\n",
              "    </tr>\n",
              "    <tr>\n",
              "      <th>3</th>\n",
              "      <td>22408</td>\n",
              "      <td>1</td>\n",
              "      <td>22408.png</td>\n",
              "      <td>fibroblast</td>\n",
              "      <td>0</td>\n",
              "      <td>0</td>\n",
              "    </tr>\n",
              "    <tr>\n",
              "      <th>4</th>\n",
              "      <td>22409</td>\n",
              "      <td>1</td>\n",
              "      <td>22409.png</td>\n",
              "      <td>fibroblast</td>\n",
              "      <td>0</td>\n",
              "      <td>0</td>\n",
              "    </tr>\n",
              "  </tbody>\n",
              "</table>\n",
              "</div>"
            ],
            "text/plain": [
              "   InstanceID  patientID  ImageName cellTypeName  cellType  isCancerous\n",
              "0       22405          1  22405.png   fibroblast         0            0\n",
              "1       22406          1  22406.png   fibroblast         0            0\n",
              "2       22407          1  22407.png   fibroblast         0            0\n",
              "3       22408          1  22408.png   fibroblast         0            0\n",
              "4       22409          1  22409.png   fibroblast         0            0"
            ]
          },
          "metadata": {
            "tags": []
          },
          "execution_count": 14
        }
      ]
    },
    {
      "cell_type": "code",
      "metadata": {
        "colab": {
          "base_uri": "https://localhost:8080/"
        },
        "id": "dRxdm5yKfLAm",
        "outputId": "36970f19-716d-48a0-dcd3-2136f20dfbb3"
      },
      "source": [
        "main_data.info()"
      ],
      "execution_count": 15,
      "outputs": [
        {
          "output_type": "stream",
          "text": [
            "<class 'pandas.core.frame.DataFrame'>\n",
            "RangeIndex: 9896 entries, 0 to 9895\n",
            "Data columns (total 6 columns):\n",
            " #   Column        Non-Null Count  Dtype \n",
            "---  ------        --------------  ----- \n",
            " 0   InstanceID    9896 non-null   int64 \n",
            " 1   patientID     9896 non-null   int64 \n",
            " 2   ImageName     9896 non-null   object\n",
            " 3   cellTypeName  9896 non-null   object\n",
            " 4   cellType      9896 non-null   int64 \n",
            " 5   isCancerous   9896 non-null   int64 \n",
            "dtypes: int64(4), object(2)\n",
            "memory usage: 464.0+ KB\n"
          ],
          "name": "stdout"
        }
      ]
    },
    {
      "cell_type": "code",
      "metadata": {
        "colab": {
          "base_uri": "https://localhost:8080/"
        },
        "id": "juKROfLZQaY0",
        "outputId": "035488cf-9e51-4e5a-ed9c-ec41762eac93"
      },
      "source": [
        "df1 = main_data.groupby(['cellTypeName', 'cellType'])['InstanceID'].nunique()\n",
        "df2 = main_data.groupby(['isCancerous'])['InstanceID'].nunique()\n",
        "print(df1)\n",
        "print(df2)"
      ],
      "execution_count": 16,
      "outputs": [
        {
          "output_type": "stream",
          "text": [
            "cellTypeName  cellType\n",
            "epithelial    2           4079\n",
            "fibroblast    0           1888\n",
            "inflammatory  1           2543\n",
            "others        3           1386\n",
            "Name: InstanceID, dtype: int64\n",
            "isCancerous\n",
            "0    5817\n",
            "1    4079\n",
            "Name: InstanceID, dtype: int64\n"
          ],
          "name": "stdout"
        }
      ]
    },
    {
      "cell_type": "markdown",
      "metadata": {
        "id": "LE4UfwwRIy0Z"
      },
      "source": [
        "🧐 **Observations:**\n",
        "> - The different columns have different data typees and is not uniform\n",
        "> - ImageName contains the image file name the results reference\n",
        "> - isCancerous is the main target column\n",
        "> - cellType is likely the secondary target column, and derived from isCancerous, and not the vice versa.\n",
        "> - cellType is the encoded version of cellTypeName\n",
        "\n",
        "👨🏻‍🎓 **Conclusions**\n",
        "> - Make the data types over the dataset uniform, either into type string or object.\n",
        "> - Use cellType instead of the cellTypeName\n",
        "> - "
      ]
    },
    {
      "cell_type": "markdown",
      "metadata": {
        "id": "Lm78hqWHQCqf"
      },
      "source": [
        "Preview the image data via cell type"
      ]
    },
    {
      "cell_type": "code",
      "metadata": {
        "id": "4UIxguzJReLo",
        "colab": {
          "base_uri": "https://localhost:8080/"
        },
        "outputId": "5b951c95-0c9b-4c42-bc61-a52111620f14"
      },
      "source": [
        "label_names = {k: v for k, v in df1.keys()}\n",
        "cellTypes = {v: k for k, v in label_names.items()}\n",
        "print(label_names)\n",
        "print(cellTypes)"
      ],
      "execution_count": 17,
      "outputs": [
        {
          "output_type": "stream",
          "text": [
            "{'epithelial': 2, 'fibroblast': 0, 'inflammatory': 1, 'others': 3}\n",
            "{2: 'epithelial', 0: 'fibroblast', 1: 'inflammatory', 3: 'others'}\n"
          ],
          "name": "stdout"
        }
      ]
    },
    {
      "cell_type": "code",
      "metadata": {
        "id": "BUED11icHvbj",
        "colab": {
          "base_uri": "https://localhost:8080/",
          "height": 0
        },
        "outputId": "9fb373fb-3c41-4d49-9eae-59fca7c924ea"
      },
      "source": [
        "img_list = list(main_train_set[\"ImageName\"])\n",
        "types = list(main_train_set[\"cellType\"])\n",
        "target_list = list(main_train_set[\"isCancerous\"])\n",
        "target_labels = {1: \"Cancerous\", 0: \"Non-Cancerous\"}\n",
        "\n",
        "plt.figure(figsize=[25,12])\n",
        "\n",
        "for i in np.arange(40):\n",
        "  plt.subplot(4, 10, i + 1)\n",
        "  img = Image.open('./patch_images/' + img_list[i])\n",
        "\n",
        "  plt.imshow(img)\n",
        "  plt.title(cellTypes[types[i]] + \"\\n\" + target_labels[target_list[i]])"
      ],
      "execution_count": 18,
      "outputs": [
        {
          "output_type": "display_data",
          "data": {
            "image/png": "[encoded data removed]",
            "text/plain": [
              "<Figure size 1800x864 with 40 Axes>"
            ]
          },
          "metadata": {
            "tags": [],
            "needs_background": "light"
          }
        }
      ]
    },
    {
      "cell_type": "code",
      "metadata": {
        "id": "xDEjfbUdHqYW",
        "colab": {
          "base_uri": "https://localhost:8080/"
        },
        "outputId": "3f7e024d-bec4-449a-9ec9-5443d5e3febf"
      },
      "source": [
        "# Check image sizes\n",
        "img = Image.open('./patch_images/' + img_list[100])\n",
        "img_numpy = np.ascontiguousarray(img, dtype=np.float32)\n",
        "print(\"Image size: \\nH:{} W:{} C:{}\".format(img_numpy.shape[0], img_numpy.shape[1], img_numpy.shape[2]))"
      ],
      "execution_count": 19,
      "outputs": [
        {
          "output_type": "stream",
          "text": [
            "Image size: \n",
            "H:27 W:27 C:3\n"
          ],
          "name": "stdout"
        }
      ]
    },
    {
      "cell_type": "markdown",
      "metadata": {
        "id": "Ncjxda2YcLCx"
      },
      "source": [
        "🧐 **Observations:**\n",
        "> - \n",
        "\n",
        "👨🏻‍🎓 **Conclusions**\n",
        "> - "
      ]
    },
    {
      "cell_type": "markdown",
      "metadata": {
        "id": "YC7FqgXWfWUP"
      },
      "source": [
        "### 1.1.3 - Transformation\n",
        "Set all types to be of type Object. We do this because all the variables are categorical, they don't have any continuous values, so it's easier while creating visualizations."
      ]
    },
    {
      "cell_type": "code",
      "metadata": {
        "id": "l2KWLokDfYTk"
      },
      "source": [
        "for column in main_data.columns:\n",
        "  main_data[column] = main_data[column].astype('object')"
      ],
      "execution_count": 20,
      "outputs": []
    },
    {
      "cell_type": "code",
      "metadata": {
        "colab": {
          "base_uri": "https://localhost:8080/"
        },
        "id": "y6wQgh9kfWAC",
        "outputId": "1a997975-9b74-4acc-a5b6-f779631638b0"
      },
      "source": [
        "print(main_data.info())"
      ],
      "execution_count": 21,
      "outputs": [
        {
          "output_type": "stream",
          "text": [
            "<class 'pandas.core.frame.DataFrame'>\n",
            "RangeIndex: 9896 entries, 0 to 9895\n",
            "Data columns (total 6 columns):\n",
            " #   Column        Non-Null Count  Dtype \n",
            "---  ------        --------------  ----- \n",
            " 0   InstanceID    9896 non-null   object\n",
            " 1   patientID     9896 non-null   object\n",
            " 2   ImageName     9896 non-null   object\n",
            " 3   cellTypeName  9896 non-null   object\n",
            " 4   cellType      9896 non-null   object\n",
            " 5   isCancerous   9896 non-null   object\n",
            "dtypes: object(6)\n",
            "memory usage: 464.0+ KB\n",
            "None\n"
          ],
          "name": "stdout"
        }
      ]
    },
    {
      "cell_type": "code",
      "metadata": {
        "colab": {
          "base_uri": "https://localhost:8080/",
          "height": 0
        },
        "id": "jq7X2FIwfx-2",
        "outputId": "e42ade1e-5f39-483d-c15a-db713981c7ee"
      },
      "source": [
        "main_data.describe(include=['object'])"
      ],
      "execution_count": 22,
      "outputs": [
        {
          "output_type": "execute_result",
          "data": {
            "text/html": [
              "<div>\n",
              "<style scoped>\n",
              "    .dataframe tbody tr th:only-of-type {\n",
              "        vertical-align: middle;\n",
              "    }\n",
              "\n",
              "    .dataframe tbody tr th {\n",
              "        vertical-align: top;\n",
              "    }\n",
              "\n",
              "    .dataframe thead th {\n",
              "        text-align: right;\n",
              "    }\n",
              "</style>\n",
              "<table border=\"1\" class=\"dataframe\">\n",
              "  <thead>\n",
              "    <tr style=\"text-align: right;\">\n",
              "      <th></th>\n",
              "      <th>InstanceID</th>\n",
              "      <th>patientID</th>\n",
              "      <th>ImageName</th>\n",
              "      <th>cellTypeName</th>\n",
              "      <th>cellType</th>\n",
              "      <th>isCancerous</th>\n",
              "    </tr>\n",
              "  </thead>\n",
              "  <tbody>\n",
              "    <tr>\n",
              "      <th>count</th>\n",
              "      <td>9896</td>\n",
              "      <td>9896</td>\n",
              "      <td>9896</td>\n",
              "      <td>9896</td>\n",
              "      <td>9896</td>\n",
              "      <td>9896</td>\n",
              "    </tr>\n",
              "    <tr>\n",
              "      <th>unique</th>\n",
              "      <td>9896</td>\n",
              "      <td>60</td>\n",
              "      <td>9896</td>\n",
              "      <td>4</td>\n",
              "      <td>4</td>\n",
              "      <td>2</td>\n",
              "    </tr>\n",
              "    <tr>\n",
              "      <th>top</th>\n",
              "      <td>972</td>\n",
              "      <td>54</td>\n",
              "      <td>17178.png</td>\n",
              "      <td>epithelial</td>\n",
              "      <td>2</td>\n",
              "      <td>0</td>\n",
              "    </tr>\n",
              "    <tr>\n",
              "      <th>freq</th>\n",
              "      <td>1</td>\n",
              "      <td>389</td>\n",
              "      <td>1</td>\n",
              "      <td>4079</td>\n",
              "      <td>4079</td>\n",
              "      <td>5817</td>\n",
              "    </tr>\n",
              "  </tbody>\n",
              "</table>\n",
              "</div>"
            ],
            "text/plain": [
              "        InstanceID  patientID  ImageName cellTypeName  cellType  isCancerous\n",
              "count         9896       9896       9896         9896      9896         9896\n",
              "unique        9896         60       9896            4         4            2\n",
              "top            972         54  17178.png   epithelial         2            0\n",
              "freq             1        389          1         4079      4079         5817"
            ]
          },
          "metadata": {
            "tags": []
          },
          "execution_count": 22
        }
      ]
    },
    {
      "cell_type": "markdown",
      "metadata": {
        "id": "LxBGp2P-IxUZ"
      },
      "source": [
        "🧐 **Observations:**\n",
        "> - \n",
        "\n",
        "👨🏻‍🎓 **Conclusions**\n",
        "> - "
      ]
    },
    {
      "cell_type": "markdown",
      "metadata": {
        "id": "wrCIkdp1hIwq"
      },
      "source": [
        "### 1.1.4 - Examination\n",
        "Examining the data's distribution via bucketing the categories.\n",
        "\n"
      ]
    },
    {
      "cell_type": "code",
      "metadata": {
        "colab": {
          "base_uri": "https://localhost:8080/",
          "height": 0
        },
        "id": "a8W2oBZXf1uM",
        "outputId": "fb188ac5-aa82-44ae-c8ef-bd6af58c7e81"
      },
      "source": [
        "pd.crosstab(main_data['cellTypeName'], main_data['isCancerous'], margins = False).plot.bar(stacked = True,\n",
        "                                                                                            title = 'Frequency of cell types',\n",
        "                                                                                            xlabel = 'Cell Type',\n",
        "                                                                                            ylabel = 'Number of Images')"
      ],
      "execution_count": 23,
      "outputs": [
        {
          "output_type": "execute_result",
          "data": {
            "text/plain": [
              "<matplotlib.axes._subplots.AxesSubplot at 0x7fb3f14b6290>"
            ]
          },
          "metadata": {
            "tags": []
          },
          "execution_count": 23
        },
        {
          "output_type": "display_data",
          "data": {
            "image/png": "[encoded data removed]",
            "text/plain": [
              "<Figure size 432x288 with 1 Axes>"
            ]
          },
          "metadata": {
            "tags": [],
            "needs_background": "light"
          }
        }
      ]
    },
    {
      "cell_type": "markdown",
      "metadata": {
        "id": "S27_ZXj_Ir8z"
      },
      "source": [
        "🧐 **Observations:**\n",
        "> - \n",
        "\n",
        "👨🏻‍🎓 **Conclusions**\n",
        "> - "
      ]
    },
    {
      "cell_type": "code",
      "metadata": {
        "colab": {
          "base_uri": "https://localhost:8080/",
          "height": 0
        },
        "id": "aHmVcr7YhI5b",
        "outputId": "c7020dec-8092-4948-889b-9c32f9778458"
      },
      "source": [
        "main_data.patientID.value_counts().nlargest(5).to_frame().plot(kind = 'bar', title = 'Top 5 Patients by number of images',\n",
        "                                                               xlabel = 'Patient ID', ylabel = 'Number of images', legend = False,\n",
        "                                                               label = True)"
      ],
      "execution_count": 24,
      "outputs": [
        {
          "output_type": "execute_result",
          "data": {
            "text/plain": [
              "<matplotlib.axes._subplots.AxesSubplot at 0x7fb3f1434990>"
            ]
          },
          "metadata": {
            "tags": []
          },
          "execution_count": 24
        },
        {
          "output_type": "display_data",
          "data": {
            "image/png": "[encoded data removed]",
            "text/plain": [
              "<Figure size 432x288 with 1 Axes>"
            ]
          },
          "metadata": {
            "tags": [],
            "needs_background": "light"
          }
        }
      ]
    },
    {
      "cell_type": "code",
      "metadata": {
        "colab": {
          "base_uri": "https://localhost:8080/",
          "height": 0
        },
        "id": "ZdA76AabhI_A",
        "outputId": "1680d58d-b9c7-4f13-83ce-031a4e958ba9"
      },
      "source": [
        "main_data.patientID.value_counts().nsmallest(5).to_frame().plot(kind = 'bar', title = 'Bottom 5 Patients by number of images',\n",
        "                                                                xlabel = 'Patient ID', ylabel = 'Number of images', legend = False)"
      ],
      "execution_count": 25,
      "outputs": [
        {
          "output_type": "execute_result",
          "data": {
            "text/plain": [
              "<matplotlib.axes._subplots.AxesSubplot at 0x7fb3f13b5250>"
            ]
          },
          "metadata": {
            "tags": []
          },
          "execution_count": 25
        },
        {
          "output_type": "display_data",
          "data": {
            "image/png": "[encoded data removed]",
            "text/plain": [
              "<Figure size 432x288 with 1 Axes>"
            ]
          },
          "metadata": {
            "tags": [],
            "needs_background": "light"
          }
        }
      ]
    },
    {
      "cell_type": "markdown",
      "metadata": {
        "id": "IhzjzSiFIkvP"
      },
      "source": [
        "🧐 **Observations:**\n",
        "> - \n",
        "\n",
        "👨🏻‍🎓 **Conclusions**\n",
        "> - "
      ]
    },
    {
      "cell_type": "markdown",
      "metadata": {
        "id": "hFzwfqpdMMDz"
      },
      "source": [
        "# 2 - Feature Selection"
      ]
    },
    {
      "cell_type": "markdown",
      "metadata": {
        "id": "QxHYiRTnwMLB"
      },
      "source": [
        "# 3 - Modelling "
      ]
    },
    {
      "cell_type": "code",
      "metadata": {
        "id": "2U6LHUyieXpC"
      },
      "source": [
        "# Initialise Constants\n",
        "INPUT_DIM = (27,27,3)\n",
        "OUTPUT_CLASSES = 2"
      ],
      "execution_count": 26,
      "outputs": []
    },
    {
      "cell_type": "markdown",
      "metadata": {
        "id": "_FARSWWw8074"
      },
      "source": [
        "## 3.1 - MLP"
      ]
    },
    {
      "cell_type": "markdown",
      "metadata": {
        "id": "a1vwkcLz4ydG"
      },
      "source": [
        "### 3.1.1 Cancerous Classification\n",
        "Checking if the image is cancerous or not cancerous"
      ]
    },
    {
      "cell_type": "markdown",
      "metadata": {
        "id": "ZCOHpfGn9IH_"
      },
      "source": [
        "#### Model 1"
      ]
    },
    {
      "cell_type": "markdown",
      "metadata": {
        "id": "hVIsdpz1-muS"
      },
      "source": [
        "Hidden layer dimension is randomly set to a value that is 2^n to align with the computer's memory buffer. This is a starting point to iterate on.\\\n",
        "`hidden_layer_dim = 56`\n",
        "\n",
        "TODO \\\n",
        "`optimizer = adam`\n",
        "\n",
        "TODO \\\n",
        "`loss = CategoricalCrossentropy`\n",
        "\n",
        "TODO \\\n",
        "`metrics = ['categorical_accuracy']`\n",
        "\n",
        "TODO \\\n",
        "`epochs = 50`\n",
        "\n",
        "TODO \\\n",
        "`batch_size = 32`"
      ]
    },
    {
      "cell_type": "markdown",
      "metadata": {
        "id": "JKbGrqq19_c8"
      },
      "source": [
        "This model shows starts off with the input layer being the imagery with 3 colour bands, red, green, and blue.\\\n",
        "Then the images are flattened into a 1 dimensional array, [R,G,B] and passed into a single dense layer layer which .........."
      ]
    },
    {
      "cell_type": "code",
      "metadata": {
        "id": "ao0bDuydjk7-"
      },
      "source": [
        "def mlp(train_set, val_set, test_set, hyper_parameters, model, unique_id):\n",
        "  \n",
        "  # Extract the imagery into new data sets from the original data sets that \n",
        "  # contained the image references.\n",
        "  train_imagery_set, val_imagery_set, test_imagery_set = get_imagery_data_sets(\n",
        "      train_set, val_set, test_set, \n",
        "      './patch_images/', 'ImageName', 'isCancerous', hyper_parameters[\"batch_size\"])\n",
        "\n",
        "  # Compile the model with the hyper parameters chosen.\n",
        "  model.compile(optimizer=hyper_parameters[\"optimizer\"],\n",
        "                loss=hyper_parameters[\"loss\"],\n",
        "                metrics=hyper_parameters[\"metrics\"])\n",
        "  \n",
        "  # Print summary.\n",
        "  model.summary()\n",
        "\n",
        "  # Make the checkpoint name unique and happen once every 5 epochs\n",
        "  full_checkpoint_path = unique_id + \"/cp-{epoch:04d}.ckpt\"\n",
        "  \n",
        "  # Create checkpoint file.\n",
        "  checkpoint_dir = os.path.dirname(full_checkpoint_path)\n",
        "\n",
        "  # Load model from checkpoint path\n",
        "  latest = tf.train.latest_checkpoint(checkpoint_dir)\n",
        "  # loaded_model = tf.keras.models.load_model(checkpoint_dir)\n",
        "  # print(loaded_model)\n",
        "  # saver = tf.train.Saver()\n",
        "  # saver.restore(sess, tf.train.latest_checkpoint(checkpoint_dir)))\n",
        "  # graph = tf.get_default_graph()\n",
        "\n",
        "\n",
        "  # if (latest != None):\n",
        "  #   # Load the previously saved weights\n",
        "  #   model.load(latest)\n",
        "  #   loaded_model = tf.keras.models.load_model(checkpoint_dir)\n",
        "  #   # Read in the history chart from fitting the model previously.\n",
        "  #   print()\n",
        "\n",
        "  #   # # Re-evaluate the model\n",
        "  #   # loss, acc = model.evaluate(test_imagery_set, verbose=2)\n",
        "  #   # print(\"Restored model, accuracy: {:5.2f}%\".format(100 * acc))\n",
        "\n",
        "  # # Create a callback that saves the model's weights\n",
        "  # cp_callback = tf.keras.callbacks.ModelCheckpoint(filepath=full_checkpoint_path,\n",
        "  #                                                save_weights_only=True,\n",
        "  #                                                verbose=1,\n",
        "  #                                                save_freq=5*hyper_parameters[\"batch_size\"])\n",
        "\n",
        "  # # Save the weights using the `checkpoint_path` format\n",
        "  # model.save_weights(full_checkpoint_path.format(epoch=0))\n",
        "\n",
        "  # # Fit the model with the generators, and epoch amount.\n",
        "  # history = model.fit(train_imagery_set, validation_data = val_imagery_set, \n",
        "  #                     epochs=hyper_parameters[\"epochs\"], verbose=0,\n",
        "  #                     callbacks=[cp_callback]) \n",
        "\n",
        "  # # Plot the results for run though of the data (epoch).\n",
        "  # plot_learning_curve(history.history['loss'], \n",
        "  #                     history.history['val_loss'], \n",
        "  #                     history.history['categorical_accuracy'], \n",
        "  #                     history.history['val_categorical_accuracy'], \n",
        "  #                     metric_name='Accuracy')\n",
        "\n",
        "  # # Get test set accuracy result.\n",
        "  # # print(model.evaluate(test_imagery_set))\n",
        "  # # Re-evaluate the model\n",
        "  #   loss, acc = model.evaluate(test_imagery_set, verbose=2)\n",
        "  #   print(\"Restored model, accuracy: {:5.2f}%\".format(100 * acc))"
      ],
      "execution_count": 60,
      "outputs": []
    },
    {
      "cell_type": "code",
      "metadata": {
        "id": "T0JNb5bmxA7h"
      },
      "source": [
        "def get_unique_id_from_hyperparameters(hyperparameters):\n",
        "  return \"h_\" + str(hyperparameters[\"hidden_layer_dim\"]) +\\\n",
        "   \"_o_\" + str(hyperparameters[\"optimizer\"]) +\\\n",
        "   \"_m_\" + '-'.join(hyperparameters[\"metrics\"]) +\\\n",
        "   \"_e_\" + str(hyperparameters[\"epochs\"]) +\\\n",
        "   \"_b_\" + str(hyperparameters[\"batch_size\"])"
      ],
      "execution_count": 58,
      "outputs": []
    },
    {
      "cell_type": "code",
      "metadata": {
        "id": "sMhDK-rRGXKu",
        "colab": {
          "base_uri": "https://localhost:8080/",
          "height": 740
        },
        "outputId": "9a5d7e1a-ad2b-4b18-ea37-c9ff89bbc60f"
      },
      "source": [
        "# Initial_hyper_parameters.\n",
        "parameters = {\n",
        "  \"hidden_layer_dim\": 56,\n",
        "  \"optimizer\": 'adam',\n",
        "  \"loss\": tf.keras.losses.CategoricalCrossentropy(from_logits=True),\n",
        "  \"metrics\": ['categorical_accuracy'],\n",
        "  \"epochs\": 5,\n",
        "  \"batch_size\": 32\n",
        "}\n",
        "\n",
        "# The Deep Neural Network Layer Structure.\n",
        "model_1 = tf.keras.Sequential([\n",
        "    tf.keras.layers.Flatten(input_shape=INPUT_DIM),\n",
        "    tf.keras.layers.Dense(parameters[\"hidden_layer_dim\"], activation='relu'),\n",
        "    tf.keras.layers.Dropout(0.3),\n",
        "    tf.keras.layers.Dense(OUTPUT_CLASSES)\n",
        "])\n",
        "\n",
        "# Train MLP.\n",
        "id = get_unique_id_from_hyperparameters(parameters)\n",
        "mlp(main_train_set, main_validation_set, main_test_set, parameters, model_1, str(id))\n",
        "\n",
        "# Save model 1\n",
        "model_1.save(\"model_1\")\n",
        "!cp -R ./model_1 /content/drive/'My Drive'/CML-Assignment-2/models/"
      ],
      "execution_count": 62,
      "outputs": [
        {
          "output_type": "stream",
          "text": [
            "Found 6463 validated image filenames belonging to 2 classes.\n",
            "Found 1679 validated image filenames belonging to 2 classes.\n",
            "Found 1754 validated image filenames belonging to 2 classes.\n",
            "Model: \"sequential_11\"\n",
            "_________________________________________________________________\n",
            "Layer (type)                 Output Shape              Param #   \n",
            "=================================================================\n",
            "flatten_11 (Flatten)         (None, 2187)              0         \n",
            "_________________________________________________________________\n",
            "dense_22 (Dense)             (None, 56)                122528    \n",
            "_________________________________________________________________\n",
            "dropout_11 (Dropout)         (None, 56)                0         \n",
            "_________________________________________________________________\n",
            "dense_23 (Dense)             (None, 2)                 114       \n",
            "=================================================================\n",
            "Total params: 122,642\n",
            "Trainable params: 122,642\n",
            "Non-trainable params: 0\n",
            "_________________________________________________________________\n"
          ],
          "name": "stdout"
        },
        {
          "output_type": "error",
          "ename": "OSError",
          "evalue": "ignored",
          "traceback": [
            "\u001b[0;31m---------------------------------------------------------------------------\u001b[0m",
            "\u001b[0;31mOSError\u001b[0m                                   Traceback (most recent call last)",
            "\u001b[0;32m<ipython-input-62-f614755928a5>\u001b[0m in \u001b[0;36m<module>\u001b[0;34m()\u001b[0m\n\u001b[1;32m     19\u001b[0m \u001b[0;31m# Train MLP.\u001b[0m\u001b[0;34m\u001b[0m\u001b[0;34m\u001b[0m\u001b[0;34m\u001b[0m\u001b[0m\n\u001b[1;32m     20\u001b[0m \u001b[0mid\u001b[0m \u001b[0;34m=\u001b[0m \u001b[0mget_unique_id_from_hyperparameters\u001b[0m\u001b[0;34m(\u001b[0m\u001b[0mparameters\u001b[0m\u001b[0;34m)\u001b[0m\u001b[0;34m\u001b[0m\u001b[0;34m\u001b[0m\u001b[0m\n\u001b[0;32m---> 21\u001b[0;31m \u001b[0mmlp\u001b[0m\u001b[0;34m(\u001b[0m\u001b[0mmain_train_set\u001b[0m\u001b[0;34m,\u001b[0m \u001b[0mmain_validation_set\u001b[0m\u001b[0;34m,\u001b[0m \u001b[0mmain_test_set\u001b[0m\u001b[0;34m,\u001b[0m \u001b[0mparameters\u001b[0m\u001b[0;34m,\u001b[0m \u001b[0mmodel_1\u001b[0m\u001b[0;34m,\u001b[0m \u001b[0mstr\u001b[0m\u001b[0;34m(\u001b[0m\u001b[0mid\u001b[0m\u001b[0;34m)\u001b[0m\u001b[0;34m)\u001b[0m\u001b[0;34m\u001b[0m\u001b[0;34m\u001b[0m\u001b[0m\n\u001b[0m\u001b[1;32m     22\u001b[0m \u001b[0;34m\u001b[0m\u001b[0m\n\u001b[1;32m     23\u001b[0m \u001b[0;31m# Save model 1\u001b[0m\u001b[0;34m\u001b[0m\u001b[0;34m\u001b[0m\u001b[0;34m\u001b[0m\u001b[0m\n",
            "\u001b[0;32m<ipython-input-60-3ccc498297eb>\u001b[0m in \u001b[0;36mmlp\u001b[0;34m(train_set, val_set, test_set, hyper_parameters, model, unique_id)\u001b[0m\n\u001b[1;32m     23\u001b[0m   \u001b[0;31m# Load model from checkpoint path\u001b[0m\u001b[0;34m\u001b[0m\u001b[0;34m\u001b[0m\u001b[0;34m\u001b[0m\u001b[0m\n\u001b[1;32m     24\u001b[0m   \u001b[0mlatest\u001b[0m \u001b[0;34m=\u001b[0m \u001b[0mtf\u001b[0m\u001b[0;34m.\u001b[0m\u001b[0mtrain\u001b[0m\u001b[0;34m.\u001b[0m\u001b[0mlatest_checkpoint\u001b[0m\u001b[0;34m(\u001b[0m\u001b[0mcheckpoint_dir\u001b[0m\u001b[0;34m)\u001b[0m\u001b[0;34m\u001b[0m\u001b[0;34m\u001b[0m\u001b[0m\n\u001b[0;32m---> 25\u001b[0;31m   \u001b[0mloaded_model\u001b[0m \u001b[0;34m=\u001b[0m \u001b[0mtf\u001b[0m\u001b[0;34m.\u001b[0m\u001b[0mkeras\u001b[0m\u001b[0;34m.\u001b[0m\u001b[0mmodels\u001b[0m\u001b[0;34m.\u001b[0m\u001b[0mload_model\u001b[0m\u001b[0;34m(\u001b[0m\u001b[0mcheckpoint_dir\u001b[0m\u001b[0;34m)\u001b[0m\u001b[0;34m\u001b[0m\u001b[0;34m\u001b[0m\u001b[0m\n\u001b[0m\u001b[1;32m     26\u001b[0m   \u001b[0mprint\u001b[0m\u001b[0;34m(\u001b[0m\u001b[0mloaded_model\u001b[0m\u001b[0;34m)\u001b[0m\u001b[0;34m\u001b[0m\u001b[0;34m\u001b[0m\u001b[0m\n\u001b[1;32m     27\u001b[0m   \u001b[0;31m# saver = tf.train.Saver()\u001b[0m\u001b[0;34m\u001b[0m\u001b[0;34m\u001b[0m\u001b[0;34m\u001b[0m\u001b[0m\n",
            "\u001b[0;32m/usr/local/lib/python3.7/dist-packages/tensorflow/python/keras/saving/save.py\u001b[0m in \u001b[0;36mload_model\u001b[0;34m(filepath, custom_objects, compile, options)\u001b[0m\n\u001b[1;32m    209\u001b[0m       \u001b[0mfilepath\u001b[0m \u001b[0;34m=\u001b[0m \u001b[0mpath_to_string\u001b[0m\u001b[0;34m(\u001b[0m\u001b[0mfilepath\u001b[0m\u001b[0;34m)\u001b[0m\u001b[0;34m\u001b[0m\u001b[0;34m\u001b[0m\u001b[0m\n\u001b[1;32m    210\u001b[0m       \u001b[0;32mif\u001b[0m \u001b[0misinstance\u001b[0m\u001b[0;34m(\u001b[0m\u001b[0mfilepath\u001b[0m\u001b[0;34m,\u001b[0m \u001b[0msix\u001b[0m\u001b[0;34m.\u001b[0m\u001b[0mstring_types\u001b[0m\u001b[0;34m)\u001b[0m\u001b[0;34m:\u001b[0m\u001b[0;34m\u001b[0m\u001b[0;34m\u001b[0m\u001b[0m\n\u001b[0;32m--> 211\u001b[0;31m         \u001b[0mloader_impl\u001b[0m\u001b[0;34m.\u001b[0m\u001b[0mparse_saved_model\u001b[0m\u001b[0;34m(\u001b[0m\u001b[0mfilepath\u001b[0m\u001b[0;34m)\u001b[0m\u001b[0;34m\u001b[0m\u001b[0;34m\u001b[0m\u001b[0m\n\u001b[0m\u001b[1;32m    212\u001b[0m         \u001b[0;32mreturn\u001b[0m \u001b[0msaved_model_load\u001b[0m\u001b[0;34m.\u001b[0m\u001b[0mload\u001b[0m\u001b[0;34m(\u001b[0m\u001b[0mfilepath\u001b[0m\u001b[0;34m,\u001b[0m \u001b[0mcompile\u001b[0m\u001b[0;34m,\u001b[0m \u001b[0moptions\u001b[0m\u001b[0;34m)\u001b[0m\u001b[0;34m\u001b[0m\u001b[0;34m\u001b[0m\u001b[0m\n\u001b[1;32m    213\u001b[0m \u001b[0;34m\u001b[0m\u001b[0m\n",
            "\u001b[0;32m/usr/local/lib/python3.7/dist-packages/tensorflow/python/saved_model/loader_impl.py\u001b[0m in \u001b[0;36mparse_saved_model\u001b[0;34m(export_dir)\u001b[0m\n\u001b[1;32m    112\u001b[0m                   (export_dir,\n\u001b[1;32m    113\u001b[0m                    \u001b[0mconstants\u001b[0m\u001b[0;34m.\u001b[0m\u001b[0mSAVED_MODEL_FILENAME_PBTXT\u001b[0m\u001b[0;34m,\u001b[0m\u001b[0;34m\u001b[0m\u001b[0;34m\u001b[0m\u001b[0m\n\u001b[0;32m--> 114\u001b[0;31m                    constants.SAVED_MODEL_FILENAME_PB))\n\u001b[0m\u001b[1;32m    115\u001b[0m \u001b[0;34m\u001b[0m\u001b[0m\n\u001b[1;32m    116\u001b[0m \u001b[0;34m\u001b[0m\u001b[0m\n",
            "\u001b[0;31mOSError\u001b[0m: SavedModel file does not exist at: h_56_o_adam_m_categorical_accuracy_e_5_b_32/{saved_model.pbtxt|saved_model.pb}"
          ]
        }
      ]
    },
    {
      "cell_type": "code",
      "metadata": {
        "id": "ZqM2IUzCjp23"
      },
      "source": [
        "tf.train.latest_checkpoint(checkpoint_dir)"
      ],
      "execution_count": null,
      "outputs": []
    },
    {
      "cell_type": "code",
      "metadata": {
        "id": "07nGjuG_yuYf",
        "outputId": "46e3d70d-e808-45f0-a315-3dba45536f7c",
        "colab": {
          "base_uri": "https://localhost:8080/"
        }
      },
      "source": [
        "print(get_unique_id_from_hyperparameters(parameters))"
      ],
      "execution_count": 59,
      "outputs": [
        {
          "output_type": "stream",
          "text": [
            "h_56_o_adam_m_categorical_accuracy_e_5_b_32\n"
          ],
          "name": "stdout"
        }
      ]
    },
    {
      "cell_type": "markdown",
      "metadata": {
        "id": "5Q3tzW878075"
      },
      "source": [
        "Deep Learning HOG CV - Shekhar"
      ]
    },
    {
      "cell_type": "code",
      "metadata": {
        "id": "C8LSpWgCGe0e"
      },
      "source": [
        ""
      ],
      "execution_count": null,
      "outputs": []
    },
    {
      "cell_type": "markdown",
      "metadata": {
        "id": "a0Mu41j0GgJl"
      },
      "source": [
        ""
      ]
    },
    {
      "cell_type": "code",
      "metadata": {
        "id": "jAubqXo2GeQv"
      },
      "source": [
        ""
      ],
      "execution_count": null,
      "outputs": []
    },
    {
      "cell_type": "code",
      "metadata": {
        "id": "L41kZfCrGdSP"
      },
      "source": [
        ""
      ],
      "execution_count": null,
      "outputs": []
    },
    {
      "cell_type": "markdown",
      "metadata": {
        "id": "JuoqWw6a8075"
      },
      "source": [
        "CNN"
      ]
    },
    {
      "cell_type": "code",
      "metadata": {
        "id": "wDCF-8NzwOWQ"
      },
      "source": [
        "# CNN\n",
        "# model_VGG_3 = tf.keras.Sequential([\n",
        "#     #VGG block 1\n",
        "#     tf.keras.layers.Conv2D(32, (3, 3), activation='relu', padding='same', \n",
        "#                            kernel_regularizer=tf.keras.regularizers.l2(reg_lambda), input_shape=(32, 32, 3)),\n",
        "#     tf.keras.layers.Conv2D(32, (3, 3), activation='relu', padding='same', \n",
        "#                            kernel_regularizer=tf.keras.regularizers.l2(reg_lambda)),\n",
        "#     tf.keras.layers.MaxPooling2D((2, 2)),\n",
        "    \n",
        "#     #VGG block 2\n",
        "#     tf.keras.layers.Conv2D(64, (3, 3), activation='relu', padding='same', \n",
        "#                            kernel_regularizer=tf.keras.regularizers.l2(reg_lambda)),\n",
        "#     tf.keras.layers.Conv2D(64, (3, 3), activation='relu', padding='same', \n",
        "#                            kernel_regularizer=tf.keras.regularizers.l2(reg_lambda)),\n",
        "#     tf.keras.layers.MaxPooling2D((2, 2)),\n",
        "    \n",
        "#     #VGG block 3\n",
        "#     tf.keras.layers.Conv2D(128, (3, 3), activation='relu', padding='same', \n",
        "#                            kernel_regularizer=tf.keras.regularizers.l2(reg_lambda)),\n",
        "#     tf.keras.layers.Conv2D(128, (3, 3), activation='relu', padding='same', \n",
        "#                            kernel_regularizer=tf.keras.regularizers.l2(reg_lambda)),\n",
        "#     tf.keras.layers.MaxPooling2D((2, 2)),\n",
        "    \n",
        "    \n",
        "#     tf.keras.layers.Flatten(),\n",
        "#     tf.keras.layers.Dense(128, activation='relu', kernel_regularizer=tf.keras.regularizers.l2(reg_lambda)),\n",
        "#     tf.keras.layers.Dense(OUTPUT_CLASSES),\n",
        "# ])\n",
        "\n",
        "# Save model\n",
        "# model_VGG_3.save(\"model_VGG_3\")"
      ],
      "execution_count": null,
      "outputs": []
    },
    {
      "cell_type": "markdown",
      "metadata": {
        "id": "2kSAcSRR8075"
      },
      "source": [
        "Investigate Other Techniques hopefully OP"
      ]
    },
    {
      "cell_type": "markdown",
      "metadata": {
        "id": "yd6tRLrJ8075"
      },
      "source": [
        "Explore how the data in both tasks can be used to improve the cell-type classification"
      ]
    },
    {
      "cell_type": "markdown",
      "metadata": {
        "id": "fWcsJoGG8075"
      },
      "source": [
        ""
      ]
    },
    {
      "cell_type": "markdown",
      "metadata": {
        "id": "C3MzFrYk8076"
      },
      "source": [
        ""
      ]
    },
    {
      "cell_type": "markdown",
      "metadata": {
        "id": "6miThHFK8076"
      },
      "source": [
        ""
      ]
    },
    {
      "cell_type": "markdown",
      "metadata": {
        "id": "TAEiEOn48076"
      },
      "source": [
        ""
      ]
    },
    {
      "cell_type": "markdown",
      "metadata": {
        "id": "HXNXMa7Q8076"
      },
      "source": [
        ""
      ]
    },
    {
      "cell_type": "markdown",
      "metadata": {
        "id": "5aB8Ko3l3Ms-"
      },
      "source": [
        "# 4 - Ultimate Judgment"
      ]
    },
    {
      "cell_type": "markdown",
      "metadata": {
        "id": "6QYpeHXn3PRk"
      },
      "source": [
        ""
      ]
    },
    {
      "cell_type": "markdown",
      "metadata": {
        "id": "0uBKhz5F8070"
      },
      "source": [
        "# 5 - Improving Ultimate Judgment with Extra Data Set"
      ]
    },
    {
      "cell_type": "markdown",
      "metadata": {
        "id": "7oiluHVy3bRA"
      },
      "source": [
        "## Extra Data Set EDA"
      ]
    },
    {
      "cell_type": "markdown",
      "metadata": {
        "id": "H9mRmvIMjtNC"
      },
      "source": [
        "### 1.2.1 - Splitting the data"
      ]
    },
    {
      "cell_type": "code",
      "metadata": {
        "id": "UELrkdhVjwc6"
      },
      "source": [
        "extra_train_set, extra_validation_set, extra_test_set = train_val_test_split_by_column(extra_data, 'patientID')"
      ],
      "execution_count": null,
      "outputs": []
    },
    {
      "cell_type": "code",
      "metadata": {
        "id": "ENLje1UKjwc6"
      },
      "source": [
        "print('Overall ferquency of isCancerous:')\n",
        "print(extra_data.isCancerous.value_counts().to_frame())\n",
        "\n",
        "print('Frequency of isCancerous in training data: ')\n",
        "print(extra_train_set.isCancerous.value_counts().to_frame())\n",
        "\n",
        "print('Frequency of isCancerous in validation data: ')\n",
        "print(extra_validation_set.isCancerous.value_counts().to_frame())\n",
        "\n",
        "print('Frequency of isCancerous in test data: ')\n",
        "print(extra_test_set.isCancerous.value_counts().to_frame())"
      ],
      "execution_count": null,
      "outputs": []
    },
    {
      "cell_type": "code",
      "metadata": {
        "id": "Be0zSg95W71S"
      },
      "source": [
        "# Graph the results\n",
        "plt.figure(figsize=(3,3))\n",
        "col = \"isCancerous\"\n",
        "hist_plot(col, [extra_train_set[col], main_validation_set[col], main_test_set[col]], ['r', 'y', 'b'], 1, 1, 1)"
      ],
      "execution_count": null,
      "outputs": []
    },
    {
      "cell_type": "markdown",
      "metadata": {
        "id": "uW7DvH91Wu9i"
      },
      "source": [
        "🧐 **Observations:**\n",
        "> - There is very little cancerous cells in the train set, but a lot of non cancerous cells in the train set.\n",
        "> - \n",
        "\n",
        "👨🏻‍🎓 **Conclusions**\n",
        "> - "
      ]
    },
    {
      "cell_type": "code",
      "metadata": {
        "id": "CLdVy-rV8071"
      },
      "source": [
        "extra_data.describe()"
      ],
      "execution_count": null,
      "outputs": []
    },
    {
      "cell_type": "code",
      "metadata": {
        "id": "YRubzqMV8071"
      },
      "source": [
        "extra_data.head()"
      ],
      "execution_count": null,
      "outputs": []
    },
    {
      "cell_type": "code",
      "metadata": {
        "id": "KIMpqkUtfOur"
      },
      "source": [
        "extra_data.info()"
      ],
      "execution_count": null,
      "outputs": []
    },
    {
      "cell_type": "markdown",
      "metadata": {
        "id": "qchpKbBcI1q6"
      },
      "source": [
        "🧐 **Observations:**\n",
        "> - \n",
        "\n",
        "👨🏻‍🎓 **Conclusions**\n",
        "> - "
      ]
    },
    {
      "cell_type": "markdown",
      "metadata": {
        "id": "OG6GF-D1ZdEa"
      },
      "source": [
        "### 1.2.2 - Preview\n",
        "Previewing the contents of the main data set."
      ]
    },
    {
      "cell_type": "code",
      "metadata": {
        "id": "y69BoivJZdEf"
      },
      "source": [
        "extra_data.describe()"
      ],
      "execution_count": null,
      "outputs": []
    },
    {
      "cell_type": "code",
      "metadata": {
        "id": "HiOLYovPZdEg"
      },
      "source": [
        "extra_data.head()"
      ],
      "execution_count": null,
      "outputs": []
    },
    {
      "cell_type": "code",
      "metadata": {
        "id": "S9WJXKRXZdEg"
      },
      "source": [
        "extra_data.info()"
      ],
      "execution_count": null,
      "outputs": []
    },
    {
      "cell_type": "code",
      "metadata": {
        "id": "cwAYpr42ZdEh"
      },
      "source": [
        "df = extra_data.groupby(['isCancerous'])['InstanceID'].nunique()\n",
        "print(df)"
      ],
      "execution_count": null,
      "outputs": []
    },
    {
      "cell_type": "markdown",
      "metadata": {
        "id": "KfQW5MV3ZdEh"
      },
      "source": [
        "🧐 **Observations:**\n",
        "> - \n",
        "\n",
        "👨🏻‍🎓 **Conclusions**\n",
        "> - "
      ]
    },
    {
      "cell_type": "markdown",
      "metadata": {
        "id": "zkeTWYKvZdEh"
      },
      "source": [
        "Preview the image data via cell type"
      ]
    },
    {
      "cell_type": "code",
      "metadata": {
        "id": "fp7Sr1hQZdEi"
      },
      "source": [
        "img_list = list(extra_train_set[\"ImageName\"])\n",
        "target_list = list(extra_train_set[\"isCancerous\"])\n",
        "target_labels = {1: \"Cancerous\", 0: \"Non-Cancerous\"}\n",
        "\n",
        "plt.figure(figsize=[25,12])\n",
        "\n",
        "for i in np.arange(40):\n",
        "  plt.subplot(4, 10, i + 1)\n",
        "  img = Image.open('./patch_images/' + img_list[i])\n",
        "\n",
        "  plt.imshow(img)\n",
        "  plt.title(target_labels[target_list[i]])"
      ],
      "execution_count": null,
      "outputs": []
    },
    {
      "cell_type": "code",
      "metadata": {
        "id": "BII2uHi8cCyH"
      },
      "source": [
        "# Check image sizes\n",
        "img = Image.open('./patch_images/' + img_list[100])\n",
        "img_numpy = np.ascontiguousarray(img, dtype=np.float32)\n",
        "print(\"Image size: \\nH:{} W:{} C:{}\".format(img_numpy.shape[0], img_numpy.shape[1], img_numpy.shape[2]))"
      ],
      "execution_count": null,
      "outputs": []
    },
    {
      "cell_type": "markdown",
      "metadata": {
        "id": "Jre9jS5JcMqR"
      },
      "source": [
        "🧐 **Observations:**\n",
        "> - Images are 27 x 27 x 3\n",
        "\n",
        "👨🏻‍🎓 **Conclusions**\n",
        "> - "
      ]
    },
    {
      "cell_type": "markdown",
      "metadata": {
        "id": "c8pitMGUJ3WS"
      },
      "source": [
        "### 1.2.3 - Transformation\n",
        "Set all types to be of type Object. We do this because all the variables are categorical, they don't have any continuous values, so it's easier while creating visualizations."
      ]
    },
    {
      "cell_type": "code",
      "metadata": {
        "id": "dLm0yBgHJ3WT"
      },
      "source": [
        "for column in extra_data.columns:\n",
        "  extra_data[column] = extra_data[column].astype('object')"
      ],
      "execution_count": null,
      "outputs": []
    },
    {
      "cell_type": "code",
      "metadata": {
        "id": "x6ge4vQrJ3WT"
      },
      "source": [
        "print(extra_data.info())"
      ],
      "execution_count": null,
      "outputs": []
    },
    {
      "cell_type": "code",
      "metadata": {
        "id": "yxaQvKitJ3WU"
      },
      "source": [
        "extra_data.describe(include=['object'])"
      ],
      "execution_count": null,
      "outputs": []
    },
    {
      "cell_type": "markdown",
      "metadata": {
        "id": "oVo2d8sYJ3WU"
      },
      "source": [
        "🧐 **Observations:**\n",
        "> - \n",
        "\n",
        "👨🏻‍🎓 **Conclusions**\n",
        "> - "
      ]
    },
    {
      "cell_type": "code",
      "metadata": {
        "id": "XwD8daAKJ3WU"
      },
      "source": [
        "extra_data.describe()"
      ],
      "execution_count": null,
      "outputs": []
    },
    {
      "cell_type": "code",
      "metadata": {
        "id": "Hwf4W3bMJ3WV"
      },
      "source": [
        "extra_data.head()"
      ],
      "execution_count": null,
      "outputs": []
    },
    {
      "cell_type": "code",
      "metadata": {
        "id": "wTlOi4rEJ3WV"
      },
      "source": [
        "extra_data.info()"
      ],
      "execution_count": null,
      "outputs": []
    },
    {
      "cell_type": "markdown",
      "metadata": {
        "id": "NEIoaKKFJ3WV"
      },
      "source": [
        "🧐 **Observations:**\n",
        "> - \n",
        "\n",
        "👨🏻‍🎓 **Conclusions**\n",
        "> - "
      ]
    },
    {
      "cell_type": "markdown",
      "metadata": {
        "id": "t0MfykaAjeCq"
      },
      "source": [
        "### 1.2.4 - Examination"
      ]
    },
    {
      "cell_type": "code",
      "metadata": {
        "id": "WcAVSIqPjkdv"
      },
      "source": [
        "pd.crosstab(extra_data['isCancerous'], extra_data['isCancerous'], margins = False).plot.bar(stacked = True,\n",
        "                                                                                            title = 'Cancer counts in images',\n",
        "                                                                                            xlabel = 'Cancer Exists',\n",
        "                                                                                            ylabel = 'Number of Images')"
      ],
      "execution_count": null,
      "outputs": []
    },
    {
      "cell_type": "markdown",
      "metadata": {
        "id": "r2OBeS-p9zj_"
      },
      "source": [
        "🧐 **Observations:**\n",
        "> - \n",
        "\n",
        "👨🏻‍🎓 **Conclusions**\n",
        "> - "
      ]
    },
    {
      "cell_type": "code",
      "metadata": {
        "id": "jWg33xPNjkdw"
      },
      "source": [
        "extra_data.patientID.value_counts().nlargest(5).to_frame().plot(kind = 'bar', title = 'Top 5 Patients by number of images',\n",
        "                                                               xlabel = 'Patient ID', ylabel = 'Number of images', legend = False,\n",
        "                                                               label = True)"
      ],
      "execution_count": null,
      "outputs": []
    },
    {
      "cell_type": "code",
      "metadata": {
        "id": "bORPBn1cjkdx"
      },
      "source": [
        "extra_data.patientID.value_counts().nsmallest(5).to_frame().plot(kind = 'bar', title = 'Bottom 5 Patients by number of images',\n",
        "                                                                xlabel = 'Patient ID', ylabel = 'Number of images', legend = False)"
      ],
      "execution_count": null,
      "outputs": []
    },
    {
      "cell_type": "markdown",
      "metadata": {
        "id": "4UBVIFAt9xu4"
      },
      "source": [
        "🧐 **Observations:**\n",
        "> - \n",
        "\n",
        "👨🏻‍🎓 **Conclusions**\n",
        "> - "
      ]
    }
  ]
}